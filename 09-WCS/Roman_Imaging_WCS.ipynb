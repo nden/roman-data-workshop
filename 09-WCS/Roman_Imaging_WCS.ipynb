{
 "cells": [
  {
   "cell_type": "markdown",
   "id": "dc93739d",
   "metadata": {},
   "source": [
    "### Roman Imaging WCS"
   ]
  },
  {
   "cell_type": "markdown",
   "id": "a71c691a",
   "metadata": {},
   "source": [
    "#### Generalized World Coordinate System (GWCS) Overview\n",
    "\n",
    "Roman and JWST use the [GWCS](https://gwcs.readthedocs.io/en/latest/) for managing the World Coordinate System WCS). We call \"WCS\" the mapping from \"pixel\" coordinates to some \"real-world\" physical coordinates - celestial, spectral, time, etc. GWCS is a generalized implementation of WCS aiming to mitigate the limitations of the FITS WCS standard. It is a flexible toolkit for expressing and evaluating transformations between pixel and world coordinates, as well as intermediate coordinates. The GWCS object supports a data model which includes the entire transformation pipeline from input pixel coordinates to world coordinates (and vice versa). \n",
    "\n",
    "GWCS is based on astropy and supports the [Shared Interface for WCS](https://github.com/astropy/astropy-APEs/blob/main/APE14.rst). The WCS \"pipeline\" is a list of steps, where each step is a tuple of coordinate frame and a transform to the next frame. \n",
    "\n",
    "Transforms are based on [astropy.modeling](https://docs.astropy.org/en/stable/modeling/) and include [unit](https://docs.astropy.org/en/stable/units/index.html) support. Coordinate frames utilize [astropy.coordinates](https://docs.astropy.org/en/stable/coordinates/index.html). \n",
    "The GWCS object is serialized to [ASDF](https://asdf-standard.readthedocs.io/en/latest/) using the ASDF [WCS](https://asdf-wcs-schemas.readthedocs.io/en/latest/) and [transforms](https://asdf-transform-schemas.readthedocs.io/en/latest/) extensions."
   ]
  },
  {
   "cell_type": "markdown",
   "id": "30985049",
   "metadata": {},
   "source": [
    "#### Roman Imaging WCS\n",
    "\n",
    "The `assign_wcs` step in the Roman calibration pipeline constructs a WCS object and assigns it to the Level 2 image. The distortion transformations are stored in a reference file in CRDS, with `reftype=distortion`. The distortion includes all transformsations from a detector to a coordinate frame associated with the telescope `(V2, V3)`. The telescope telemetry is used to transform from `(V2, V3)` to celestial coordinates.\n",
    "\n"
   ]
  },
  {
   "cell_type": "markdown",
   "id": "e1dde8e8",
   "metadata": {},
   "source": [
    "We can use `asdf` or `roman_datamodels` to open the file and retrieve the WCS object."
   ]
  },
  {
   "cell_type": "code",
   "execution_count": 1,
   "id": "8ef0a0b2",
   "metadata": {},
   "outputs": [],
   "source": [
    "from roman_datamodels import datamodels as rdm"
   ]
  },
  {
   "cell_type": "code",
   "execution_count": 2,
   "id": "6f4b00c1",
   "metadata": {},
   "outputs": [
    {
     "data": {
      "text/plain": [
       "\u001b[1mroot\u001b[0m (AsdfObject)\n",
       "\u001b[2m└─\u001b[0m\u001b[1mroman\u001b[0m (WfiImage)\u001b[2m\u001b[3m # The schema for WFI Level 2 images.\n",
       "\u001b[0m\u001b[0m\n",
       "\u001b[2m  └─\u001b[0m\u001b[1mmeta\u001b[0m (dict)\n",
       "\u001b[2m    ├─\u001b[0m\u001b[1mcal_step\u001b[0m (CalStep)\u001b[2m\u001b[3m # Calibration Status\u001b[0m\u001b[0m\n",
       "\u001b[2m    │ └─\u001b[0m\u001b[1massign_wcs\u001b[0m (str): COMPLETE\u001b[2m\u001b[3m # Assign World Coordinate System\u001b[0m\u001b[0m\n",
       "\u001b[2m    ├─\u001b[0m\u001b[1mwcs\u001b[0m (WCS)\n",
       "\u001b[2m    └─\u001b[0m\u001b[1mwcsinfo\u001b[0m (Wcsinfo)\u001b[2m\u001b[3m # WCS parameters\u001b[0m\u001b[0m"
      ]
     },
     "execution_count": 2,
     "metadata": {},
     "output_type": "execute_result"
    }
   ],
   "source": [
    "image = rdm.open('r002_assign_wcs.asdf')\n",
    "\n",
    "image.search('wcs')"
   ]
  },
  {
   "cell_type": "code",
   "execution_count": 3,
   "id": "f3c8fb39",
   "metadata": {},
   "outputs": [],
   "source": [
    "w = image.meta.wcs"
   ]
  },
  {
   "cell_type": "markdown",
   "id": "67632e90",
   "metadata": {},
   "source": [
    "`print` shows the WCS pipeline, while `repr` prints all transforms."
   ]
  },
  {
   "cell_type": "code",
   "execution_count": 5,
   "id": "37e4824e",
   "metadata": {},
   "outputs": [
    {
     "name": "stdout",
     "output_type": "stream",
     "text": [
      "  From     Transform  \n",
      "-------- -------------\n",
      "detector CompoundModel\n",
      "    v2v3      v23tosky\n",
      "   world          None\n"
     ]
    }
   ],
   "source": [
    "print(w)"
   ]
  },
  {
   "cell_type": "code",
   "execution_count": 6,
   "id": "3f5cff25",
   "metadata": {},
   "outputs": [
    {
     "data": {
      "text/plain": [
       "<WCS(output_frame=world, input_frame=detector, forward_transform=Model: CompoundModel\n",
       "Inputs: ('x0', 'x1')\n",
       "Outputs: ('lon', 'lat')\n",
       "Model set size: 1\n",
       "Expression: [0] & [1] | [2] & [3] | [4] | [5] & [6] | [7] | [8] & [9] | [10] & [11] | [12] & [13] | [14] | [15] | [16]\n",
       "Components: \n",
       "    [0]: <Shift(offset=1.)>\n",
       "\n",
       "    [1]: <Shift(offset=1.)>\n",
       "\n",
       "    [2]: <Shift(offset=-2044.5)>\n",
       "\n",
       "    [3]: <Shift(offset=-2044.5)>\n",
       "\n",
       "    [4]: <Mapping((0, 1, 0, 1))>\n",
       "\n",
       "    [5]: <Polynomial2D(5, c0_0=0., c1_0=0.10900268, c2_0=-0.00000016, c3_0=-0., c4_0=0., c5_0=0., c0_1=0.00128425, c0_2=-0.00000005, c0_3=-0., c0_4=0., c0_5=0., c1_1=0.00000011, c1_2=-0., c1_3=0., c1_4=-0., c2_1=-0., c2_2=-0., c2_3=0., c3_1=-0., c3_2=-0., c4_1=0.)>\n",
       "\n",
       "    [6]: <Polynomial2D(5, c0_0=0., c1_0=0.00125276, c2_0=0.00000005, c3_0=-0., c4_0=0., c5_0=0., c0_1=0.10887167, c0_2=0.00000017, c0_3=-0., c0_4=0., c0_5=-0., c1_1=-0.0000001, c1_2=-0., c1_3=0., c1_4=-0., c2_1=-0., c2_2=-0., c2_3=-0., c3_1=0., c3_2=0., c4_1=-0.)>\n",
       "\n",
       "    [7]: <Mapping((0, 1, 0, 1))>\n",
       "\n",
       "    [8]: <Polynomial2D(1, c0_0=0., c1_0=-0.5, c0_1=-0.8660254)>\n",
       "\n",
       "    [9]: <Polynomial2D(1, c0_0=0., c1_0=-0.8660254, c0_1=0.5)>\n",
       "\n",
       "    [10]: <Shift(offset=536.01443984)>\n",
       "\n",
       "    [11]: <Shift(offset=-1718.74775661)>\n",
       "\n",
       "    [12]: <Scale(factor=0.00027778)>\n",
       "\n",
       "    [13]: <Scale(factor=0.00027778)>\n",
       "\n",
       "    [14]: <SphericalToCartesian()>\n",
       "\n",
       "    [15]: <RotationSequence3D(angles=[  0.1488929 ,   0.47742993,   0.        , -69.32761623, -83.87999291])>\n",
       "\n",
       "    [16]: <CartesianToSpherical()>\n",
       "Parameters:\n",
       "    offset_0 offset_1 ...               angles_15 [5]              \n",
       "    -------- -------- ... -----------------------------------------\n",
       "         1.0      1.0 ... 0.14889289995538668 .. -83.87999291003202)>"
      ]
     },
     "execution_count": 6,
     "metadata": {},
     "output_type": "execute_result"
    }
   ],
   "source": [
    "w"
   ]
  },
  {
   "cell_type": "markdown",
   "id": "467442cf",
   "metadata": {},
   "source": [
    "The WCS can be evaluated directly as a function or using the Shared WCS Interface methods"
   ]
  },
  {
   "cell_type": "code",
   "execution_count": 7,
   "id": "315726fc",
   "metadata": {},
   "outputs": [],
   "source": [
    "from gwcs.wcstools import grid_from_bounding_box"
   ]
  },
  {
   "cell_type": "markdown",
   "id": "a854834b",
   "metadata": {},
   "source": [
    "The `bounding_box` of a WCS object represents the range of input values over which the transforms are valid. Typically it is the full detector. By default, input values outside the `bounding box` return `NaN`s. "
   ]
  },
  {
   "cell_type": "code",
   "execution_count": 9,
   "id": "d30e6159",
   "metadata": {},
   "outputs": [
    {
     "data": {
      "text/plain": [
       "ModelBoundingBox(\n",
       "    intervals={\n",
       "        x0: Interval(lower=-0.5, upper=4087.5)\n",
       "        x1: Interval(lower=-0.5, upper=4087.5)\n",
       "    }\n",
       "    model=CompoundModel(inputs=('x0', 'x1'))\n",
       "    order='C'\n",
       ")"
      ]
     },
     "execution_count": 9,
     "metadata": {},
     "output_type": "execute_result"
    }
   ],
   "source": [
    "w.bounding_box"
   ]
  },
  {
   "cell_type": "code",
   "execution_count": 10,
   "id": "c680a1a8",
   "metadata": {},
   "outputs": [],
   "source": [
    "x, y = grid_from_bounding_box(w.bounding_box)"
   ]
  },
  {
   "cell_type": "markdown",
   "id": "7cd99c84",
   "metadata": {},
   "source": [
    "Evaluating the WCS object returns the numerical values of the result."
   ]
  },
  {
   "cell_type": "code",
   "execution_count": 11,
   "id": "d39e1ded",
   "metadata": {},
   "outputs": [
    {
     "name": "stdout",
     "output_type": "stream",
     "text": [
      "[[84.12146342 84.12141994 84.12137645 ... 83.94316241 83.94311863\n",
      "  83.94307486]\n",
      " [84.12138907 84.12134559 84.1213021  ... 83.94308787 83.94304409\n",
      "  83.94300032]\n",
      " [84.12131473 84.12127124 84.12122775 ... 83.94301333 83.94296955\n",
      "  83.94292578]\n",
      " ...\n",
      " [83.81675817 83.81671447 83.81667077 ... 83.63789396 83.6378501\n",
      "  83.63780624]\n",
      " [83.81668342 83.81663971 83.81659601 ... 83.63781911 83.63777525\n",
      "  83.63773139]\n",
      " [83.81660866 83.81656496 83.81652126 ... 83.63774425 83.63770039\n",
      "  83.63765653]] [[-69.30432586 -69.30435206 -69.30437827 ... -69.41052071 -69.41054647\n",
      "  -69.41057224]\n",
      " [-69.30431122 -69.30433742 -69.30436362 ... -69.41050617 -69.41053193\n",
      "  -69.4105577 ]\n",
      " [-69.30429657 -69.30432277 -69.30434897 ... -69.41049163 -69.4105174\n",
      "  -69.41054316]\n",
      " ...\n",
      " [-69.24365518 -69.24368144 -69.24370771 ... -69.350207   -69.35023287\n",
      "  -69.35025874]\n",
      " [-69.24364013 -69.2436664  -69.24369266 ... -69.35019202 -69.35021789\n",
      "  -69.35024376]\n",
      " [-69.24362508 -69.24365135 -69.24367762 ... -69.35017704 -69.35020291\n",
      "  -69.35022878]]\n"
     ]
    }
   ],
   "source": [
    "ra, dec = w(x, y)\n",
    "print (ra, dec)"
   ]
  },
  {
   "cell_type": "markdown",
   "id": "20195f13",
   "metadata": {},
   "source": [
    "Using the Shared WCS interface methods returns a Python object of type astropy.coordinates.SkyCoord."
   ]
  },
  {
   "cell_type": "code",
   "execution_count": 12,
   "id": "d0a9a69f",
   "metadata": {},
   "outputs": [],
   "source": [
    "sky = w.pixel_to_world(x, y)"
   ]
  },
  {
   "cell_type": "code",
   "execution_count": 13,
   "id": "1dffaa5f",
   "metadata": {},
   "outputs": [
    {
     "name": "stdout",
     "output_type": "stream",
     "text": [
      "<SkyCoord (ICRS): (ra, dec) in deg\n",
      "    [[(84.12146342, -69.30432586), (84.12141994, -69.30435206),\n",
      "      (84.12137645, -69.30437827), ..., (83.94316241, -69.41052071),\n",
      "      (83.94311863, -69.41054647), (83.94307486, -69.41057224)],\n",
      "     [(84.12138907, -69.30431122), (84.12134559, -69.30433742),\n",
      "      (84.1213021 , -69.30436362), ..., (83.94308787, -69.41050617),\n",
      "      (83.94304409, -69.41053193), (83.94300032, -69.4105577 )],\n",
      "     [(84.12131473, -69.30429657), (84.12127124, -69.30432277),\n",
      "      (84.12122775, -69.30434897), ..., (83.94301333, -69.41049163),\n",
      "      (83.94296955, -69.4105174 ), (83.94292578, -69.41054316)],\n",
      "     ...,\n",
      "     [(83.81675817, -69.24365518), (83.81671447, -69.24368144),\n",
      "      (83.81667077, -69.24370771), ..., (83.63789396, -69.350207  ),\n",
      "      (83.6378501 , -69.35023287), (83.63780624, -69.35025874)],\n",
      "     [(83.81668342, -69.24364013), (83.81663971, -69.2436664 ),\n",
      "      (83.81659601, -69.24369266), ..., (83.63781911, -69.35019202),\n",
      "      (83.63777525, -69.35021789), (83.63773139, -69.35024376)],\n",
      "     [(83.81660866, -69.24362508), (83.81656496, -69.24365135),\n",
      "      (83.81652126, -69.24367762), ..., (83.63774425, -69.35017704),\n",
      "      (83.63770039, -69.35020291), (83.63765653, -69.35022878)]]>\n"
     ]
    }
   ],
   "source": [
    "print(sky)"
   ]
  },
  {
   "cell_type": "markdown",
   "id": "3a850816",
   "metadata": {},
   "source": [
    "Other useful methods include\n",
    "\n",
    "`getting a transform between intermediate frames`"
   ]
  },
  {
   "cell_type": "code",
   "execution_count": 14,
   "id": "d7ed3c6b",
   "metadata": {},
   "outputs": [
    {
     "name": "stdout",
     "output_type": "stream",
     "text": [
      "Model: CompoundModel\n",
      "Inputs: ('x0', 'x1')\n",
      "Outputs: ('y0', 'y1')\n",
      "Model set size: 1\n",
      "Expression: [0] & [1] | [2] & [3] | [4] | [5] & [6] | [7] | [8] & [9] | [10] & [11]\n",
      "Components: \n",
      "    [0]: <Shift(offset=1.)>\n",
      "\n",
      "    [1]: <Shift(offset=1.)>\n",
      "\n",
      "    [2]: <Shift(offset=-2044.5)>\n",
      "\n",
      "    [3]: <Shift(offset=-2044.5)>\n",
      "\n",
      "    [4]: <Mapping((0, 1, 0, 1))>\n",
      "\n",
      "    [5]: <Polynomial2D(5, c0_0=0., c1_0=0.10900268, c2_0=-0.00000016, c3_0=-0., c4_0=0., c5_0=0., c0_1=0.00128425, c0_2=-0.00000005, c0_3=-0., c0_4=0., c0_5=0., c1_1=0.00000011, c1_2=-0., c1_3=0., c1_4=-0., c2_1=-0., c2_2=-0., c2_3=0., c3_1=-0., c3_2=-0., c4_1=0.)>\n",
      "\n",
      "    [6]: <Polynomial2D(5, c0_0=0., c1_0=0.00125276, c2_0=0.00000005, c3_0=-0., c4_0=0., c5_0=0., c0_1=0.10887167, c0_2=0.00000017, c0_3=-0., c0_4=0., c0_5=-0., c1_1=-0.0000001, c1_2=-0., c1_3=0., c1_4=-0., c2_1=-0., c2_2=-0., c2_3=-0., c3_1=0., c3_2=0., c4_1=-0.)>\n",
      "\n",
      "    [7]: <Mapping((0, 1, 0, 1))>\n",
      "\n",
      "    [8]: <Polynomial2D(1, c0_0=0., c1_0=-0.5, c0_1=-0.8660254)>\n",
      "\n",
      "    [9]: <Polynomial2D(1, c0_0=0., c1_0=-0.8660254, c0_1=0.5)>\n",
      "\n",
      "    [10]: <Shift(offset=536.01443984)>\n",
      "\n",
      "    [11]: <Shift(offset=-1718.74775661)>\n",
      "Parameters:\n",
      "    offset_0 offset_1 offset_2 ...    offset_10          offset_11     \n",
      "    -------- -------- -------- ... ---------------- -------------------\n",
      "         1.0      1.0  -2044.5 ... 536.014439839392 -1718.7477566076013\n"
     ]
    }
   ],
   "source": [
    "detector_to_v2v3 = w.get_transform('detector', 'v2v3')\n",
    "print(detector_to_v2v3)"
   ]
  },
  {
   "cell_type": "markdown",
   "id": "771bbce0",
   "metadata": {},
   "source": [
    "`showing the coorindate frames in the WCS pipeline`"
   ]
  },
  {
   "cell_type": "code",
   "execution_count": 15,
   "id": "b1a2386a",
   "metadata": {},
   "outputs": [
    {
     "name": "stdout",
     "output_type": "stream",
     "text": [
      "['detector', 'v2v3', 'world']\n"
     ]
    }
   ],
   "source": [
    "print(w.available_frames)"
   ]
  },
  {
   "cell_type": "markdown",
   "id": "801b0920",
   "metadata": {},
   "source": [
    "Retrieving the entire `forward` or `backward` transform"
   ]
  },
  {
   "cell_type": "code",
   "execution_count": 16,
   "id": "204f1079",
   "metadata": {},
   "outputs": [
    {
     "name": "stdout",
     "output_type": "stream",
     "text": [
      "Model: CompoundModel\n",
      "Inputs: ('x0', 'x1')\n",
      "Outputs: ('lon', 'lat')\n",
      "Model set size: 1\n",
      "Expression: [0] & [1] | [2] & [3] | [4] | [5] & [6] | [7] | [8] & [9] | [10] & [11] | [12] & [13] | [14] | [15] | [16]\n",
      "Components: \n",
      "    [0]: <Shift(offset=1.)>\n",
      "\n",
      "    [1]: <Shift(offset=1.)>\n",
      "\n",
      "    [2]: <Shift(offset=-2044.5)>\n",
      "\n",
      "    [3]: <Shift(offset=-2044.5)>\n",
      "\n",
      "    [4]: <Mapping((0, 1, 0, 1))>\n",
      "\n",
      "    [5]: <Polynomial2D(5, c0_0=0., c1_0=0.10900268, c2_0=-0.00000016, c3_0=-0., c4_0=0., c5_0=0., c0_1=0.00128425, c0_2=-0.00000005, c0_3=-0., c0_4=0., c0_5=0., c1_1=0.00000011, c1_2=-0., c1_3=0., c1_4=-0., c2_1=-0., c2_2=-0., c2_3=0., c3_1=-0., c3_2=-0., c4_1=0.)>\n",
      "\n",
      "    [6]: <Polynomial2D(5, c0_0=0., c1_0=0.00125276, c2_0=0.00000005, c3_0=-0., c4_0=0., c5_0=0., c0_1=0.10887167, c0_2=0.00000017, c0_3=-0., c0_4=0., c0_5=-0., c1_1=-0.0000001, c1_2=-0., c1_3=0., c1_4=-0., c2_1=-0., c2_2=-0., c2_3=-0., c3_1=0., c3_2=0., c4_1=-0.)>\n",
      "\n",
      "    [7]: <Mapping((0, 1, 0, 1))>\n",
      "\n",
      "    [8]: <Polynomial2D(1, c0_0=0., c1_0=-0.5, c0_1=-0.8660254)>\n",
      "\n",
      "    [9]: <Polynomial2D(1, c0_0=0., c1_0=-0.8660254, c0_1=0.5)>\n",
      "\n",
      "    [10]: <Shift(offset=536.01443984)>\n",
      "\n",
      "    [11]: <Shift(offset=-1718.74775661)>\n",
      "\n",
      "    [12]: <Scale(factor=0.00027778)>\n",
      "\n",
      "    [13]: <Scale(factor=0.00027778)>\n",
      "\n",
      "    [14]: <SphericalToCartesian()>\n",
      "\n",
      "    [15]: <RotationSequence3D(angles=[  0.1488929 ,   0.47742993,   0.        , -69.32761623, -83.87999291])>\n",
      "\n",
      "    [16]: <CartesianToSpherical()>\n",
      "Parameters:\n",
      "    offset_0 offset_1 ...               angles_15 [5]              \n",
      "    -------- -------- ... -----------------------------------------\n",
      "         1.0      1.0 ... 0.14889289995538668 .. -83.87999291003202\n"
     ]
    }
   ],
   "source": [
    "print(w.forward_transform)"
   ]
  },
  {
   "cell_type": "code",
   "execution_count": 17,
   "id": "116292be",
   "metadata": {},
   "outputs": [
    {
     "name": "stdout",
     "output_type": "stream",
     "text": [
      "Model: CompoundModel\n",
      "Inputs: ('lon', 'lat')\n",
      "Outputs: ('y0', 'y1')\n",
      "Model set size: 1\n",
      "Expression: [0] | [1] | [2] | [3] & [4] | [5] & [6] | [7] | [8] & [9] | [10] | [11] & [12] | [13] & [14] | [15] & [16]\n",
      "Components: \n",
      "    [0]: <SphericalToCartesian()>\n",
      "\n",
      "    [1]: <RotationSequence3D(angles=[83.87999291, 69.32761623, -0.        , -0.47742993, -0.1488929 ])>\n",
      "\n",
      "    [2]: <CartesianToSpherical()>\n",
      "\n",
      "    [3]: <Scale(factor=3600.)>\n",
      "\n",
      "    [4]: <Scale(factor=3600.)>\n",
      "\n",
      "    [5]: <Shift(offset=-536.01443984)>\n",
      "\n",
      "    [6]: <Shift(offset=1718.74775661)>\n",
      "\n",
      "    [7]: <Mapping((0, 1, 0, 1))>\n",
      "\n",
      "    [8]: <Polynomial2D(1, c0_0=0., c1_0=-0.5, c0_1=-0.8660254)>\n",
      "\n",
      "    [9]: <Polynomial2D(1, c0_0=0., c1_0=-0.8660254, c0_1=0.5)>\n",
      "\n",
      "    [10]: <Mapping((0, 1, 0, 1))>\n",
      "\n",
      "    [11]: <Polynomial2D(5, c0_0=0., c1_0=9.17532754, c2_0=0.00012464, c3_0=0.00000004, c4_0=-0., c5_0=-0., c0_1=-0.10823031, c0_2=0.00004166, c0_3=0.00000001, c0_4=-0., c0_5=0., c1_1=-0.00008863, c1_2=0.00000002, c1_3=-0., c1_4=0., c2_1=0.00000002, c2_2=0., c2_3=-0., c3_1=0., c3_2=0., c4_1=-0.)>\n",
      "\n",
      "    [12]: <Polynomial2D(5, c0_0=0., c1_0=-0.10558003, c2_0=-0.00004399, c3_0=0.00000002, c4_0=-0., c5_0=-0., c0_1=9.18637109, c0_2=-0.00012964, c0_3=0.00000003, c0_4=-0., c0_5=0., c1_1=0.00008595, c1_2=0.00000001, c1_3=-0., c1_4=0., c2_1=0.00000003, c2_2=0., c2_3=0., c3_1=-0., c3_2=-0., c4_1=0.)>\n",
      "\n",
      "    [13]: <Shift(offset=2044.5)>\n",
      "\n",
      "    [14]: <Shift(offset=2044.5)>\n",
      "\n",
      "    [15]: <Shift(offset=-1.)>\n",
      "\n",
      "    [16]: <Shift(offset=-1.)>\n",
      "Parameters:\n",
      "                   angles_1 [5]               factor_3 ... offset_15 offset_16\n",
      "    ----------------------------------------- -------- ... --------- ---------\n",
      "    83.87999291003202 .. -0.14889289995538668   3600.0 ...      -1.0      -1.0\n"
     ]
    }
   ],
   "source": [
    "print(w.backward_transform)"
   ]
  },
  {
   "cell_type": "markdown",
   "id": "454c86dd",
   "metadata": {},
   "source": [
    "Other GWCS features include the ability to\n",
    "\n",
    "- insert additional frames and transforms\n",
    "- compute the inverse of the transforms using an iterative numerical method (in case an inverse transform is not provided)\n",
    "- create  FITS approximation using the SIP convention to represent the distortion\n",
    "- convert to other celestial frames usnig the `Shared API`\n"
   ]
  },
  {
   "cell_type": "code",
   "execution_count": null,
   "id": "3cac75a0",
   "metadata": {},
   "outputs": [],
   "source": []
  }
 ],
 "metadata": {
  "kernelspec": {
   "display_name": "Python 3 (ipykernel)",
   "language": "python",
   "name": "python3"
  },
  "language_info": {
   "codemirror_mode": {
    "name": "ipython",
    "version": 3
   },
   "file_extension": ".py",
   "mimetype": "text/x-python",
   "name": "python",
   "nbconvert_exporter": "python",
   "pygments_lexer": "ipython3",
   "version": "3.9.12"
  }
 },
 "nbformat": 4,
 "nbformat_minor": 5
}
