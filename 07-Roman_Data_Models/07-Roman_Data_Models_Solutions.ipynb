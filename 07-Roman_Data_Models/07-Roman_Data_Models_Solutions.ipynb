{
 "cells": [
  {
   "cell_type": "markdown",
   "id": "349f7b8e",
   "metadata": {},
   "source": [
    "Solutions to Exercises\n",
    "=====================\n",
    "\n",
    "Exercise 1\n",
    "--------------"
   ]
  },
  {
   "cell_type": "markdown",
   "id": "ad894a8e",
   "metadata": {},
   "source": [
    "1. Open the example calibrated data file (r0000101001001001001_01101_0001_WFI01_cal.asdf) and extract the value of the exposure start time."
   ]
  },
  {
   "cell_type": "code",
   "execution_count": null,
   "id": "c4156792",
   "metadata": {
    "tags": [
     "raises-exception"
    ]
   },
   "outputs": [],
   "source": [
    "import roman_datamodels as rdm\n",
    "dm = rdm.open('../data/r0000101001001001001_0001_wfi01_cal.asdf')\n",
    "dm.meta.exposure.start_time"
   ]
  },
  {
   "cell_type": "markdown",
   "id": "cd9f1107",
   "metadata": {},
   "source": [
    "2. Change the exposure start time."
   ]
  },
  {
   "cell_type": "code",
   "execution_count": null,
   "id": "a6cfa332",
   "metadata": {
    "tags": [
     "raises-exception"
    ]
   },
   "outputs": [],
   "source": [
    "import astropy.time as atime\n",
    "dm.meta.exposure.start_time = atime.Time(\"2022-01-01T11:11:11.111\")\n",
    "dm.meta.exposure.start_time"
   ]
  },
  {
   "cell_type": "markdown",
   "id": "15261386",
   "metadata": {},
   "source": [
    "3. Change the exposure start time to \"hello there\". What happens?"
   ]
  },
  {
   "cell_type": "code",
   "execution_count": null,
   "id": "f4125cc6",
   "metadata": {
    "tags": [
     "raises-exception"
    ]
   },
   "outputs": [],
   "source": [
    "dm.meta.exposure.start_time = \"hello there\""
   ]
  },
  {
   "cell_type": "markdown",
   "id": "06c44d8b",
   "metadata": {},
   "source": [
    "4. Go to the rad repository, and use the example above and the schema for the flat field to create a reference file for a flat field (yes, all reference files have corresponding data models). Note that there is a fairly straightfoward algorithm that maps the schema name into a class name (underscores are removed and the elements thus separated are capitalized before joining. E.g., cal_step becomes CalStep)."
   ]
  },
  {
   "cell_type": "code",
   "execution_count": null,
   "id": "0ee0dd03",
   "metadata": {},
   "outputs": [],
   "source": [
    "import asdf\n",
    "import numpy as np\n",
    "import roman_datamodels.datamodels as rdmd\n",
    "import roman_datamodels.stnode as rdnode\n",
    "meta = {}\n",
    "# Populate common part.\n",
    "meta['reftype'] = 'FLAT'\n",
    "meta['pedigree'] = 'GROUND'\n",
    "meta['description'] = 'Flat field reference file'\n",
    "meta['author'] = 'Stephen King'\n",
    "meta['useafter'] = atime.Time('2022-01-01T11:11:11.111')\n",
    "meta['telescope'] = 'ROMAN'\n",
    "# STSCI is the ONLY valid origin at this time\n",
    "meta['origin'] = 'STSCI'\n",
    "instr = {}\n",
    "instr['name'] = 'WFI'\n",
    "instr['detector'] = 'WFI01'\n",
    "instr['optical_element'] = 'GRISM'\n",
    "meta['instrument'] = instr\n",
    "# Populate Flat part.\n",
    "\n",
    "flatref = rdnode.FlatRef()\n",
    "flatref['meta'] = meta\n",
    "flatref['data'] = np.ones((100, 100), dtype=np.float32)\n",
    "flatref['dq'] = np.zeros((100, 100), dtype=np.uint32)\n",
    "flatref['err'] = np.ones((100, 100), dtype=np.float32)\n",
    "af = asdf.AsdfFile()\n",
    "af.tree = {'roman': flatref}\n",
    "af.write_to('ref_flat_field.asdf')"
   ]
  },
  {
   "cell_type": "code",
   "execution_count": null,
   "id": "f9bb51e4",
   "metadata": {},
   "outputs": [],
   "source": [
    "dm2 = rdmd.open('ref_flat_field.asdf')"
   ]
  },
  {
   "cell_type": "code",
   "execution_count": null,
   "id": "207c4cf8",
   "metadata": {},
   "outputs": [],
   "source": [
    "type(dm2)"
   ]
  },
  {
   "cell_type": "code",
   "execution_count": null,
   "id": "256d9ed2",
   "metadata": {},
   "outputs": [],
   "source": [
    "dm2.meta"
   ]
  },
  {
   "cell_type": "code",
   "execution_count": null,
   "id": "2311a46f",
   "metadata": {},
   "outputs": [],
   "source": [
    "dm2.meta.author = 'Bozo the Clown'"
   ]
  },
  {
   "cell_type": "code",
   "execution_count": null,
   "id": "1d388228",
   "metadata": {},
   "outputs": [],
   "source": [
    "dm2.meta"
   ]
  },
  {
   "cell_type": "code",
   "execution_count": null,
   "id": "18749026",
   "metadata": {
    "tags": [
     "raises-exception"
    ]
   },
   "outputs": [],
   "source": [
    "instrument"
   ]
  },
  {
   "cell_type": "code",
   "execution_count": null,
   "id": "af33324f",
   "metadata": {
    "tags": [
     "raises-exception"
    ]
   },
   "outputs": [],
   "source": [
    "dm2.meta.author = 77"
   ]
  },
  {
   "cell_type": "code",
   "execution_count": null,
   "id": "6d5c9c95",
   "metadata": {},
   "outputs": [],
   "source": []
  }
 ],
 "metadata": {
  "celltoolbar": "Tags",
  "kernelspec": {
   "display_name": "Python 3 (ipykernel)",
   "language": "python",
   "name": "python3"
  },
  "language_info": {
   "codemirror_mode": {
    "name": "ipython",
    "version": 3
   },
   "file_extension": ".py",
   "mimetype": "text/x-python",
   "name": "python",
   "nbconvert_exporter": "python",
   "pygments_lexer": "ipython3",
   "version": "3.11.10"
  }
 },
 "nbformat": 4,
 "nbformat_minor": 5
}
