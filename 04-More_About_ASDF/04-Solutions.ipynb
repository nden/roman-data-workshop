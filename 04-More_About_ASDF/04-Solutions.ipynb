{
 "cells": [
  {
   "cell_type": "code",
   "execution_count": null,
   "metadata": {},
   "outputs": [],
   "source": [
    "import asdf\n",
    "import numpy as np"
   ]
  },
  {
   "cell_type": "markdown",
   "metadata": {},
   "source": [
    "# Exercise 1"
   ]
  },
  {
   "cell_type": "code",
   "execution_count": null,
   "metadata": {},
   "outputs": [],
   "source": [
    "tree = {\n",
    "    \"hello\": \"world\",\n",
    "    \"foo\": 42,\n",
    "    \"bar\": 3.14,\n",
    "    \"true\": False,\n",
    "    \"imaginary\": complex(2, 3),\n",
    "    \"animals\": [\"cat\", \"dog\", \"bird\"],\n",
    "    \"data\": {\"mean\": 3.14, \"std\": 2.71},\n",
    "}\n",
    "af = asdf.AsdfFile(tree)\n",
    "af.write_to(\"exercise_1.asdf\")"
   ]
  },
  {
   "cell_type": "code",
   "execution_count": null,
   "metadata": {},
   "outputs": [],
   "source": [
    "# Checks\n",
    "\n",
    "with open(\"exercise_1.asdf\") as f:\n",
    "    print(f.read())\n",
    "\n",
    "with asdf.open(\"exercise_1.asdf\") as af:\n",
    "    for key, value in tree.items():\n",
    "        assert af[key] == value"
   ]
  },
  {
   "cell_type": "markdown",
   "metadata": {},
   "source": [
    "# Exercise 2"
   ]
  },
  {
   "cell_type": "code",
   "execution_count": null,
   "metadata": {},
   "outputs": [],
   "source": [
    "array = np.random.rand(8, 8)\n",
    "tree = {\n",
    "    \"array\": array,\n",
    "    \"duplicated_array\": array,\n",
    "    \"view_1\": array[2:4, 3:6],\n",
    "    \"view_2\": array[1:6, 2:4],\n",
    "}\n",
    "af = asdf.AsdfFile(tree)\n",
    "af.write_to(\"exercise_2.asdf\")"
   ]
  },
  {
   "cell_type": "code",
   "execution_count": null,
   "metadata": {},
   "outputs": [],
   "source": []
  },
  {
   "cell_type": "code",
   "execution_count": null,
   "metadata": {},
   "outputs": [],
   "source": []
  },
  {
   "cell_type": "code",
   "execution_count": null,
   "metadata": {},
   "outputs": [],
   "source": [
    "with open(\"exercise_2.asdf\", \"r\", encoding=\"unicode_escape\") as f:\n",
    "    print(f.read())\n",
    "\n",
    "with asdf.open(\"exercise_2.asdf\") as af:\n",
    "    for key, value in tree.items():\n",
    "        assert np.all(af[key] == value)"
   ]
  },
  {
   "cell_type": "markdown",
   "metadata": {},
   "source": [
    "Notice that the duplicated array is referenced using a `yaml` anchor, while the\n",
    "alternate views both reference `source: 0` which is the original array."
   ]
  },
  {
   "cell_type": "code",
   "execution_count": null,
   "metadata": {},
   "outputs": [],
   "source": []
  },
  {
   "cell_type": "markdown",
   "metadata": {},
   "source": [
    "# Exercise 3"
   ]
  },
  {
   "cell_type": "code",
   "execution_count": null,
   "metadata": {},
   "outputs": [],
   "source": [
    "import astropy\n",
    "\n",
    "quantity = 50 * astropy.units.m\n",
    "model = astropy.modeling.models.Gaussian2D(quantity, 2, 3, 4, 5)\n",
    "time = astropy.time.Time(\"J2000\")\n",
    "coord = astropy.coordinates.ICRS(ra=1 * astropy.units.deg, dec=2 * astropy.units.deg)\n",
    "\n",
    "tree = {\n",
    "    \"quantity\": quantity,\n",
    "    \"model\": model,\n",
    "    \"time\": time,\n",
    "    \"coord\": coord,\n",
    "}\n",
    "\n",
    "af = asdf.AsdfFile(tree)\n",
    "af.write_to(\"exercise_3.asdf\")"
   ]
  },
  {
   "cell_type": "code",
   "execution_count": null,
   "metadata": {},
   "outputs": [],
   "source": []
  }
 ],
 "metadata": {
  "kernelspec": {
   "display_name": "Python 3 (ipykernel)",
   "language": "python",
   "name": "python3"
  },
  "language_info": {
   "codemirror_mode": {
    "name": "ipython",
    "version": 3
   },
   "file_extension": ".py",
   "mimetype": "text/x-python",
   "name": "python",
   "nbconvert_exporter": "python",
   "pygments_lexer": "ipython3",
   "version": "3.9.12"
  },
  "vscode": {
   "interpreter": {
    "hash": "854c5921801e2400c3c1020a858ab9a52fae9c3bbaec23abfbfde1aa9048a7d5"
   }
  }
 },
 "nbformat": 4,
 "nbformat_minor": 2
}
