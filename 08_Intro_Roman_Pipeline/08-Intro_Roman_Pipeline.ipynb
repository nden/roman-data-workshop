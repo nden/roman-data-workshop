{
 "cells": [
  {
   "cell_type": "markdown",
   "id": "d0e2c2e1",
   "metadata": {},
   "source": [
    "### Intro to the Roman Pipeline"
   ]
  },
  {
   "cell_type": "markdown",
   "id": "66f08b43",
   "metadata": {},
   "source": [
    "#### Outline\n",
    "\n",
    "- Architecture\n",
    "- How to run it, also with custom reference files\n",
    "- Exercise to run it\n",
    "- CRDS\n",
    "- Feedback and discussion"
   ]
  },
  {
   "cell_type": "markdown",
   "id": "fc4e7998",
   "metadata": {},
   "source": [
    "### Roman pipeline installation and setup up"
   ]
  },
  {
   "cell_type": "markdown",
   "id": "3a86b9e5",
   "metadata": {},
   "source": [
    "The Roman pipeline package is a Python package, called **romancal**. The code is available on [GitHub](https://github.com/spacetelescope/romancal) and releases are posted on [PyPi](https://pypi.org/project/romancal/). Before running the Roman pipeline make sure `romancal` and all its dependencies are installed. The latest installation instructions are available in the [README](https://github.com/spacetelescope/romancal/blob/main/README.md) file on github, and briefly mentioned below.\n",
    "\n",
    "Public releases are installed directly from PyPI using \n",
    "\n",
    "```\n",
    "% pip install romancal\n",
    "```\n",
    "This installs the pipeline and all its dependencies in the current Python environment. We recommend to use conda as a basis for managing the environments and that new releases are installed in new conda environments. \n",
    "\n",
    "The development version of the pipeline can be installed using the command:\n",
    "\n",
    "```\n",
    "% pip install git+https://github.com/spacetelescope/romancal.git*\n",
    "```\n",
    "\n",
    "This will install the code from the main development branch and all its current dependencies.\n",
    "\n",
    "In addition, we recommend that jupyter and ipython are installed as well. They are not dependencies, just convenience.\n",
    "\n",
    "The pipeline uses reference stored in the [Calibration Reference Data System (CRDS)](https://roman-crds-test.stsci.edu/). We don't have a public CRDS server for Roman yet so examples in this notebook while showing how to use a server when it is available, will use local reference files.\n",
    "\n",
    "**Pipeline documentation** is available publicly on [readthedocs](https://roman-pipeline.readthedocs.io/en/latest/)."
   ]
  },
  {
   "cell_type": "markdown",
   "id": "3eb81238",
   "metadata": {},
   "source": [
    "#### CRDS configuration\n",
    "\n",
    "To run the pipeline outside the STScI network, CRDS must be configured by setting two environment variables:\n",
    "\n",
    "```\n",
    "export CRDS_PATH=$HOME/crds_cache\n",
    "export CRDS_SERVER_URL=https://roman-crds-test.stsci.edu\n",
    "```"
   ]
  },
  {
   "cell_type": "markdown",
   "id": "fdcbe5ab",
   "metadata": {},
   "source": [
    "#### Running the Roman Pipeline\n",
    "\n",
    "The pipeline can be run on the command line or in a python session. We'll look first at how to run it in Python. But first, let's download some data."
   ]
  },
  {
   "cell_type": "code",
   "execution_count": null,
   "id": "338a32e2",
   "metadata": {},
   "outputs": [],
   "source": [
    "from astropy.utils.data import download_file\n",
    "\n",
    "box_path = 'https://data.science.stsci.edu/redirect/Roman/Roman_Calibration_And_Datamodels/'\n",
    "level1_file = box_path + \"r0000101001001001001_01101_0001_WFI01_uncal.asdf\"\n",
    "\n",
    "level2_file = box_path + \"r0000101001001001001_01101_0001_WFI01_cal.asdf\""
   ]
  },
  {
   "cell_type": "code",
   "execution_count": null,
   "id": "d842c5d6",
   "metadata": {},
   "outputs": [],
   "source": [
    "# l1_file = download_file(level1_file)\n",
    "\n",
    "# l2_file = download_file(level2_file)\n",
    "\n"
   ]
  },
  {
   "cell_type": "markdown",
   "id": "7fc74655",
   "metadata": {},
   "source": [
    "#### Stages of the Roman pipeline\n",
    "\n",
    "The Roman calibration pipeline is split into three stages\n",
    "\n",
    "- Level2 pipeline, or Exposure Level Pipeline (ELP)\n",
    "\n",
    "  This stage runs on individual exposures and applies detector-level corrections to given exposure types (imaging, prism, and grism.). The currently implemented steps are listed [here](https://roman-pipeline.readthedocs.io/en/latest/roman/pipeline/exposure_pipeline.html#exposure-pipeline).\n",
    "  \n",
    "- Level 3 pipeline, or High Level Pipeline (HLP)\n",
    "\n",
    "  The Level 3 pipeline combines individual exposures according to the association rules supplied. This is not implemented yet.\n",
    "  \n",
    "- Level 4 pipeline - generates high level products, like various types of catalogs."
   ]
  },
  {
   "cell_type": "markdown",
   "id": "5803eedd",
   "metadata": {},
   "source": [
    "**Steps in a Pipeline stage**\n",
    "\n",
    "Every stage consistes of one or more steps which run in a sequence. The `ExposurePipeline` currently defines the following steps:\n",
    "\n",
    "```\n",
    "step_defs = {'dq_init': dq_init_step.DQInitStep,\n",
    "             'saturation': SaturationStep,\n",
    "             'linearity': LinearityStep,\n",
    "             'dark_current': DarkCurrentStep,\n",
    "             'jump': jump_step.JumpStep,\n",
    "             'rampfit': ramp_fit_step.RampFitStep,\n",
    "             'assign_wcs': AssignWcsStep,\n",
    "             'flatfield': FlatFieldStep,\n",
    "             'photom': PhotomStep,\n",
    "            }\n",
    "\n",
    "```"
   ]
  },
  {
   "cell_type": "markdown",
   "id": "1178b41f",
   "metadata": {},
   "source": [
    "#### Running the ELP pipeline from a Python session"
   ]
  },
  {
   "cell_type": "code",
   "execution_count": null,
   "id": "ee617e56",
   "metadata": {},
   "outputs": [],
   "source": [
    "from romancal.pipeline import ExposurePipeline"
   ]
  },
  {
   "cell_type": "code",
   "execution_count": null,
   "id": "7f36735b",
   "metadata": {},
   "outputs": [],
   "source": [
    "# Is there a way to pass a parameter to call?\n",
    "out = ExposurePipeline.call('r0000201001001001002_01101_0001_WFI07_uncal.asdf')"
   ]
  },
  {
   "cell_type": "code",
   "execution_count": null,
   "id": "59a31b6b",
   "metadata": {},
   "outputs": [],
   "source": [
    "ExposurePipeline.from_cmdline(['romancal.pipeline.ExposurePipeline', \n",
    "                               'r0000201001001001002_01101_0001_WFI07_uncal.asdf', \n",
    "                               '--steps.jump.rejection_threshold=400'])\n"
   ]
  },
  {
   "cell_type": "markdown",
   "id": "3ff06166",
   "metadata": {},
   "source": [
    "In this mode the call to ExposurePipelines saves the product to a file with the same root name and a suffix of **cal.asdf**."
   ]
  },
  {
   "cell_type": "markdown",
   "id": "2262390e",
   "metadata": {},
   "source": [
    "Individual steps can be run in the same way. Fir example, running *assign_wcs* on the resultant *cal* file.\n",
    "\n",
    "All step can be imported from a common namespace *romancal.step*. The input to each step\n",
    "is a file name or a data model and the output is a data model."
   ]
  },
  {
   "cell_type": "code",
   "execution_count": null,
   "id": "a77da5fe",
   "metadata": {},
   "outputs": [],
   "source": [
    "from romancal.step import AssignWcsStep\n",
    "\n",
    "out_model = AssignWcsStep.call('r0000201001001001002_01101_0001_WFI07_cal.asdf')"
   ]
  },
  {
   "cell_type": "code",
   "execution_count": null,
   "id": "97b285b2",
   "metadata": {},
   "outputs": [],
   "source": [
    "out_model.save('r002_assign_wcs.asdf')"
   ]
  },
  {
   "cell_type": "markdown",
   "id": "01739914",
   "metadata": {},
   "source": [
    "The calls above used reference files in CRDS. **One can pass local reference files to a step or a pipeline.**"
   ]
  },
  {
   "cell_type": "code",
   "execution_count": null,
   "id": "cfd8d4b9",
   "metadata": {},
   "outputs": [],
   "source": [
    "out_model = AssignWcsStep.call('r0000201001001001002_01101_0001_WFI07_cal.asdf', \n",
    "                               override_distortion='roman_wfi_distortion_0010.asdf')"
   ]
  },
  {
   "cell_type": "markdown",
   "id": "075891d3",
   "metadata": {},
   "source": [
    "#### Running from the command line\n",
    "\n",
    "DMS runs the cal pipeline using hte command line interface. The general syntax is\n",
    "\n",
    "```\n",
    "% strun romancal.pipeline.ExposurePipeline <input_file>\n",
    "```"
   ]
  },
  {
   "cell_type": "markdown",
   "id": "a4eded63",
   "metadata": {},
   "source": [
    "**Running the pipeline with local reference files**\n",
    "\n",
    "Again, the above call uses reference files stored in CRDS. To use local reference files\n",
    "\n",
    "```\n",
    "% strun romancal.pipeline.ExposurePipeline <input_file> --steps.flat.override_flat=myflat.asdf\n",
    "```\n",
    "\n",
    "```\n",
    "% strun romancal.step.FlatStep <input_file> --override_flat=myflat.asdf\n",
    "```"
   ]
  },
  {
   "cell_type": "markdown",
   "id": "4dd8b472",
   "metadata": {},
   "source": [
    "**Skipping a step in the pipeline**\n",
    "\n",
    "```\n",
    "% strun romancal.pipeline.ExposurePipeline <input_file> --steps.linearity.skip=True\n",
    "```"
   ]
  },
  {
   "cell_type": "markdown",
   "id": "74e402a2",
   "metadata": {},
   "source": [
    "**List the parameters for a step**\n",
    "\n",
    "To display a list of the parameters that are accepted for a given Step class, pass the -h parameter, and the name of a Step class or parameter file:\n",
    "\n",
    "```\n",
    "strun -h romancal.step.JumpStep\n",
    "\n",
    "usage: strun [-h] [--logcfg LOGCFG] [--verbose] [--debug]\n",
    "             [--save-parameters SAVE_PARAMETERS] [--disable-crds-steppars]\n",
    "             [--pre_hooks] [--post_hooks] [--output_file] [--output_dir]\n",
    "             [--output_ext] [--output_use_model] [--output_use_index]\n",
    "             [--save_results] [--skip] [--suffix] [--search_output_file]\n",
    "             [--input_dir] [--rejection_threshold]\n",
    "             [--three_group_rejection_threshold]\n",
    "             [--four_group_rejection_threshold] [--maximum_cores]\n",
    "             [--flag_4_neighbors] [--max_jump_to_flag_neighbors]\n",
    "             [--min_jump_to_flag_neighbors] [--override_gain]\n",
    "             [--override_readnoise]\n",
    "             cfg_file_or_class [args ...]\n",
    "\n",
    "JumpStep: Performs CR/jump detection. The 2-point difference method is applied.\n",
    "\n",
    "positional arguments:\n",
    "  cfg_file_or_class     The configuration file or Python class to run\n",
    "  args                  arguments to pass to step\n",
    "\n",
    "optional arguments:\n",
    "  -h, --help            show this help message and exit\n",
    "  --logcfg LOGCFG       The logging configuration file to load\n",
    "  --verbose, -v         Turn on all logging messages\n",
    "  --debug               When an exception occurs, invoke the Python debugger, pdb\n",
    "  --save-parameters SAVE_PARAMETERS\n",
    "                        Save step parameters to specified file.\n",
    "  --disable-crds-steppars\n",
    "                        Disable retrieval of step parameter references files from\n",
    "                        CRDS\n",
    "  --pre_hooks \n",
    "  --post_hooks \n",
    "  --output_file         File to save output to.\n",
    "  --output_dir          Directory path for output files\n",
    "  --output_ext          Default type of output\n",
    "  --output_use_model    When saving use `DataModel.meta.filename`\n",
    "  --output_use_index    Append index.\n",
    "  --save_results        Force save results\n",
    "  --skip                Skip this step\n",
    "  --suffix              Default suffix for output files\n",
    "  --search_output_file \n",
    "                        Use outputfile define in parent step\n",
    "  --input_dir           Input directory\n",
    "  --rejection_threshold \n",
    "                        CR sigma rej thresh\n",
    "  --three_group_rejection_threshold \n",
    "                        CR sigma rej thresh\n",
    "  --four_group_rejection_threshold \n",
    "                        CR sigma rej thresh\n",
    "  --maximum_cores       max number of processes to create\n",
    "  --flag_4_neighbors    flag the four perpendicular neighbors of each CR\n",
    "  --max_jump_to_flag_neighbors \n",
    "                        maximum jump sigma that will trigger neighbor flagging\n",
    "  --min_jump_to_flag_neighbors \n",
    "                        minimum jump sigma that will trigger neighbor flagging\n",
    "  --override_gain       Override the gain reference file\n",
    "  --override_readnoise \n",
    "                        Override the readnoise reference file\n",
    "```"
   ]
  },
  {
   "cell_type": "markdown",
   "id": "5d0cc959",
   "metadata": {},
   "source": [
    "#### Calibration reference Data System (CRDS)\n",
    "\n",
    "CRDS is a Python library, set of command line programs, and family of web servers used to assign and manage the best reference files that are used to calibrate HST, JWST and Roman data.\n",
    "\n",
    "The primary function of CRDS is to assign best reference files to datasets so that they can be calibrated based upon CRDS rules.\n",
    "\n",
    "Currently, the CRDS Ueer guide can be found externally on one of the JWST servers, e.g\n",
    "\n",
    "https://jwst-crds.stsci.edu/static/users_guide/index.html"
   ]
  },
  {
   "cell_type": "code",
   "execution_count": null,
   "id": "8acf382f",
   "metadata": {},
   "outputs": [],
   "source": []
  }
 ],
 "metadata": {
  "kernelspec": {
   "display_name": "Python 3 (ipykernel)",
   "language": "python",
   "name": "python3"
  },
  "language_info": {
   "codemirror_mode": {
    "name": "ipython",
    "version": 3
   },
   "file_extension": ".py",
   "mimetype": "text/x-python",
   "name": "python",
   "nbconvert_exporter": "python",
   "pygments_lexer": "ipython3",
   "version": "3.9.12"
  }
 },
 "nbformat": 4,
 "nbformat_minor": 5
}
