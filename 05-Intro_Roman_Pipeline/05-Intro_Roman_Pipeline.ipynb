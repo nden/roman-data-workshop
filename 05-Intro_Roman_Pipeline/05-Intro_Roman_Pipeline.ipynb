{
 "cells": [
  {
   "cell_type": "markdown",
   "id": "d0e2c2e1",
   "metadata": {},
   "source": [
    "### Intro to the Roman Pipeline"
   ]
  },
  {
   "cell_type": "markdown",
   "id": "66f08b43",
   "metadata": {},
   "source": [
    "#### Outline\n",
    "\n",
    "- Pipeline installation and setup\n",
    "- Running the pipeline\n",
    "- Exercise\n",
    "- CRDS\n",
    "- Feedback and discussion"
   ]
  },
  {
   "cell_type": "markdown",
   "id": "fc4e7998",
   "metadata": {},
   "source": [
    "### Roman pipeline installation and setup up"
   ]
  },
  {
   "cell_type": "markdown",
   "id": "3a86b9e5",
   "metadata": {},
   "source": [
    "The Roman pipeline package is a Python package, called `romancal`. The code is available on [GitHub](https://github.com/spacetelescope/romancal) and releases are posted on [PyPi](https://pypi.org/project/romancal/). Before running the Roman pipeline make sure `romancal` and all its dependencies are installed. The latest installation instructions are available in the [README](https://github.com/spacetelescope/romancal/blob/main/README.md) file on github, and briefly mentioned below.\n",
    "\n",
    "Public releases are installed directly from PyPI using \n",
    "\n",
    "```\n",
    "% pip install romancal\n",
    "```\n",
    "This installs the pipeline and all its dependencies in the current Python environment. We recommend to use conda as a basis for managing the environments and that new releases are installed in new conda environments. \n",
    "\n",
    "The development version of the pipeline can be installed using the command:\n",
    "\n",
    "```\n",
    "% pip install git+https://github.com/spacetelescope/romancal.git\n",
    "```\n",
    "\n",
    "This will install the code from the main development branch and all its current dependencies.\n",
    "\n",
    "In addition, we recommend that jupyter and ipython are installed as well. They are not dependencies, just convenience.\n",
    "\n",
    "The pipeline uses reference stored in the [Calibration Reference Data System (CRDS)](https://roman-crds-test.stsci.edu/). We don't have a public CRDS server for Roman yet so examples in this notebook while showing how to use a server when it is available, will use local reference files.\n",
    "\n",
    "**Pipeline documentation** is available publicly on [readthedocs](https://roman-pipeline.readthedocs.io/en/latest/)."
   ]
  },
  {
   "cell_type": "markdown",
   "id": "3eb81238",
   "metadata": {},
   "source": [
    "#### CRDS configuration\n",
    "\n",
    "To run the pipeline outside the STScI network, CRDS must be configured by setting two environment variables:\n",
    "\n",
    "```\n",
    "export CRDS_PATH=$HOME/crds_cache\n",
    "export CRDS_SERVER_URL=https://roman-crds-test.stsci.edu\n",
    "```"
   ]
  },
  {
   "cell_type": "markdown",
   "id": "fdcbe5ab",
   "metadata": {},
   "source": [
    "#### Running the Roman Pipeline\n",
    "\n",
    "The pipeline can be run on the command line or in a python session. We'll look first at how to run it in Python. But first, let's download some data."
   ]
  },
  {
   "cell_type": "markdown",
   "id": "7fc74655",
   "metadata": {},
   "source": [
    "#### Stages of the Roman pipeline\n",
    "\n",
    "The Roman calibration pipeline is split into three stages\n",
    "\n",
    "- Level2 pipeline, or Exposure Level Pipeline (ELP)\n",
    "\n",
    "  This stage runs on individual exposures and applies detector-level corrections to given exposure types (imaging, prism, and grism.). The currently implemented steps are listed [here](https://roman-pipeline.readthedocs.io/en/latest/roman/pipeline/exposure_pipeline.html#exposure-pipeline).\n",
    "\n",
    "\n",
    "- Level 3 pipeline, or High Level Pipeline (HLP)\n",
    "\n",
    "  The Level 3 pipeline combines individual exposures according to the association rules supplied. This is not implemented yet.\n",
    "\n",
    "\n",
    "- Level 4 pipeline - generates high level products, like various types of catalogs."
   ]
  },
  {
   "cell_type": "markdown",
   "id": "5803eedd",
   "metadata": {},
   "source": [
    "**Steps in a Pipeline stage**\n",
    "\n",
    "Every stage consistes of one or more steps which run in a sequence. The `ExposurePipeline` currently defines the following steps:\n",
    "\n",
    "```\n",
    "step_defs = {'dq_init': dq_init_step.DQInitStep,\n",
    "             'saturation': SaturationStep,\n",
    "             'linearity': LinearityStep,\n",
    "             'dark_current': DarkCurrentStep,\n",
    "             'jump': jump_step.JumpStep,\n",
    "             'rampfit': ramp_fit_step.RampFitStep,\n",
    "             'assign_wcs': AssignWcsStep,\n",
    "             'flatfield': FlatFieldStep,\n",
    "             'photom': PhotomStep,\n",
    "            }\n",
    "\n",
    "```"
   ]
  },
  {
   "cell_type": "markdown",
   "id": "2057408c",
   "metadata": {},
   "source": [
    "#### Data files naming conventions"
   ]
  },
  {
   "cell_type": "markdown",
   "id": "d930dc10",
   "metadata": {},
   "source": [
    "File names are constructed using the following rules:\n",
    "\n",
    "**WFI detector Level 1 files**\n",
    "\n",
    "These are uncalibrated files, the standard suffix is `uncal`:\n",
    "```\n",
    "rPPPPPCCAAASSSOOOVVV_ggsaa_eeee_<detector>_uncal.asdf\n",
    "```    \n",
    "\n",
    "**WFI detector Level 2 files**\n",
    "\n",
    "These are pixel calibrated files, the standard suffix is `cal`:\n",
    "\n",
    "```\n",
    "rPPPPPCCAAASSSOOOVVV_ggsaa_eeee_<detector>_cal.asdf\n",
    "```\n",
    "\n",
    "`PPPPP`: Program number\n",
    "\n",
    "`CC`:    Execution plan number\n",
    "\n",
    "`AAA`:   Pass number (with execution plan)\n",
    "\n",
    "`SSS`:   Segment Number (within pass) \n",
    "\n",
    "`OOO`:   Observation number\n",
    "\n",
    "`VVV`:   Visit number\n",
    "\n",
    "`gg`:    Group identifier\n",
    "\n",
    "`s`:     Sequence identifier (within the group)\n",
    "         1 for the prime exposure\n",
    "         > 1 for the parallel exposure\n",
    "         \n",
    "`aa`:    Activity Identifier (within the sequence)\n",
    "\n",
    "`eeee`:  Exposure number (within the visit)\n",
    "\n"
   ]
  },
  {
   "cell_type": "markdown",
   "id": "1178b41f",
   "metadata": {},
   "source": [
    "#### Running the ELP pipeline from a Python session"
   ]
  },
  {
   "cell_type": "markdown",
   "id": "f1fca0f6",
   "metadata": {},
   "source": [
    "Using `call` is the recommended way to run the pipeline in a Python session. In this case the output data model is returned in memory and can be saved to disk either by passing an option to the `call` method or in a separate command:"
   ]
  },
  {
   "cell_type": "code",
   "execution_count": 1,
   "id": "ee617e56",
   "metadata": {},
   "outputs": [],
   "source": [
    "from romancal.pipeline import ExposurePipeline"
   ]
  },
  {
   "cell_type": "code",
   "execution_count": 2,
   "id": "7f36735b",
   "metadata": {
    "scrolled": false
   },
   "outputs": [
    {
     "name": "stderr",
     "output_type": "stream",
     "text": [
      "2022-06-24 11:22:39,968 - CRDS - ERROR -  Error determining best reference for 'pars-dqinitstep'  =   Unknown reference type 'pars-dqinitstep'\n",
      "2022-06-24 11:22:40,312 - CRDS - ERROR -  Error determining best reference for 'pars-saturationstep'  =   Unknown reference type 'pars-saturationstep'\n",
      "2022-06-24 11:22:40,453 - CRDS - ERROR -  Error determining best reference for 'pars-linearitystep'  =   Unknown reference type 'pars-linearitystep'\n",
      "2022-06-24 11:22:40,714 - CRDS - ERROR -  Error determining best reference for 'pars-darkcurrentstep'  =   Unknown reference type 'pars-darkcurrentstep'\n",
      "2022-06-24 11:22:40,975 - CRDS - ERROR -  Error determining best reference for 'pars-jumpstep'  =   Unknown reference type 'pars-jumpstep'\n",
      "2022-06-24 11:22:41,204 - CRDS - ERROR -  Error determining best reference for 'pars-rampfitstep'  =   Unknown reference type 'pars-rampfitstep'\n",
      "2022-06-24 11:22:41,453 - CRDS - ERROR -  Error determining best reference for 'pars-assignwcsstep'  =   Unknown reference type 'pars-assignwcsstep'\n",
      "2022-06-24 11:22:41,699 - CRDS - ERROR -  Error determining best reference for 'pars-flatfieldstep'  =   Unknown reference type 'pars-flatfieldstep'\n",
      "2022-06-24 11:22:41,949 - CRDS - ERROR -  Error determining best reference for 'pars-photomstep'  =   Unknown reference type 'pars-photomstep'\n",
      "2022-06-24 11:22:41,951 - CRDS - ERROR -  Error determining best reference for 'pars-exposurepipeline'  =   Unknown reference type 'pars-exposurepipeline'\n",
      "2022-06-24 11:22:41,960 - stpipe.ExposurePipeline - INFO - ExposurePipeline instance created.\n",
      "2022-06-24 11:22:41,961 - stpipe.ExposurePipeline.dq_init - INFO - DQInitStep instance created.\n",
      "2022-06-24 11:22:41,963 - stpipe.ExposurePipeline.saturation - INFO - SaturationStep instance created.\n",
      "2022-06-24 11:22:41,964 - stpipe.ExposurePipeline.linearity - INFO - LinearityStep instance created.\n",
      "2022-06-24 11:22:41,966 - stpipe.ExposurePipeline.dark_current - INFO - DarkCurrentStep instance created.\n",
      "2022-06-24 11:22:41,967 - stpipe.ExposurePipeline.jump - INFO - JumpStep instance created.\n",
      "2022-06-24 11:22:41,969 - stpipe.ExposurePipeline.rampfit - INFO - RampFitStep instance created.\n",
      "2022-06-24 11:22:41,970 - stpipe.ExposurePipeline.assign_wcs - INFO - AssignWcsStep instance created.\n",
      "2022-06-24 11:22:41,972 - stpipe.ExposurePipeline.flatfield - INFO - FlatFieldStep instance created.\n",
      "2022-06-24 11:22:41,974 - stpipe.ExposurePipeline.photom - INFO - PhotomStep instance created.\n",
      "2022-06-24 11:22:42,262 - stpipe.ExposurePipeline - INFO - Step ExposurePipeline running with args ('../data/r0000101001001001001_01101_0001_WFI01_uncal.asdf',).\n",
      "2022-06-24 11:22:42,271 - stpipe.ExposurePipeline - INFO - Step ExposurePipeline parameters are: {'pre_hooks': [], 'post_hooks': [], 'output_file': None, 'output_dir': None, 'output_ext': '.asdf', 'output_use_model': False, 'output_use_index': True, 'save_results': True, 'skip': False, 'suffix': None, 'search_output_file': True, 'input_dir': '', 'save_calibrated_ramp': False, 'steps': {'dq_init': {'pre_hooks': [], 'post_hooks': [], 'output_file': None, 'output_dir': None, 'output_ext': '.asdf', 'output_use_model': False, 'output_use_index': True, 'save_results': False, 'skip': False, 'suffix': None, 'search_output_file': True, 'input_dir': ''}, 'saturation': {'pre_hooks': [], 'post_hooks': [], 'output_file': None, 'output_dir': None, 'output_ext': '.asdf', 'output_use_model': False, 'output_use_index': True, 'save_results': False, 'skip': False, 'suffix': None, 'search_output_file': True, 'input_dir': ''}, 'linearity': {'pre_hooks': [], 'post_hooks': [], 'output_file': None, 'output_dir': None, 'output_ext': '.asdf', 'output_use_model': False, 'output_use_index': True, 'save_results': False, 'skip': False, 'suffix': None, 'search_output_file': True, 'input_dir': ''}, 'dark_current': {'pre_hooks': [], 'post_hooks': [], 'output_file': None, 'output_dir': None, 'output_ext': '.asdf', 'output_use_model': False, 'output_use_index': True, 'save_results': False, 'skip': False, 'suffix': None, 'search_output_file': True, 'input_dir': '', 'dark_output': None}, 'jump': {'pre_hooks': [], 'post_hooks': [], 'output_file': None, 'output_dir': None, 'output_ext': '.asdf', 'output_use_model': False, 'output_use_index': True, 'save_results': False, 'skip': False, 'suffix': None, 'search_output_file': True, 'input_dir': '', 'rejection_threshold': 600, 'three_group_rejection_threshold': 6.0, 'four_group_rejection_threshold': 5.0, 'maximum_cores': 'none', 'flag_4_neighbors': True, 'max_jump_to_flag_neighbors': 1000.0, 'min_jump_to_flag_neighbors': 10.0}, 'rampfit': {'pre_hooks': [], 'post_hooks': [], 'output_file': None, 'output_dir': None, 'output_ext': '.asdf', 'output_use_model': False, 'output_use_index': True, 'save_results': False, 'skip': False, 'suffix': None, 'search_output_file': True, 'input_dir': '', 'opt_name': '', 'maximum_cores': 'none', 'save_opt': False}, 'assign_wcs': {'pre_hooks': [], 'post_hooks': [], 'output_file': None, 'output_dir': None, 'output_ext': '.asdf', 'output_use_model': False, 'output_use_index': True, 'save_results': False, 'skip': False, 'suffix': None, 'search_output_file': True, 'input_dir': ''}, 'flatfield': {'pre_hooks': [], 'post_hooks': [], 'output_file': None, 'output_dir': None, 'output_ext': '.asdf', 'output_use_model': False, 'output_use_index': True, 'save_results': False, 'skip': False, 'suffix': None, 'search_output_file': True, 'input_dir': ''}, 'photom': {'pre_hooks': [], 'post_hooks': [], 'output_file': None, 'output_dir': None, 'output_ext': '.asdf', 'output_use_model': False, 'output_use_index': True, 'save_results': False, 'skip': False, 'suffix': None, 'search_output_file': True, 'input_dir': ''}}}\n",
      "2022-06-24 11:22:42,273 - stpipe.ExposurePipeline - INFO - First argument ../data/r0000101001001001001_01101_0001_WFI01_uncal.asdf does not appear to be a model\n",
      "2022-06-24 11:22:42,274 - stpipe.ExposurePipeline - INFO - Starting Roman exposure calibration pipeline ...\n",
      "2022-06-24 11:22:42,424 - stpipe.ExposurePipeline.dq_init - INFO - Step dq_init running with args (<roman_datamodels.datamodels.ScienceRawModel object at 0x7fd2c12f9280>,).\n",
      "2022-06-24 11:22:42,426 - stpipe.ExposurePipeline.dq_init - INFO - Step dq_init parameters are: {'pre_hooks': [], 'post_hooks': [], 'output_file': None, 'output_dir': None, 'output_ext': '.asdf', 'output_use_model': False, 'output_use_index': True, 'save_results': False, 'skip': False, 'suffix': 'dq_init', 'search_output_file': True, 'input_dir': '../data'}\n",
      "2022-06-24 11:22:44,731 - stpipe.ExposurePipeline.dq_init - INFO - Step dq_init done\n",
      "2022-06-24 11:22:44,985 - stpipe.ExposurePipeline.saturation - INFO - Step saturation running with args (<roman_datamodels.datamodels.RampModel object at 0x7fd2c12f9820>,).\n",
      "2022-06-24 11:22:44,987 - stpipe.ExposurePipeline.saturation - INFO - Step saturation parameters are: {'pre_hooks': [], 'post_hooks': [], 'output_file': None, 'output_dir': None, 'output_ext': '.asdf', 'output_use_model': False, 'output_use_index': True, 'save_results': False, 'skip': False, 'suffix': None, 'search_output_file': True, 'input_dir': '../data'}\n",
      "2022-06-24 11:22:45,626 - stpipe.ExposurePipeline.saturation - INFO - Using SATURATION reference file /Users/dencheva/crds_cache/references/roman/wfi/roman_wfi_saturation_0078.asdf\n",
      "2022-06-24 11:22:47,652 - stpipe.ExposurePipeline.saturation - INFO - Detected 95 saturated pixels\n",
      "2022-06-24 11:22:47,748 - stpipe.ExposurePipeline.saturation - INFO - Detected 732 A/D floor pixels\n",
      "2022-06-24 11:22:47,780 - stpipe.ExposurePipeline.saturation - INFO - Step saturation done\n",
      "2022-06-24 11:22:47,953 - stpipe.ExposurePipeline.linearity - INFO - Step linearity running with args (<roman_datamodels.datamodels.RampModel object at 0x7fd2d0dccd90>,).\n",
      "2022-06-24 11:22:47,954 - stpipe.ExposurePipeline.linearity - INFO - Step linearity parameters are: {'pre_hooks': [], 'post_hooks': [], 'output_file': None, 'output_dir': None, 'output_ext': '.asdf', 'output_use_model': False, 'output_use_index': True, 'save_results': False, 'skip': False, 'suffix': None, 'search_output_file': True, 'input_dir': '../data'}\n",
      "2022-06-24 11:22:48,709 - stpipe.ExposurePipeline.linearity - INFO - Using Linearity reference file /Users/dencheva/crds_cache/references/roman/wfi/roman_wfi_linearity_0055.asdf\n"
     ]
    },
    {
     "name": "stderr",
     "output_type": "stream",
     "text": [
      "2022-06-24 11:22:53,926 - stpipe.ExposurePipeline.linearity - INFO - Step linearity done\n",
      "2022-06-24 11:22:54,200 - stpipe.ExposurePipeline.dark_current - INFO - Step dark_current running with args (<roman_datamodels.datamodels.RampModel object at 0x7fd2e047f7f0>,).\n",
      "2022-06-24 11:22:54,202 - stpipe.ExposurePipeline.dark_current - INFO - Step dark_current parameters are: {'pre_hooks': [], 'post_hooks': [], 'output_file': None, 'output_dir': None, 'output_ext': '.asdf', 'output_use_model': False, 'output_use_index': True, 'save_results': False, 'skip': False, 'suffix': None, 'search_output_file': True, 'input_dir': '../data', 'dark_output': None}\n",
      "2022-06-24 11:22:54,798 - stpipe.ExposurePipeline.dark_current - INFO - Using DARK reference file /Users/dencheva/crds_cache/references/roman/wfi/roman_wfi_dark_0227.asdf\n",
      "2022-06-24 11:22:54,923 - stpipe.ExposurePipeline.dark_current - INFO - Science data nints=1, ngroups=6, nframes=8, groupgap=0\n",
      "2022-06-24 11:22:54,923 - stpipe.ExposurePipeline.dark_current - INFO - Dark data nints=1, ngroups=6, nframes=8, groupgap=0\n",
      "2022-06-24 11:22:55,815 - stpipe.ExposurePipeline.dark_current - INFO - Step dark_current done\n",
      "2022-06-24 11:22:56,112 - stpipe.ExposurePipeline.jump - INFO - Step jump running with args (<roman_datamodels.datamodels.RampModel object at 0x7fd2a07e3700>,).\n",
      "2022-06-24 11:22:56,115 - stpipe.ExposurePipeline.jump - INFO - Step jump parameters are: {'pre_hooks': [], 'post_hooks': [], 'output_file': None, 'output_dir': None, 'output_ext': '.asdf', 'output_use_model': False, 'output_use_index': True, 'save_results': False, 'skip': False, 'suffix': None, 'search_output_file': True, 'input_dir': '../data', 'rejection_threshold': 600, 'three_group_rejection_threshold': 6.0, 'four_group_rejection_threshold': 5.0, 'maximum_cores': 'none', 'flag_4_neighbors': True, 'max_jump_to_flag_neighbors': 1000.0, 'min_jump_to_flag_neighbors': 10.0}\n",
      "2022-06-24 11:22:56,498 - stpipe.ExposurePipeline.jump - INFO - CR rejection threshold = 600 sigma\n",
      "2022-06-24 11:22:56,790 - stpipe.ExposurePipeline.jump - INFO - Using GAIN reference file: /Users/dencheva/crds_cache/references/roman/wfi/roman_wfi_gain_0056.asdf\n",
      "2022-06-24 11:22:57,107 - stpipe.ExposurePipeline.jump - INFO - Using READNOISE reference file: /Users/dencheva/crds_cache/references/roman/wfi/roman_wfi_readnoise_0189.asdf\n",
      "2022-06-24 11:22:57,735 - stpipe.ExposurePipeline.jump - INFO - Executing two-point difference method\n",
      "2022-06-24 11:22:57,841 - stpipe.ExposurePipeline.jump - INFO - Working on integration 1:\n",
      "2022-06-24 11:23:07,268 - stpipe.ExposurePipeline.jump - WARNING - /Users/dencheva/opt/anaconda3/envs/rb6/lib/python3.9/site-packages/stcal/jump/twopoint_difference.py:128: RuntimeWarning: All-NaN slice encountered\n",
      "  max_ratio = np.nanmax(ratio, axis=0)\n",
      "\n",
      "2022-06-24 11:23:07,730 - stpipe.ExposurePipeline.jump - INFO - From highest outlier, two-point found 179952 pixels with at least one CR from five groups.\n",
      "2022-06-24 11:23:07,731 - stpipe.ExposurePipeline.jump - INFO - From highest outlier, two-point found 282 pixels with at least one CR from four groups.\n",
      "2022-06-24 11:23:07,731 - stpipe.ExposurePipeline.jump - INFO - From highest outlier, two-point found 77 pixels with at least one CR from three groups.\n",
      "2022-06-24 11:23:59,015 - stpipe.ExposurePipeline.jump - INFO - Total elapsed time = 61.2797 sec\n",
      "2022-06-24 11:23:59,020 - stpipe.ExposurePipeline.jump - INFO - The execution time in seconds: 62.522058\n",
      "2022-06-24 11:23:59,054 - stpipe.ExposurePipeline.jump - INFO - Step jump done\n",
      "2022-06-24 11:23:59,323 - stpipe.ExposurePipeline.rampfit - INFO - Step rampfit running with args (<roman_datamodels.datamodels.RampModel object at 0x7fd2f2616d30>,).\n",
      "2022-06-24 11:23:59,325 - stpipe.ExposurePipeline.rampfit - INFO - Step rampfit parameters are: {'pre_hooks': [], 'post_hooks': [], 'output_file': None, 'output_dir': None, 'output_ext': '.asdf', 'output_use_model': False, 'output_use_index': True, 'save_results': False, 'skip': False, 'suffix': None, 'search_output_file': True, 'input_dir': '../data', 'opt_name': '', 'maximum_cores': 'none', 'save_opt': False}\n",
      "2022-06-24 11:24:00,191 - stpipe.ExposurePipeline.rampfit - INFO - Using READNOISE reference file: /Users/dencheva/crds_cache/references/roman/wfi/roman_wfi_readnoise_0189.asdf\n",
      "2022-06-24 11:24:00,220 - stpipe.ExposurePipeline.rampfit - INFO - Using GAIN reference file: /Users/dencheva/crds_cache/references/roman/wfi/roman_wfi_gain_0056.asdf\n",
      "2022-06-24 11:24:00,247 - stpipe.ExposurePipeline.rampfit - INFO - Using algorithm = ols\n",
      "2022-06-24 11:24:00,247 - stpipe.ExposurePipeline.rampfit - INFO - Using weighting = optimal\n",
      "2022-06-24 11:25:43,103 - stpipe.ExposurePipeline.rampfit - INFO - Number of groups per integration: 6\n",
      "2022-06-24 11:25:43,104 - stpipe.ExposurePipeline.rampfit - INFO - Number of integrations: 1\n",
      "2022-06-24 11:25:43,728 - stpipe.ExposurePipeline.rampfit - INFO - Step rampfit done\n",
      "2022-06-24 11:25:44,498 - stpipe.ExposurePipeline.assign_wcs - INFO - Step assign_wcs running with args (<roman_datamodels.datamodels.ImageModel object at 0x7fd2d9869a60>,).\n",
      "2022-06-24 11:25:44,500 - stpipe.ExposurePipeline.assign_wcs - INFO - Step assign_wcs parameters are: {'pre_hooks': [], 'post_hooks': [], 'output_file': None, 'output_dir': None, 'output_ext': '.asdf', 'output_use_model': False, 'output_use_index': True, 'save_results': False, 'skip': False, 'suffix': None, 'search_output_file': True, 'input_dir': '../data'}\n",
      "2022-06-24 11:25:44,704 - stpipe.ExposurePipeline.assign_wcs - INFO - reftype, distortion\n",
      "2022-06-24 11:25:45,194 - stpipe.ExposurePipeline.assign_wcs - WARNING - /Users/dencheva/opt/anaconda3/envs/rb6/lib/python3.9/site-packages/asdf/asdf.py:348: AsdfWarning: File 'file:///Users/dencheva/crds_cache/references/roman/wfi/roman_wfi_distortion_0008.asdf' was created with extension class 'asdf.extension.BuiltinExtension' (from package asdf==2.12.0), but older package (asdf==2.11.2.dev13+gf9aeb247) is installed.\n",
      "  warnings.warn(msg, AsdfWarning)\n",
      "\n",
      "2022-06-24 11:25:45,197 - stpipe.ExposurePipeline.assign_wcs - INFO - Step assign_wcs done\n",
      "2022-06-24 11:25:45,367 - stpipe.ExposurePipeline.flatfield - INFO - Step flatfield running with args (<roman_datamodels.datamodels.ImageModel object at 0x7fd2e0426ca0>,).\n",
      "2022-06-24 11:25:45,368 - stpipe.ExposurePipeline.flatfield - INFO - Step flatfield parameters are: {'pre_hooks': [], 'post_hooks': [], 'output_file': None, 'output_dir': None, 'output_ext': '.asdf', 'output_use_model': False, 'output_use_index': True, 'save_results': False, 'skip': False, 'suffix': None, 'search_output_file': True, 'input_dir': '../data'}\n",
      "2022-06-24 11:25:46,550 - stpipe.ExposurePipeline.flatfield - INFO - Step flatfield done\n",
      "2022-06-24 11:25:46,754 - stpipe.ExposurePipeline.photom - INFO - Step photom running with args (<roman_datamodels.datamodels.ImageModel object at 0x7fcd98c0fa30>,).\n",
      "2022-06-24 11:25:46,756 - stpipe.ExposurePipeline.photom - INFO - Step photom parameters are: {'pre_hooks': [], 'post_hooks': [], 'output_file': None, 'output_dir': None, 'output_ext': '.asdf', 'output_use_model': False, 'output_use_index': True, 'save_results': False, 'skip': False, 'suffix': None, 'search_output_file': True, 'input_dir': '../data'}\n",
      "2022-06-24 11:25:47,232 - stpipe.ExposurePipeline.photom - INFO - photmjsr value: 0.321426 MJy / sr\n",
      "2022-06-24 11:25:47,234 - stpipe.ExposurePipeline.photom - INFO - uncertainty value: 0 MJy / sr\n",
      "2022-06-24 11:25:47,236 - stpipe.ExposurePipeline.photom - INFO - Step photom done\n",
      "2022-06-24 11:25:47,237 - stpipe.ExposurePipeline - INFO - Roman exposure calibration pipeline ending...\n",
      "2022-06-24 11:25:48,194 - stpipe.ExposurePipeline - INFO - Saved model in r0000101001001001001_01101_0001_WFI01_cal.asdf\n",
      "2022-06-24 11:25:48,195 - stpipe.ExposurePipeline - INFO - Step ExposurePipeline done\n"
     ]
    }
   ],
   "source": [
    "# Is there a way to pass a parameter to call?\n",
    "out = ExposurePipeline.call('../data/r0000101001001001001_01101_0001_WFI01_uncal.asdf',\n",
    "                            steps={\"jump\":{\"rejection_threshold\": 600}},\n",
    "                            save_results=True)"
   ]
  },
  {
   "cell_type": "markdown",
   "id": "f1014acd",
   "metadata": {},
   "source": [
    "**Alternatively:**\n",
    "    \n",
    "```\n",
    "out.save(<filename.asdf>)\n",
    "```"
   ]
  },
  {
   "cell_type": "markdown",
   "id": "3ff06166",
   "metadata": {},
   "source": [
    "In this mode the call to `ExposurePipeline` saves the product to a file with the same root name and a suffix of **cal.asdf**."
   ]
  },
  {
   "cell_type": "markdown",
   "id": "2262390e",
   "metadata": {},
   "source": [
    "#### Running individual steps\n",
    "\n",
    "Individual steps can be run in the same way. For example, running `assign_wcs` on the resultant `cal` file.\n",
    "\n",
    "All steps can be imported from a common namespace `romancal.step`. The input to each step\n",
    "is a file name or a data model and the output is a data model. Data models are returned in memory when running in Python."
   ]
  },
  {
   "cell_type": "code",
   "execution_count": null,
   "id": "a77da5fe",
   "metadata": {},
   "outputs": [],
   "source": [
    "from romancal.step import AssignWcsStep\n",
    "\n",
    "out_model = AssignWcsStep.call('../data/r0000101001001001001_01101_0001_WFI01_uncal.asdf')"
   ]
  },
  {
   "cell_type": "code",
   "execution_count": null,
   "id": "97b285b2",
   "metadata": {},
   "outputs": [],
   "source": [
    "out_model.save('r002_assign_wcs.asdf')"
   ]
  },
  {
   "cell_type": "markdown",
   "id": "01739914",
   "metadata": {},
   "source": [
    "The calls above used reference files in CRDS. **One can pass local reference files to a step or a pipeline.**"
   ]
  },
  {
   "cell_type": "code",
   "execution_count": null,
   "id": "cfd8d4b9",
   "metadata": {},
   "outputs": [],
   "source": [
    "out_model = AssignWcsStep.call('../data/r0000101001001001001_01101_0001_WFI01_uncal.asdf', \n",
    "                               override_distortion='../data/roman_wfi_distortion_0008.asdf')"
   ]
  },
  {
   "cell_type": "markdown",
   "id": "075891d3",
   "metadata": {},
   "source": [
    "#### Running from the command line\n",
    "\n",
    "DMS runs the cal pipeline using the command line interface. The general syntax is\n",
    "\n",
    "```\n",
    "% strun romancal.pipeline.ExposurePipeline <input_file>\n",
    "```"
   ]
  },
  {
   "cell_type": "markdown",
   "id": "a4eded63",
   "metadata": {},
   "source": [
    "**Running the pipeline with local reference files**\n",
    "\n",
    "Again, the above call uses reference files stored in CRDS. To use local reference files\n",
    "\n",
    "```\n",
    "% strun romancal.pipeline.ExposurePipeline <input_file> --steps.flat.override_flat=myflat.asdf\n",
    "```\n",
    "\n",
    "```\n",
    "% strun romancal.step.FlatStep <input_file> --override_flat=myflat.asdf\n",
    "```"
   ]
  },
  {
   "cell_type": "markdown",
   "id": "4dd8b472",
   "metadata": {},
   "source": [
    "**Skipping a step in the pipeline**\n",
    "\n",
    "```\n",
    "% strun romancal.pipeline.ExposurePipeline <input_file> --steps.linearity.skip=True\n",
    "```"
   ]
  },
  {
   "cell_type": "markdown",
   "id": "74e402a2",
   "metadata": {},
   "source": [
    "**List the parameters for a step**\n",
    "\n",
    "To display a list of the parameters that are accepted for a given Step class, pass the `-h` parameter, and the name of a Step class or parameter file:\n",
    "\n",
    "```\n",
    "strun -h romancal.step.JumpStep\n",
    "\n",
    "usage: strun [-h] [--logcfg LOGCFG] [--verbose] [--debug]\n",
    "             [--save-parameters SAVE_PARAMETERS] [--disable-crds-steppars]\n",
    "             [--pre_hooks] [--post_hooks] [--output_file] [--output_dir]\n",
    "             [--output_ext] [--output_use_model] [--output_use_index]\n",
    "             [--save_results] [--skip] [--suffix] [--search_output_file]\n",
    "             [--input_dir] [--rejection_threshold]\n",
    "             [--three_group_rejection_threshold]\n",
    "             [--four_group_rejection_threshold] [--maximum_cores]\n",
    "             [--flag_4_neighbors] [--max_jump_to_flag_neighbors]\n",
    "             [--min_jump_to_flag_neighbors] [--override_gain]\n",
    "             [--override_readnoise]\n",
    "             cfg_file_or_class [args ...]\n",
    "\n",
    "JumpStep: Performs CR/jump detection. The 2-point difference method is applied.\n",
    "\n",
    "positional arguments:\n",
    "  cfg_file_or_class     The configuration file or Python class to run\n",
    "  args                  arguments to pass to step\n",
    "\n",
    "optional arguments:\n",
    "  -h, --help            show this help message and exit\n",
    "  --logcfg LOGCFG       The logging configuration file to load\n",
    "  --verbose, -v         Turn on all logging messages\n",
    "  --debug               When an exception occurs, invoke the Python debugger, pdb\n",
    "  --save-parameters SAVE_PARAMETERS\n",
    "                        Save step parameters to specified file.\n",
    "  --disable-crds-steppars\n",
    "                        Disable retrieval of step parameter references files from\n",
    "                        CRDS\n",
    "  --pre_hooks \n",
    "  --post_hooks \n",
    "  --output_file         File to save output to.\n",
    "  --output_dir          Directory path for output files\n",
    "  --output_ext          Default type of output\n",
    "  --output_use_model    When saving use `DataModel.meta.filename`\n",
    "  --output_use_index    Append index.\n",
    "  --save_results        Force save results\n",
    "  --skip                Skip this step\n",
    "  --suffix              Default suffix for output files\n",
    "  --search_output_file \n",
    "                        Use outputfile define in parent step\n",
    "  --input_dir           Input directory\n",
    "  --rejection_threshold \n",
    "                        CR sigma rej thresh\n",
    "  --three_group_rejection_threshold \n",
    "                        CR sigma rej thresh\n",
    "  --four_group_rejection_threshold \n",
    "                        CR sigma rej thresh\n",
    "  --maximum_cores       max number of processes to create\n",
    "  --flag_4_neighbors    flag the four perpendicular neighbors of each CR\n",
    "  --max_jump_to_flag_neighbors \n",
    "                        maximum jump sigma that will trigger neighbor flagging\n",
    "  --min_jump_to_flag_neighbors \n",
    "                        minimum jump sigma that will trigger neighbor flagging\n",
    "  --override_gain       Override the gain reference file\n",
    "  --override_readnoise \n",
    "                        Override the readnoise reference file\n",
    "```"
   ]
  },
  {
   "cell_type": "markdown",
   "id": "5d0cc959",
   "metadata": {},
   "source": [
    "#### Calibration reference Data System (CRDS)\n",
    "\n",
    "CRDS is a Python library, set of command line programs, and family of web servers used to assign and manage the best reference files that are used to calibrate HST, JWST and Roman data.\n",
    "\n",
    "The primary function of CRDS is to assign best reference files to datasets so that they can be calibrated based upon CRDS rules.\n",
    "\n",
    "Currently, the CRDS Ueer guide can be found externally on one of the JWST servers, e.g\n",
    "\n",
    "https://jwst-crds.stsci.edu/static/users_guide/index.html"
   ]
  },
  {
   "cell_type": "markdown",
   "id": "7d864533",
   "metadata": {},
   "source": [
    "**Exercise:**\n",
    "\n",
    "Run the Roman calibration level2 pipeline on a Level 1 file. Use `rejection_threshold=500` for the jump step.\n",
    "\n",
    "On the command line this is\n",
    "\n",
    "```\n",
    "strun romancal.pipeline.ExposurePipeline r0000101001001001001_01101_0001_WFI01_uncal.asdf --steps.jump.rejection_threshold=500  \n",
    "```"
   ]
  },
  {
   "cell_type": "code",
   "execution_count": null,
   "id": "8acf382f",
   "metadata": {},
   "outputs": [],
   "source": []
  }
 ],
 "metadata": {
  "kernelspec": {
   "display_name": "Python 3 (ipykernel)",
   "language": "python",
   "name": "python3"
  },
  "language_info": {
   "codemirror_mode": {
    "name": "ipython",
    "version": 3
   },
   "file_extension": ".py",
   "mimetype": "text/x-python",
   "name": "python",
   "nbconvert_exporter": "python",
   "pygments_lexer": "ipython3",
   "version": "3.9.12"
  }
 },
 "nbformat": 4,
 "nbformat_minor": 5
}
