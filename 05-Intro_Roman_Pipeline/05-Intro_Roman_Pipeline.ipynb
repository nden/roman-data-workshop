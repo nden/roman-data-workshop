{
 "cells": [
  {
   "cell_type": "markdown",
   "id": "d0e2c2e1",
   "metadata": {},
   "source": [
    "### Intro to the Roman Pipeline"
   ]
  },
  {
   "cell_type": "markdown",
   "id": "66f08b43",
   "metadata": {},
   "source": [
    "#### Outline\n",
    "\n",
    "- Pipeline installation and setup\n",
    "- Running the pipeline\n",
    "- Exercise\n",
    "- CRDS\n",
    "- Feedback and discussion"
   ]
  },
  {
   "cell_type": "markdown",
   "id": "fc4e7998",
   "metadata": {},
   "source": [
    "### Roman pipeline installation and setup up"
   ]
  },
  {
   "cell_type": "markdown",
   "id": "3a86b9e5",
   "metadata": {},
   "source": [
    "The Roman pipeline package is a Python package, called `romancal`. The code is available on [GitHub](https://github.com/spacetelescope/romancal) and releases are posted on [PyPi](https://pypi.org/project/romancal/). Before running the Roman pipeline make sure `romancal` and all its dependencies are installed. The latest installation instructions are available in the [README](https://github.com/spacetelescope/romancal/blob/main/README.md) file on github, and briefly mentioned below.\n",
    "\n",
    "Public releases are installed directly from PyPI using \n",
    "\n",
    "```\n",
    "% pip install romancal\n",
    "```\n",
    "This installs the pipeline and all its dependencies in the current Python environment. We recommend to use conda as a basis for managing the environments and that new releases are installed in new conda environments. \n",
    "\n",
    "The development version of the pipeline can be installed using the command:\n",
    "\n",
    "```\n",
    "% pip install git+https://github.com/spacetelescope/romancal.git\n",
    "```\n",
    "\n",
    "This will install the code from the main development branch and all its current dependencies.\n",
    "\n",
    "In addition, we recommend that jupyter and ipython are installed as well. They are not dependencies, just convenience.\n",
    "\n",
    "The pipeline uses reference stored in the [Calibration Reference Data System (CRDS)](https://roman-crds.stsci.edu/). We don't have a public CRDS server for Roman yet so examples in this notebook while showing how to use a server when it is available, will use local reference files.\n",
    "\n",
    "**Pipeline documentation** is available publicly on [readthedocs](https://roman-pipeline.readthedocs.io/en/latest/)."
   ]
  },
  {
   "cell_type": "markdown",
   "id": "3eb81238",
   "metadata": {},
   "source": [
    "#### CRDS configuration\n",
    "\n",
    "To run the pipeline outside the STScI network, CRDS must be configured by setting two environment variables:\n",
    "\n",
    "```\n",
    "export CRDS_PATH=$HOME/crds_cache\n",
    "export CRDS_SERVER_URL=https://roman-crds.stsci.edu\n",
    "```"
   ]
  },
  {
   "cell_type": "markdown",
   "id": "fdcbe5ab",
   "metadata": {},
   "source": [
    "#### Running the Roman Pipeline\n",
    "\n",
    "The pipeline can be run on the command line or in a python session. We'll look first at how to run it in Python. But first, let's download some data."
   ]
  },
  {
   "cell_type": "markdown",
   "id": "7fc74655",
   "metadata": {},
   "source": [
    "#### Stages of the Roman pipeline\n",
    "\n",
    "The Roman calibration pipeline is split into three stages\n",
    "\n",
    "- Level2 pipeline, or Exposure Level Pipeline (ELP)\n",
    "\n",
    "  This stage runs on individual exposures and applies detector-level corrections to given exposure types (imaging, prism, and grism.). The currently implemented steps are listed [here](https://roman-pipeline.readthedocs.io/en/latest/roman/pipeline/exposure_pipeline.html#exposure-pipeline).\n",
    "\n",
    "\n",
    "- Level 3 pipeline, or High Level Pipeline (HLP)\n",
    "\n",
    "  The Level 3 pipeline combines individual exposures according to the association rules supplied. This is not implemented yet.\n",
    "\n",
    "\n",
    "- Level 4 pipeline - generates high level products, like various types of catalogs."
   ]
  },
  {
   "cell_type": "markdown",
   "id": "5803eedd",
   "metadata": {},
   "source": [
    "**Steps in a Pipeline stage**\n",
    "\n",
    "Every stage consistes of one or more steps which run in a sequence. The `ExposurePipeline` currently defines the following steps:\n",
    "\n",
    "```\n",
    "step_defs = {'dq_init': dq_init_step.DQInitStep,\n",
    "             'saturation': SaturationStep,\n",
    "             'linearity': LinearityStep,\n",
    "             'dark_current': DarkCurrentStep,\n",
    "             'jump': jump_step.JumpStep,\n",
    "             'rampfit': ramp_fit_step.RampFitStep,\n",
    "             'assign_wcs': AssignWcsStep,\n",
    "             'flatfield': FlatFieldStep,\n",
    "             'photom': PhotomStep,\n",
    "            }\n",
    "\n",
    "```"
   ]
  },
  {
   "cell_type": "markdown",
   "id": "2057408c",
   "metadata": {},
   "source": [
    "#### Data files naming conventions"
   ]
  },
  {
   "cell_type": "markdown",
   "id": "d930dc10",
   "metadata": {},
   "source": [
    "File names are constructed using the following rules:\n",
    "\n",
    "**WFI detector Level 1 files**\n",
    "\n",
    "These are uncalibrated files, the standard suffix is `uncal`:\n",
    "```\n",
    "rPPPPPCCAAASSSOOOVVV_ggsaa_eeee_<detector>_uncal.asdf\n",
    "```    \n",
    "\n",
    "**WFI detector Level 2 files**\n",
    "\n",
    "These are pixel calibrated files, the standard suffix is `cal`:\n",
    "\n",
    "```\n",
    "rPPPPPCCAAASSSOOOVVV_ggsaa_eeee_<detector>_cal.asdf\n",
    "```\n",
    "\n",
    "`PPPPP`: Program number\n",
    "\n",
    "`CC`:    Execution plan number\n",
    "\n",
    "`AAA`:   Pass number (with execution plan)\n",
    "\n",
    "`SSS`:   Segment Number (within pass) \n",
    "\n",
    "`OOO`:   Observation number\n",
    "\n",
    "`VVV`:   Visit number\n",
    "\n",
    "`gg`:    Group identifier\n",
    "\n",
    "`s`:     Sequence identifier (within the group)\n",
    "         1 for the prime exposure\n",
    "         > 1 for the parallel exposure\n",
    "         \n",
    "`aa`:    Activity Identifier (within the sequence)\n",
    "\n",
    "`eeee`:  Exposure number (within the visit)\n",
    "\n"
   ]
  },
  {
   "cell_type": "markdown",
   "id": "1178b41f",
   "metadata": {},
   "source": [
    "#### Running the ELP pipeline from a Python session"
   ]
  },
  {
   "cell_type": "markdown",
   "id": "f1fca0f6",
   "metadata": {},
   "source": [
    "Using `call` is the recommended way to run the pipeline in a Python session. In this case the output data model is returned in memory and can be saved to disk either by passing an option to the `call` method or in a separate command:"
   ]
  },
  {
   "cell_type": "code",
   "execution_count": 1,
   "id": "ee617e56",
   "metadata": {
    "collapsed": true,
    "jupyter": {
     "outputs_hidden": true
    }
   },
   "outputs": [],
   "source": [
    "from romancal.pipeline import ExposurePipeline"
   ]
  },
  {
   "cell_type": "code",
   "execution_count": 2,
   "id": "7f36735b",
   "metadata": {
    "collapsed": true,
    "jupyter": {
     "outputs_hidden": true
    },
    "tags": [
     "raises-exception"
    ]
   },
   "outputs": [
    {
     "name": "stderr",
     "output_type": "stream",
     "text": [
      "2023-08-24 16:57:17,041 - CRDS - ERROR -  Error determining best reference for 'pars-dqinitstep'  =   Unknown reference type 'pars-dqinitstep'\n",
      "2023-08-24 16:57:17,042 - CRDS - ERROR -  Error determining best reference for 'pars-saturationstep'  =   Unknown reference type 'pars-saturationstep'\n",
      "2023-08-24 16:57:17,043 - CRDS - ERROR -  Error determining best reference for 'pars-refpixstep'  =   Unknown reference type 'pars-refpixstep'\n",
      "2023-08-24 16:57:17,044 - CRDS - ERROR -  Error determining best reference for 'pars-linearitystep'  =   Unknown reference type 'pars-linearitystep'\n",
      "2023-08-24 16:57:17,046 - CRDS - ERROR -  Error determining best reference for 'pars-darkcurrentstep'  =   Unknown reference type 'pars-darkcurrentstep'\n",
      "2023-08-24 16:57:17,047 - CRDS - ERROR -  Error determining best reference for 'pars-jumpstep'  =   Unknown reference type 'pars-jumpstep'\n",
      "2023-08-24 16:57:17,048 - CRDS - ERROR -  Error determining best reference for 'pars-rampfitstep'  =   Unknown reference type 'pars-rampfitstep'\n",
      "2023-08-24 16:57:17,050 - CRDS - ERROR -  Error determining best reference for 'pars-assignwcsstep'  =   Unknown reference type 'pars-assignwcsstep'\n",
      "2023-08-24 16:57:17,051 - CRDS - ERROR -  Error determining best reference for 'pars-flatfieldstep'  =   Unknown reference type 'pars-flatfieldstep'\n",
      "2023-08-24 16:57:17,053 - CRDS - ERROR -  Error determining best reference for 'pars-photomstep'  =   Unknown reference type 'pars-photomstep'\n",
      "2023-08-24 16:57:17,054 - CRDS - ERROR -  Error determining best reference for 'pars-sourcedetectionstep'  =   Unknown reference type 'pars-sourcedetectionstep'\n",
      "2023-08-24 16:57:17,055 - CRDS - ERROR -  Error determining best reference for 'pars-exposurepipeline'  =   Unknown reference type 'pars-exposurepipeline'\n",
      "2023-08-24 16:57:17,089 - stpipe.ExposurePipeline - INFO - ExposurePipeline instance created.\n",
      "2023-08-24 16:57:17,090 - stpipe.ExposurePipeline.dq_init - INFO - DQInitStep instance created.\n",
      "2023-08-24 16:57:17,092 - stpipe.ExposurePipeline.saturation - INFO - SaturationStep instance created.\n",
      "2023-08-24 16:57:17,093 - stpipe.ExposurePipeline.refpix - INFO - RefPixStep instance created.\n",
      "2023-08-24 16:57:17,095 - stpipe.ExposurePipeline.linearity - INFO - LinearityStep instance created.\n",
      "2023-08-24 16:57:17,096 - stpipe.ExposurePipeline.dark_current - INFO - DarkCurrentStep instance created.\n",
      "2023-08-24 16:57:17,099 - stpipe.ExposurePipeline.jump - INFO - JumpStep instance created.\n",
      "2023-08-24 16:57:17,100 - stpipe.ExposurePipeline.rampfit - INFO - RampFitStep instance created.\n",
      "2023-08-24 16:57:17,102 - stpipe.ExposurePipeline.assign_wcs - INFO - AssignWcsStep instance created.\n",
      "2023-08-24 16:57:17,103 - stpipe.ExposurePipeline.flatfield - INFO - FlatFieldStep instance created.\n",
      "2023-08-24 16:57:17,105 - stpipe.ExposurePipeline.photom - INFO - PhotomStep instance created.\n",
      "2023-08-24 16:57:17,107 - stpipe.ExposurePipeline.source_detection - INFO - SourceDetectionStep instance created.\n",
      "2023-08-24 16:57:17,181 - stpipe.ExposurePipeline - INFO - Step ExposurePipeline running with args ('../data/r0000101001001001001_01101_0001_WFI01_uncal.asdf',).\n",
      "2023-08-24 16:57:17,190 - stpipe.ExposurePipeline - INFO - Step ExposurePipeline parameters are: {'pre_hooks': [], 'post_hooks': [], 'output_file': None, 'output_dir': None, 'output_ext': '.asdf', 'output_use_model': False, 'output_use_index': True, 'save_results': True, 'skip': False, 'suffix': None, 'search_output_file': True, 'input_dir': '', 'save_calibrated_ramp': False, 'steps': {'dq_init': {'pre_hooks': [], 'post_hooks': [], 'output_file': None, 'output_dir': None, 'output_ext': '.asdf', 'output_use_model': False, 'output_use_index': True, 'save_results': False, 'skip': False, 'suffix': None, 'search_output_file': True, 'input_dir': ''}, 'saturation': {'pre_hooks': [], 'post_hooks': [], 'output_file': None, 'output_dir': None, 'output_ext': '.asdf', 'output_use_model': False, 'output_use_index': True, 'save_results': False, 'skip': False, 'suffix': None, 'search_output_file': True, 'input_dir': ''}, 'refpix': {'pre_hooks': [], 'post_hooks': [], 'output_file': None, 'output_dir': None, 'output_ext': '.asdf', 'output_use_model': False, 'output_use_index': True, 'save_results': False, 'skip': False, 'suffix': None, 'search_output_file': True, 'input_dir': '', 'remove_offset': True, 'remove_trends': True, 'cosine_interpolate': True, 'fft_interpolate': False}, 'linearity': {'pre_hooks': [], 'post_hooks': [], 'output_file': None, 'output_dir': None, 'output_ext': '.asdf', 'output_use_model': False, 'output_use_index': True, 'save_results': False, 'skip': False, 'suffix': None, 'search_output_file': True, 'input_dir': ''}, 'dark_current': {'pre_hooks': [], 'post_hooks': [], 'output_file': None, 'output_dir': None, 'output_ext': '.asdf', 'output_use_model': False, 'output_use_index': True, 'save_results': False, 'skip': False, 'suffix': None, 'search_output_file': True, 'input_dir': '', 'dark_output': None}, 'jump': {'pre_hooks': [], 'post_hooks': [], 'output_file': None, 'output_dir': None, 'output_ext': '.asdf', 'output_use_model': False, 'output_use_index': True, 'save_results': False, 'skip': False, 'suffix': None, 'search_output_file': True, 'input_dir': '', 'rejection_threshold': 600, 'three_group_rejection_threshold': 185.0, 'four_group_rejection_threshold': 190.0, 'maximum_cores': 'none', 'flag_4_neighbors': True, 'max_jump_to_flag_neighbors': 1000.0, 'min_jump_to_flag_neighbors': 10.0, 'min_sat_area': 1.0, 'min_jump_area': 5.0, 'expand_factor': 2.0, 'use_ellipses': False, 'sat_required_snowball': True, 'expand_large_events': False}, 'rampfit': {'pre_hooks': [], 'post_hooks': [], 'output_file': None, 'output_dir': None, 'output_ext': '.asdf', 'output_use_model': False, 'output_use_index': True, 'save_results': False, 'skip': False, 'suffix': None, 'search_output_file': True, 'input_dir': '', 'opt_name': '', 'maximum_cores': 'none', 'save_opt': False}, 'assign_wcs': {'pre_hooks': [], 'post_hooks': [], 'output_file': None, 'output_dir': None, 'output_ext': '.asdf', 'output_use_model': False, 'output_use_index': True, 'save_results': False, 'skip': False, 'suffix': None, 'search_output_file': True, 'input_dir': ''}, 'flatfield': {'pre_hooks': [], 'post_hooks': [], 'output_file': None, 'output_dir': None, 'output_ext': '.asdf', 'output_use_model': False, 'output_use_index': True, 'save_results': False, 'skip': False, 'suffix': None, 'search_output_file': True, 'input_dir': ''}, 'photom': {'pre_hooks': [], 'post_hooks': [], 'output_file': None, 'output_dir': None, 'output_ext': '.asdf', 'output_use_model': False, 'output_use_index': True, 'save_results': False, 'skip': False, 'suffix': None, 'search_output_file': True, 'input_dir': ''}, 'source_detection': {'pre_hooks': [], 'post_hooks': [], 'output_file': None, 'output_dir': None, 'output_ext': '.asdf', 'output_use_model': False, 'output_use_index': True, 'save_results': False, 'skip': False, 'suffix': None, 'search_output_file': True, 'input_dir': '', 'kernel_fwhm': 2.0, 'sharplo': 0.0, 'sharphi': 1.0, 'roundlo': -1.0, 'roundhi': 1.0, 'peakmax': 1000.0, 'max_sources': None, 'scalar_threshold': None, 'calc_threshold': True, 'snr_threshold': 3.0, 'bkg_estimator': 'median', 'bkg_boxsize': 3, 'bkg_sigma': 2.0, 'bkg_filter_size': 3, 'save_catalogs': False, 'output_cat_filetype': 'asdf'}}}\n",
      "2023-08-24 16:57:17,193 - stpipe.ExposurePipeline - INFO - First argument ../data/r0000101001001001001_01101_0001_WFI01_uncal.asdf does not appear to be a model\n",
      "2023-08-24 16:57:17,194 - stpipe.ExposurePipeline - INFO - Starting Roman exposure calibration pipeline ...\n",
      "2023-08-24 16:57:17,343 - stpipe.ExposurePipeline - INFO - Processing a WFI exposure <roman_datamodels.datamodels._datamodels.ScienceRawModel object at 0x144c691d0>\n",
      "2023-08-24 16:57:17,409 - stpipe.ExposurePipeline.dq_init - INFO - Step dq_init running with args (<roman_datamodels.datamodels._datamodels.ScienceRawModel object at 0x14513dcd0>,).\n",
      "2023-08-24 16:57:17,410 - stpipe.ExposurePipeline.dq_init - INFO - Step dq_init parameters are: {'pre_hooks': [], 'post_hooks': [], 'output_file': None, 'output_dir': None, 'output_ext': '.asdf', 'output_use_model': False, 'output_use_index': True, 'save_results': False, 'skip': False, 'suffix': 'dq_init', 'search_output_file': True, 'input_dir': '../data'}\n",
      "2023-08-24 16:57:18,469 - stpipe.ExposurePipeline.dq_init - INFO - Flagging rows from: 0 to 16 as affected by guide window read\n",
      "2023-08-24 16:57:18,607 - stpipe.ExposurePipeline.dq_init - INFO - Step dq_init done\n",
      "2023-08-24 16:57:18,680 - stpipe.ExposurePipeline.saturation - INFO - Step saturation running with args (<roman_datamodels.datamodels._datamodels.RampModel object at 0x144f34650>,).\n",
      "2023-08-24 16:57:18,682 - stpipe.ExposurePipeline.saturation - INFO - Step saturation parameters are: {'pre_hooks': [], 'post_hooks': [], 'output_file': None, 'output_dir': None, 'output_ext': '.asdf', 'output_use_model': False, 'output_use_index': True, 'save_results': False, 'skip': False, 'suffix': None, 'search_output_file': True, 'input_dir': '../data'}\n",
      "2023-08-24 16:57:18,686 - stpipe.ExposurePipeline.saturation - INFO - Using SATURATION reference file: /Users/dencheva/crds_roman/references/roman/wfi/roman_wfi_saturation_0229.asdf\n",
      "2023-08-24 16:57:20,962 - stpipe.ExposurePipeline.saturation - INFO - Detected 95 saturated pixels\n",
      "2023-08-24 16:57:21,052 - stpipe.ExposurePipeline.saturation - INFO - Detected 732 A/D floor pixels\n",
      "2023-08-24 16:57:21,088 - stpipe.ExposurePipeline.saturation - INFO - Step saturation done\n",
      "2023-08-24 16:57:21,241 - stpipe.ExposurePipeline.linearity - INFO - Step linearity running with args (<roman_datamodels.datamodels._datamodels.RampModel object at 0x14529c390>,).\n",
      "2023-08-24 16:57:21,243 - stpipe.ExposurePipeline.linearity - INFO - Step linearity parameters are: {'pre_hooks': [], 'post_hooks': [], 'output_file': None, 'output_dir': None, 'output_ext': '.asdf', 'output_use_model': False, 'output_use_index': True, 'save_results': False, 'skip': False, 'suffix': None, 'search_output_file': True, 'input_dir': '../data'}\n",
      "2023-08-24 16:57:21,248 - stpipe.ExposurePipeline.linearity - INFO - Using LINEARITY reference file: /Users/dencheva/crds_roman/references/roman/wfi/roman_wfi_linearity_0215.asdf\n",
      "2023-08-24 16:57:54,429 - stpipe.ExposurePipeline.linearity - INFO - Step linearity done\n",
      "2023-08-24 16:57:54,564 - stpipe.ExposurePipeline.dark_current - INFO - Step dark_current running with args (<roman_datamodels.datamodels._datamodels.RampModel object at 0x14523e450>,).\n",
      "2023-08-24 16:57:54,565 - stpipe.ExposurePipeline.dark_current - INFO - Step dark_current parameters are: {'pre_hooks': [], 'post_hooks': [], 'output_file': None, 'output_dir': None, 'output_ext': '.asdf', 'output_use_model': False, 'output_use_index': True, 'save_results': False, 'skip': False, 'suffix': None, 'search_output_file': True, 'input_dir': '../data', 'dark_output': None}\n",
      "2023-08-24 16:57:54,571 - stpipe.ExposurePipeline.dark_current - INFO - Using DARK reference file: /Users/dencheva/crds_roman/references/roman/wfi/roman_wfi_dark_0549.asdf\n",
      "2023-08-24 16:57:55,364 - stpipe.ExposurePipeline.dark_current - INFO - Step dark_current done\n",
      "2023-08-24 16:57:55,513 - stpipe.ExposurePipeline.jump - INFO - Step jump running with args (<roman_datamodels.datamodels._datamodels.RampModel object at 0x145465210>,).\n",
      "2023-08-24 16:57:55,514 - stpipe.ExposurePipeline.jump - INFO - Step jump parameters are: {'pre_hooks': [], 'post_hooks': [], 'output_file': None, 'output_dir': None, 'output_ext': '.asdf', 'output_use_model': False, 'output_use_index': True, 'save_results': False, 'skip': False, 'suffix': None, 'search_output_file': True, 'input_dir': '../data', 'rejection_threshold': 600, 'three_group_rejection_threshold': 185.0, 'four_group_rejection_threshold': 190.0, 'maximum_cores': 'none', 'flag_4_neighbors': True, 'max_jump_to_flag_neighbors': 1000.0, 'min_jump_to_flag_neighbors': 10.0, 'min_sat_area': 1.0, 'min_jump_area': 5.0, 'expand_factor': 2.0, 'use_ellipses': False, 'sat_required_snowball': True, 'expand_large_events': False}\n",
      "2023-08-24 16:57:55,707 - stpipe.ExposurePipeline.jump - INFO - CR rejection threshold = 600 sigma\n",
      "2023-08-24 16:57:55,711 - stpipe.ExposurePipeline.jump - INFO - Using GAIN reference file: /Users/dencheva/crds_roman/references/roman/wfi/roman_wfi_gain_0205.asdf\n",
      "2023-08-24 16:57:55,767 - stpipe.ExposurePipeline.jump - INFO - Using READNOISE reference file: /Users/dencheva/crds_roman/references/roman/wfi/roman_wfi_readnoise_0440.asdf\n",
      "2023-08-24 16:57:56,540 - stpipe.ExposurePipeline.jump - INFO - Executing two-point difference method\n",
      "2023-08-24 16:58:24,554 - stpipe.ExposurePipeline.jump - INFO - Total elapsed time = 28.013 sec\n",
      "2023-08-24 16:58:24,709 - stpipe.ExposurePipeline.jump - INFO - The execution time in seconds: 29.001566\n",
      "2023-08-24 16:58:24,809 - stpipe.ExposurePipeline.jump - INFO - Step jump done\n",
      "2023-08-24 16:58:24,888 - stpipe.ExposurePipeline.rampfit - INFO - Step rampfit running with args (<roman_datamodels.datamodels._datamodels.RampModel object at 0x1454795d0>,).\n",
      "2023-08-24 16:58:24,889 - stpipe.ExposurePipeline.rampfit - INFO - Step rampfit parameters are: {'pre_hooks': [], 'post_hooks': [], 'output_file': None, 'output_dir': None, 'output_ext': '.asdf', 'output_use_model': False, 'output_use_index': True, 'save_results': False, 'skip': False, 'suffix': None, 'search_output_file': True, 'input_dir': '../data', 'opt_name': '', 'maximum_cores': 'none', 'save_opt': False}\n",
      "2023-08-24 16:58:24,899 - stpipe.ExposurePipeline.rampfit - INFO - Using READNOISE reference file: /Users/dencheva/crds_roman/references/roman/wfi/roman_wfi_readnoise_0440.asdf\n",
      "2023-08-24 16:58:24,954 - stpipe.ExposurePipeline.rampfit - INFO - Using GAIN reference file: /Users/dencheva/crds_roman/references/roman/wfi/roman_wfi_gain_0205.asdf\n",
      "2023-08-24 16:58:25,001 - stpipe.ExposurePipeline.rampfit - INFO - Using algorithm = ols\n",
      "2023-08-24 16:58:25,002 - stpipe.ExposurePipeline.rampfit - INFO - Using weighting = optimal\n",
      "2023-08-24 17:00:02,307 - stpipe.ExposurePipeline.rampfit - INFO - Number of groups per integration: 6\n",
      "2023-08-24 17:00:02,308 - stpipe.ExposurePipeline.rampfit - INFO - Number of integrations: 1\n",
      "2023-08-24 17:00:03,174 - stpipe.ExposurePipeline.rampfit - INFO - Step rampfit done\n",
      "2023-08-24 17:00:03,389 - stpipe.ExposurePipeline.assign_wcs - INFO - Step assign_wcs running with args (<roman_datamodels.datamodels._datamodels.ImageModel object at 0x144e61c50>,).\n",
      "2023-08-24 17:00:03,391 - stpipe.ExposurePipeline.assign_wcs - INFO - Step assign_wcs parameters are: {'pre_hooks': [], 'post_hooks': [], 'output_file': None, 'output_dir': None, 'output_ext': '.asdf', 'output_use_model': False, 'output_use_index': True, 'save_results': False, 'skip': False, 'suffix': None, 'search_output_file': True, 'input_dir': '../data'}\n",
      "2023-08-24 17:00:03,392 - stpipe.ExposurePipeline.assign_wcs - INFO - reftype, distortion\n",
      "2023-08-24 17:00:03,397 - stpipe.ExposurePipeline.assign_wcs - INFO - Using reference files: {'distortion': '/Users/dencheva/crds_roman/references/roman/wfi/roman_wfi_distortion_0054.asdf'} for assign_wcs\n",
      "2023-08-24 17:00:03,490 - stpipe.ExposurePipeline.assign_wcs - INFO - S_REGION VALUES: POLYGON ICRS 84.74532958999478 -69.11011151519665 84.44677399739281 -69.04883123923344 84.2692373466693 -69.15728796002777 84.56946244689205 -69.21824708645418 \n",
      "2023-08-24 17:00:03,492 - stpipe.ExposurePipeline.assign_wcs - INFO - Update S_REGION to POLYGON ICRS 84.74532958999478 -69.11011151519665 84.44677399739281 -69.04883123923344 84.2692373466693 -69.15728796002777 84.56946244689205 -69.21824708645418 \n",
      "2023-08-24 17:00:03,493 - stpipe.ExposurePipeline.assign_wcs - INFO - Step assign_wcs done\n",
      "2023-08-24 17:00:03,564 - stpipe.ExposurePipeline.flatfield - INFO - Step flatfield running with args (<roman_datamodels.datamodels._datamodels.ImageModel object at 0x1495dc490>,).\n",
      "2023-08-24 17:00:03,565 - stpipe.ExposurePipeline.flatfield - INFO - Step flatfield parameters are: {'pre_hooks': [], 'post_hooks': [], 'output_file': None, 'output_dir': None, 'output_ext': '.asdf', 'output_use_model': False, 'output_use_index': True, 'save_results': False, 'skip': False, 'suffix': None, 'search_output_file': True, 'input_dir': '../data'}\n",
      "2023-08-24 17:00:04,258 - stpipe.ExposurePipeline.flatfield - INFO - Step flatfield done\n",
      "2023-08-24 17:00:04,349 - stpipe.ExposurePipeline.photom - INFO - Step photom running with args (<roman_datamodels.datamodels._datamodels.ImageModel object at 0x1453bf450>,).\n",
      "2023-08-24 17:00:04,351 - stpipe.ExposurePipeline.photom - INFO - Step photom parameters are: {'pre_hooks': [], 'post_hooks': [], 'output_file': None, 'output_dir': None, 'output_ext': '.asdf', 'output_use_model': False, 'output_use_index': True, 'save_results': False, 'skip': False, 'suffix': None, 'search_output_file': True, 'input_dir': '../data'}\n",
      "2023-08-24 17:00:04,392 - stpipe.ExposurePipeline.photom - INFO - photmjsr value: 0.332414 MJy / sr\n",
      "2023-08-24 17:00:04,395 - stpipe.ExposurePipeline.photom - INFO - uncertainty value: 0 MJy / sr\n",
      "2023-08-24 17:00:04,397 - stpipe.ExposurePipeline.photom - INFO - Step photom done\n",
      "2023-08-24 17:00:04,474 - stpipe.ExposurePipeline.source_detection - INFO - Step source_detection running with args (<roman_datamodels.datamodels._datamodels.ImageModel object at 0x14538bd10>,).\n",
      "2023-08-24 17:00:04,477 - stpipe.ExposurePipeline.source_detection - INFO - Step source_detection parameters are: {'pre_hooks': [], 'post_hooks': [], 'output_file': None, 'output_dir': None, 'output_ext': '.asdf', 'output_use_model': False, 'output_use_index': True, 'save_results': False, 'skip': False, 'suffix': None, 'search_output_file': True, 'input_dir': '../data', 'kernel_fwhm': 2.0, 'sharplo': 0.0, 'sharphi': 1.0, 'roundlo': -1.0, 'roundhi': 1.0, 'peakmax': 1000.0, 'max_sources': None, 'scalar_threshold': None, 'calc_threshold': True, 'snr_threshold': 3.0, 'bkg_estimator': 'median', 'bkg_boxsize': 3, 'bkg_sigma': 2.0, 'bkg_filter_size': 3, 'save_catalogs': False, 'output_cat_filetype': 'asdf'}\n",
      "2023-08-24 17:00:04,508 - stpipe.ExposurePipeline.source_detection - INFO - Determining detection threshold from image.\n",
      "WARNING: Input data contains invalid values (NaNs or infs), which were automatically masked. [photutils.background.background_2d]\n",
      "2023-08-24 17:00:04,553 - stpipe.ExposurePipeline.source_detection - WARNING - Input data contains invalid values (NaNs or infs), which were automatically masked.\n",
      "2023-08-24 17:02:59,227 - stpipe.ExposurePipeline.source_detection - INFO - Calculated a detection threshold of 1.7209723241849197 from image.\n",
      "2023-08-24 17:02:59,228 - stpipe.ExposurePipeline.source_detection - INFO - Detecting sources with DAOFind, using entire image array.\n",
      "2023-08-24 17:03:00,899 - stpipe.ExposurePipeline.source_detection - INFO - Found 4626 sources.\n",
      "2023-08-24 17:03:00,984 - stpipe.ExposurePipeline.source_detection - INFO - Step source_detection done\n",
      "2023-08-24 17:03:00,985 - stpipe.ExposurePipeline - INFO - Roman exposure calibration pipeline ending...\n",
      "2023-08-24 17:03:03,848 - stpipe.ExposurePipeline - INFO - Saved model in r0000101001001001001_01101_0001_WFI01_cal.asdf\n",
      "2023-08-24 17:03:03,849 - stpipe.ExposurePipeline - INFO - Step ExposurePipeline done\n"
     ]
    }
   ],
   "source": [
    "# Is there a way to pass a parameter to call?\n",
    "out = ExposurePipeline.call('../data/r0000101001001001001_01101_0001_WFI01_uncal.asdf',\n",
    "                            steps={\"jump\":{\"rejection_threshold\": 600}},\n",
    "                            save_results=True)"
   ]
  },
  {
   "cell_type": "markdown",
   "id": "f1014acd",
   "metadata": {},
   "source": [
    "**Alternatively:**\n",
    "    \n",
    "```\n",
    "out.save(<filename.asdf>)\n",
    "```"
   ]
  },
  {
   "cell_type": "markdown",
   "id": "3ff06166",
   "metadata": {},
   "source": [
    "In this mode the call to `ExposurePipeline` saves the product to a file with the same root name and a suffix of **cal.asdf**."
   ]
  },
  {
   "cell_type": "markdown",
   "id": "2262390e",
   "metadata": {},
   "source": [
    "#### Running individual steps\n",
    "\n",
    "Individual steps can be run in the same way. For example, running `assign_wcs` on the resultant `cal` file.\n",
    "\n",
    "All steps can be imported from a common namespace `romancal.step`. The input to each step\n",
    "is a file name or a data model and the output is a data model. Data models are returned in memory when running in Python."
   ]
  },
  {
   "cell_type": "code",
   "execution_count": 3,
   "id": "a77da5fe",
   "metadata": {
    "collapsed": true,
    "jupyter": {
     "outputs_hidden": true
    },
    "tags": [
     "raises-exception"
    ]
   },
   "outputs": [
    {
     "name": "stderr",
     "output_type": "stream",
     "text": [
      "2023-08-24 17:03:32,740 - CRDS - ERROR -  Error determining best reference for 'pars-assignwcsstep'  =   Unknown reference type 'pars-assignwcsstep'\n",
      "2023-08-24 17:03:32,742 - stpipe.AssignWcsStep - INFO - AssignWcsStep instance created.\n",
      "/Users/dencheva/opt/anaconda3/envs/rb10/lib/python3.11/site-packages/stpipe/step.py:408: ResourceWarning: unclosed file <_io.BufferedReader name='../data/r0000101001001001001_01101_0001_WFI01_uncal.asdf'>\n",
      "  gc.collect()\n",
      "2023-08-24 17:03:32,886 - stpipe.AssignWcsStep - INFO - Step AssignWcsStep running with args ('../data/r0000101001001001001_01101_0001_WFI01_uncal.asdf',).\n",
      "2023-08-24 17:03:32,888 - stpipe.AssignWcsStep - INFO - Step AssignWcsStep parameters are: {'pre_hooks': [], 'post_hooks': [], 'output_file': None, 'output_dir': None, 'output_ext': '.asdf', 'output_use_model': False, 'output_use_index': True, 'save_results': False, 'skip': False, 'suffix': None, 'search_output_file': True, 'input_dir': ''}\n",
      "2023-08-24 17:03:33,035 - stpipe.AssignWcsStep - INFO - reftype, distortion\n",
      "2023-08-24 17:03:33,039 - stpipe.AssignWcsStep - INFO - Using reference files: {'distortion': '/Users/dencheva/crds_roman/references/roman/wfi/roman_wfi_distortion_0054.asdf'} for assign_wcs\n",
      "2023-08-24 17:03:33,127 - stpipe.AssignWcsStep - INFO - S_REGION VALUES: POLYGON ICRS 84.74532958999478 -69.11011151519665 84.4461868803274 -69.04870984551071 84.26829740873262 -69.15737850494072 84.56911524801804 -69.21845776968993 \n",
      "2023-08-24 17:03:33,128 - stpipe.AssignWcsStep - INFO - Update S_REGION to POLYGON ICRS 84.74532958999478 -69.11011151519665 84.4461868803274 -69.04870984551071 84.26829740873262 -69.15737850494072 84.56911524801804 -69.21845776968993 \n",
      "2023-08-24 17:03:33,128 - stpipe.AssignWcsStep - INFO - Step AssignWcsStep done\n"
     ]
    }
   ],
   "source": [
    "from romancal.step import AssignWcsStep\n",
    "\n",
    "out_model = AssignWcsStep.call('../data/r0000101001001001001_01101_0001_WFI01_uncal.asdf')"
   ]
  },
  {
   "cell_type": "code",
   "execution_count": 4,
   "id": "97b285b2",
   "metadata": {
    "collapsed": true,
    "jupyter": {
     "outputs_hidden": true
    },
    "tags": [
     "raises-exception"
    ]
   },
   "outputs": [
    {
     "data": {
      "text/plain": [
       "'r002_assign_wcs.asdf'"
      ]
     },
     "execution_count": 4,
     "metadata": {},
     "output_type": "execute_result"
    }
   ],
   "source": [
    "out_model.save('r002_assign_wcs.asdf')"
   ]
  },
  {
   "cell_type": "markdown",
   "id": "01739914",
   "metadata": {},
   "source": [
    "The calls above used reference files in CRDS. **One can pass local reference files to a step or a pipeline.**"
   ]
  },
  {
   "cell_type": "code",
   "execution_count": 6,
   "id": "cfd8d4b9",
   "metadata": {
    "collapsed": true,
    "jupyter": {
     "outputs_hidden": true
    },
    "tags": [
     "raises-exception"
    ]
   },
   "outputs": [
    {
     "name": "stderr",
     "output_type": "stream",
     "text": [
      "2023-08-24 17:03:55,683 - CRDS - ERROR -  Error determining best reference for 'pars-assignwcsstep'  =   Unknown reference type 'pars-assignwcsstep'\n",
      "2023-08-24 17:03:55,685 - stpipe.AssignWcsStep - INFO - AssignWcsStep instance created.\n",
      "2023-08-24 17:03:55,798 - stpipe.AssignWcsStep - INFO - Step AssignWcsStep running with args ('../data/r0000101001001001001_01101_0001_WFI01_uncal.asdf',).\n",
      "2023-08-24 17:03:55,800 - stpipe.AssignWcsStep - INFO - Step AssignWcsStep parameters are: {'pre_hooks': [], 'post_hooks': [], 'output_file': None, 'output_dir': None, 'output_ext': '.asdf', 'output_use_model': False, 'output_use_index': True, 'save_results': False, 'skip': False, 'suffix': None, 'search_output_file': True, 'input_dir': ''}\n",
      "2023-08-24 17:03:55,945 - stpipe.AssignWcsStep - INFO - reftype, distortion\n",
      "2023-08-24 17:03:55,949 - stpipe.AssignWcsStep - INFO - Using reference files: {'distortion': '/Users/dencheva/crds_roman/references/roman/wfi/roman_wfi_distortion_0054.asdf'} for assign_wcs\n",
      "2023-08-24 17:03:56,035 - stpipe.AssignWcsStep - INFO - S_REGION VALUES: POLYGON ICRS 84.74532958999478 -69.11011151519665 84.4461868803274 -69.04870984551071 84.26829740873262 -69.15737850494072 84.56911524801804 -69.21845776968993 \n",
      "2023-08-24 17:03:56,036 - stpipe.AssignWcsStep - INFO - Update S_REGION to POLYGON ICRS 84.74532958999478 -69.11011151519665 84.4461868803274 -69.04870984551071 84.26829740873262 -69.15737850494072 84.56911524801804 -69.21845776968993 \n",
      "2023-08-24 17:03:56,037 - stpipe.AssignWcsStep - INFO - Step AssignWcsStep done\n"
     ]
    }
   ],
   "source": [
    "out_model = AssignWcsStep.call('../data/r0000101001001001001_01101_0001_WFI01_uncal.asdf')"
   ]
  },
  {
   "cell_type": "markdown",
   "id": "075891d3",
   "metadata": {},
   "source": [
    "#### Running from the command line\n",
    "\n",
    "DMS runs the cal pipeline using the command line interface. The general syntax is\n",
    "\n",
    "```\n",
    "% strun romancal.pipeline.ExposurePipeline <input_file>\n",
    "```"
   ]
  },
  {
   "cell_type": "markdown",
   "id": "a4eded63",
   "metadata": {},
   "source": [
    "**Running the pipeline with local reference files**\n",
    "\n",
    "Again, the above call uses reference files stored in CRDS. To use local reference files\n",
    "\n",
    "```\n",
    "% strun romancal.pipeline.ExposurePipeline <input_file> --steps.flat.override_flat=myflat.asdf\n",
    "```\n",
    "\n",
    "```\n",
    "% strun romancal.step.FlatStep <input_file> --override_flat=myflat.asdf\n",
    "```"
   ]
  },
  {
   "cell_type": "markdown",
   "id": "4dd8b472",
   "metadata": {},
   "source": [
    "**Skipping a step in the pipeline**\n",
    "\n",
    "```\n",
    "% strun romancal.pipeline.ExposurePipeline <input_file> --steps.linearity.skip=True\n",
    "```"
   ]
  },
  {
   "cell_type": "markdown",
   "id": "74e402a2",
   "metadata": {},
   "source": [
    "**List the parameters for a step**\n",
    "\n",
    "To display a list of the parameters that are accepted for a given Step class, pass the `-h` parameter, and the name of a Step class or parameter file:\n",
    "\n",
    "```\n",
    "strun -h romancal.step.JumpStep\n",
    "\n",
    "usage: strun [-h] [--logcfg LOGCFG] [--verbose] [--debug]\n",
    "             [--save-parameters SAVE_PARAMETERS] [--disable-crds-steppars]\n",
    "             [--pre_hooks] [--post_hooks] [--output_file] [--output_dir]\n",
    "             [--output_ext] [--output_use_model] [--output_use_index]\n",
    "             [--save_results] [--skip] [--suffix] [--search_output_file]\n",
    "             [--input_dir] [--rejection_threshold]\n",
    "             [--three_group_rejection_threshold]\n",
    "             [--four_group_rejection_threshold] [--maximum_cores]\n",
    "             [--flag_4_neighbors] [--max_jump_to_flag_neighbors]\n",
    "             [--min_jump_to_flag_neighbors] [--override_gain]\n",
    "             [--override_readnoise]\n",
    "             cfg_file_or_class [args ...]\n",
    "\n",
    "JumpStep: Performs CR/jump detection. The 2-point difference method is applied.\n",
    "\n",
    "positional arguments:\n",
    "  cfg_file_or_class     The configuration file or Python class to run\n",
    "  args                  arguments to pass to step\n",
    "\n",
    "optional arguments:\n",
    "  -h, --help            show this help message and exit\n",
    "  --logcfg LOGCFG       The logging configuration file to load\n",
    "  --verbose, -v         Turn on all logging messages\n",
    "  --debug               When an exception occurs, invoke the Python debugger, pdb\n",
    "  --save-parameters SAVE_PARAMETERS\n",
    "                        Save step parameters to specified file.\n",
    "  --disable-crds-steppars\n",
    "                        Disable retrieval of step parameter references files from\n",
    "                        CRDS\n",
    "  --pre_hooks \n",
    "  --post_hooks \n",
    "  --output_file         File to save output to.\n",
    "  --output_dir          Directory path for output files\n",
    "  --output_ext          Default type of output\n",
    "  --output_use_model    When saving use `DataModel.meta.filename`\n",
    "  --output_use_index    Append index.\n",
    "  --save_results        Force save results\n",
    "  --skip                Skip this step\n",
    "  --suffix              Default suffix for output files\n",
    "  --search_output_file \n",
    "                        Use outputfile define in parent step\n",
    "  --input_dir           Input directory\n",
    "  --rejection_threshold \n",
    "                        CR sigma rej thresh\n",
    "  --three_group_rejection_threshold \n",
    "                        CR sigma rej thresh\n",
    "  --four_group_rejection_threshold \n",
    "                        CR sigma rej thresh\n",
    "  --maximum_cores       max number of processes to create\n",
    "  --flag_4_neighbors    flag the four perpendicular neighbors of each CR\n",
    "  --max_jump_to_flag_neighbors \n",
    "                        maximum jump sigma that will trigger neighbor flagging\n",
    "  --min_jump_to_flag_neighbors \n",
    "                        minimum jump sigma that will trigger neighbor flagging\n",
    "  --override_gain       Override the gain reference file\n",
    "  --override_readnoise \n",
    "                        Override the readnoise reference file\n",
    "```"
   ]
  },
  {
   "cell_type": "markdown",
   "id": "5d0cc959",
   "metadata": {},
   "source": [
    "#### Calibration reference Data System (CRDS)\n",
    "\n",
    "CRDS is a Python library, set of command line programs, and family of web servers used to assign and manage the best reference files that are used to calibrate HST, JWST and Roman data.\n",
    "\n",
    "The primary function of CRDS is to assign best reference files to datasets so that they can be calibrated based upon CRDS rules.\n",
    "\n",
    "The CRDS User guide is available on the front page of the CRDS server.\n",
    "\n",
    "https://roman-crds.stsci.edu/static/users_guide/index.html\n",
    "\n"
   ]
  },
  {
   "cell_type": "markdown",
   "id": "7d864533",
   "metadata": {},
   "source": [
    "**Exercise:**\n",
    "\n",
    "Run the Roman calibration level2 pipeline on a Level 1 file. Use `rejection_threshold=500` for the jump step.\n",
    "\n",
    "On the command line this is\n",
    "\n",
    "```\n",
    "strun romancal.pipeline.ExposurePipeline r0000101001001001001_01101_0001_WFI01_uncal.asdf --steps.jump.rejection_threshold=500  \n",
    "```"
   ]
  }
 ],
 "metadata": {
  "celltoolbar": "Tags",
  "kernelspec": {
   "display_name": "Python 3 (ipykernel)",
   "language": "python",
   "name": "python3"
  },
  "language_info": {
   "codemirror_mode": {
    "name": "ipython",
    "version": 3
   },
   "file_extension": ".py",
   "mimetype": "text/x-python",
   "name": "python",
   "nbconvert_exporter": "python",
   "pygments_lexer": "ipython3",
   "version": "3.11.4"
  }
 },
 "nbformat": 4,
 "nbformat_minor": 5
}
