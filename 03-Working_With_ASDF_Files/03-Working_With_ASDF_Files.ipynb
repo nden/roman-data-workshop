{
 "cells": [
  {
   "cell_type": "markdown",
   "id": "d9ddaad6",
   "metadata": {},
   "source": [
    "### Working With ASDF Files"
   ]
  },
  {
   "cell_type": "markdown",
   "id": "94181a7a",
   "metadata": {},
   "source": [
    "#### Outline\n",
    "\n",
    "- Read a file\n",
    "- Show the contents of an ASDF file\n",
    "- Search for an attribute in an ASDF file\n",
    "- Accessing metadata and data\n",
    "- Modifying and saving files\n",
    "- Exercise\n",
    "- Adding History items"
   ]
  },
  {
   "cell_type": "markdown",
   "id": "6e3caa4b",
   "metadata": {},
   "source": [
    "#### Reading an ASDF file\n",
    "\n",
    "The Python ASDF library is a standalone package distributed through PyPi and conda-forge."
   ]
  },
  {
   "cell_type": "code",
   "execution_count": 2,
   "id": "31268892",
   "metadata": {},
   "outputs": [],
   "source": [
    "import asdf"
   ]
  },
  {
   "cell_type": "markdown",
   "id": "b75c9ba1",
   "metadata": {},
   "source": [
    "To open a file use the `open` function. It is useful to look up the keyword arguments it accepts, there are options specifying how a file should be opened or validated during opening. For this example we will use the default behavior and look at the object."
   ]
  },
  {
   "cell_type": "code",
   "execution_count": 3,
   "id": "af8e40a7",
   "metadata": {},
   "outputs": [
    {
     "name": "stderr",
     "output_type": "stream",
     "text": [
      "2022-06-21 14:58:58,290 - stpipe - WARNING - /Users/dencheva/opt/anaconda3/envs/rb6/lib/python3.9/site-packages/asdf/asdf.py:348: AsdfWarning: File 'file:///Users/dencheva/dev/roman-data-workshop/03-Working_With_ASDF_Files/pluto.asdf' was created with extension class 'asdf.extension.BuiltinExtension' (from package asdf==2.12.0), but older package (asdf==2.11.2.dev13+gf9aeb247) is installed.\n",
      "  warnings.warn(msg, AsdfWarning)\n",
      "\n"
     ]
    }
   ],
   "source": [
    "af = asdf.open('pluto.asdf')"
   ]
  },
  {
   "cell_type": "markdown",
   "id": "d37ecdc4",
   "metadata": {},
   "source": [
    "#### Getting information about a file\n",
    "\n",
    "There are two functions that allow introspecting a file, `info` and `search`. They are available as methods on the `AsdfFile` object or on the command line. Both are configurable through multiple parameters."
   ]
  },
  {
   "cell_type": "code",
   "execution_count": 4,
   "id": "9c925129",
   "metadata": {},
   "outputs": [
    {
     "name": "stdout",
     "output_type": "stream",
     "text": [
      "\u001b[1mroot\u001b[0m (AsdfObject)\n",
      "\u001b[2m├─\u001b[0m\u001b[1masdf_library\u001b[0m (Software)\n",
      "\u001b[2m│ ├─\u001b[0m\u001b[1mauthor\u001b[0m (str): The ASDF Developers\n",
      "\u001b[2m│ ├─\u001b[0m\u001b[1mhomepage\u001b[0m (str): http://github.com/asdf-format/asdf\n",
      "\u001b[2m│ ├─\u001b[0m\u001b[1mname\u001b[0m (str): asdf\n",
      "\u001b[2m│ └─\u001b[0m\u001b[1mversion\u001b[0m (str): 2.12.0\n",
      "\u001b[2m├─\u001b[0m\u001b[1mhistory\u001b[0m (dict)\n",
      "\u001b[2m│ └─\u001b[0m\u001b[1mextensions\u001b[0m (list)\n",
      "\u001b[2m│   ├─\u001b[0m[\u001b[1m0\u001b[0m] (ExtensionMetadata)\n",
      "\u001b[2m│   │ ├─\u001b[0m\u001b[1mextension_class\u001b[0m (str): asdf.extension.BuiltinExtension\n",
      "\u001b[2m│   │ └─\u001b[0m\u001b[1msoftware\u001b[0m (Software)\n",
      "\u001b[2m│   │   ├─\u001b[0m\u001b[1mname\u001b[0m (str): asdf\n",
      "\u001b[2m│   │   └─\u001b[0m\u001b[1mversion\u001b[0m (str): 2.12.0\n",
      "\u001b[2m│   └─\u001b[0m[\u001b[1m1\u001b[0m] (ExtensionMetadata)\n",
      "\u001b[2m│     ├─\u001b[0m\u001b[1mextension_class\u001b[0m (str): asdf.extension._manifest.ManifestExtension\n",
      "\u001b[2m│     ├─\u001b[0m\u001b[1mextension_uri\u001b[0m (str): asdf://asdf-format.org/core/extensions/core-1.5.0\n",
      "\u001b[2m│     └─\u001b[0m\u001b[1msoftware\u001b[0m (Software)\n",
      "\u001b[2m│       ├─\u001b[0m\u001b[1mname\u001b[0m (str): asdf-astropy\n",
      "\u001b[2m│       └─\u001b[0m\u001b[1mversion\u001b[0m (str): 0.2.1\n",
      "\u001b[2m├─\u001b[0m\u001b[1mbirthday\u001b[0m (date)\n",
      "\u001b[2m├─\u001b[0m\u001b[1mmass\u001b[0m (Quantity): shape=(), dtype=float64\n",
      "\u001b[2m├─\u001b[0m\u001b[1mname\u001b[0m (str): Pluto\n",
      "\u001b[2m└─\u001b[0m\u001b[1mpicture\u001b[0m (NDArrayType): shape=(333, 151, 4), dtype=float32\n"
     ]
    }
   ],
   "source": [
    "af.info()"
   ]
  },
  {
   "cell_type": "markdown",
   "id": "618c7e13",
   "metadata": {},
   "source": [
    "The asdf library has search capabilities. A file can be searched for an attribute by name, type or value."
   ]
  },
  {
   "cell_type": "code",
   "execution_count": 5,
   "id": "94ae8d29",
   "metadata": {},
   "outputs": [
    {
     "data": {
      "text/plain": [
       "\u001b[1mroot\u001b[0m (AsdfObject)\n",
       "\u001b[2m└─\u001b[0m\u001b[1mbirthday\u001b[0m (date)"
      ]
     },
     "execution_count": 5,
     "metadata": {},
     "output_type": "execute_result"
    }
   ],
   "source": [
    "af.search('birthday')"
   ]
  },
  {
   "cell_type": "code",
   "execution_count": 6,
   "id": "85ff4367",
   "metadata": {},
   "outputs": [
    {
     "data": {
      "text/plain": [
       "\u001b[1mroot\u001b[0m (AsdfObject)\n",
       "\u001b[2m└─\u001b[0m\u001b[1mname\u001b[0m (str): Pluto"
      ]
     },
     "execution_count": 6,
     "metadata": {},
     "output_type": "execute_result"
    }
   ],
   "source": [
    "af.search(value='Pluto')"
   ]
  },
  {
   "cell_type": "code",
   "execution_count": 8,
   "id": "c6b5dd23",
   "metadata": {},
   "outputs": [
    {
     "data": {
      "text/plain": [
       "\u001b[1mroot\u001b[0m (AsdfObject)\n",
       "\u001b[2m└─\u001b[0m\u001b[1mmass\u001b[0m (Quantity): shape=(), dtype=float64"
      ]
     },
     "execution_count": 8,
     "metadata": {},
     "output_type": "execute_result"
    }
   ],
   "source": [
    "from astropy import units as u\n",
    "\n",
    "af.search(type=u.Quantity)"
   ]
  },
  {
   "cell_type": "markdown",
   "id": "0ec8fa85",
   "metadata": {},
   "source": [
    "#### Accessing and Modifying a file"
   ]
  },
  {
   "cell_type": "code",
   "execution_count": 9,
   "id": "e6dfa6be",
   "metadata": {},
   "outputs": [
    {
     "name": "stdout",
     "output_type": "stream",
     "text": [
      "10.0 kg\n"
     ]
    }
   ],
   "source": [
    "weight = af['mass']\n",
    "print(weight)"
   ]
  },
  {
   "cell_type": "markdown",
   "id": "cb5889e1",
   "metadata": {},
   "source": [
    "**Exercise 1:**\n",
    "\n",
    "- Open the file in this directory `r002_ssign_wcs.asdf`. Look at the `info` method's help and   display the file using some of the arguments to show more contents.\n",
    "- Search for the attribute `wcs`\n",
    "- Retrieve the `wcs` object following the path showed by the `search` method\n",
    "- print the `wcs` object and evaluate it on pixel (200, 300)\n",
    "- Look at the `data` array and modify the value of `data[0, 0]`  to 999."
   ]
  },
  {
   "cell_type": "markdown",
   "id": "d947c876",
   "metadata": {},
   "source": [
    "#### Using a schema to validate a file"
   ]
  },
  {
   "cell_type": "markdown",
   "id": "956a835d",
   "metadata": {},
   "source": [
    "ASDF uses schemas to check that a file conforms to the [ASDF Standard](https://asdf-standard.readthedocs.io/en/latest/) and possibly the requirements of other extensions (see later notebooks). `jsonschema` is used for validation. Schema validation happens on reading (`asdf.open`) and writing (`write_to` and `update`). \n",
    "\n",
    "However, sometimes it is useful for particular applications to impose additional restrictions when deciding whether a given file is valid or not. ASDF allows using \"custom schemas\" in such cases and passing them to the *open* function.\n"
   ]
  },
  {
   "cell_type": "markdown",
   "id": "ea1ec628",
   "metadata": {},
   "source": [
    "Let's see how to write a schema and make sure our file *pluto.asdf* is correct.\n",
    "A schema is just a text file and and any editor can be used to write it.\n",
    "\n",
    "- There's a yaml header at the begining of each schema which states the version of the YAML schema, followed by `---` and the `$schema` declaration stating the draft.\n",
    "- A schema file ends with `...` .\n",
    "- The ASDF schemas use indentation, similar to YAML, and by convention it is 2 spaces.\n",
    "- `title` is not required but by convention it's a one-line description of an attribute.\n",
    "- `description` is an optional, longer, possibly multi-line comment.\n",
    "- `type` is required\n",
    "- If a `required` field is present, all properties listed in it must be present in the file.\n"
   ]
  },
  {
   "cell_type": "code",
   "execution_count": 10,
   "id": "c921fdfd",
   "metadata": {},
   "outputs": [],
   "source": [
    "s = \"\"\"\n",
    "%YAML 1.1\n",
    "---\n",
    "$schema: http://stsci.edu/schemas/yaml-schema/draft-01\n",
    "\n",
    "title: Mickey's pet\n",
    "description: |\n",
    "  Basic info and a picture of Mickie's \n",
    "  dog Pluto.\n",
    "\n",
    "type: object\n",
    "properties:\n",
    "  age:\n",
    "    title: The age of Pluto\n",
    "    type: object\n",
    "    properties:\n",
    "      birthday:\n",
    "        title: Pluto's first showing\n",
    "        tag: tag:stsci.edu:asdf/time/time-1.1.0\n",
    "  mass:\n",
    "    title: How much he weighs.\n",
    "    tag: tag:stsci.edu:asdf/unit/quantity-1.1.0\n",
    "  picture:\n",
    "    tag: tag:stsci.edu:asdf/core/ndarray-1.0.0\n",
    "  name:\n",
    "    title: Name\n",
    "    type: string\n",
    "required: [name, picture]\n",
    "...\n",
    "\"\"\""
   ]
  },
  {
   "cell_type": "code",
   "execution_count": 11,
   "id": "b3f616a5",
   "metadata": {},
   "outputs": [],
   "source": [
    "f = open('pluto-1.0.0.yaml', mode='w')\n",
    "f.write(s)\n",
    "f.close()"
   ]
  },
  {
   "cell_type": "code",
   "execution_count": 12,
   "id": "88e17155",
   "metadata": {},
   "outputs": [],
   "source": [
    "afs = asdf.open('pluto.asdf', custom_schema='./pluto-1.0.0.yaml')"
   ]
  },
  {
   "cell_type": "markdown",
   "id": "d4c49409",
   "metadata": {},
   "source": [
    "**Exercise 2:**\n",
    "\n",
    "- Add `additionalProperties=false` to the schema and attempt to add a new property.\n",
    "- Modify the schema to include a required property, called `friend` of type string. \n",
    "- Open the file to see the error message\n"
   ]
  },
  {
   "cell_type": "markdown",
   "id": "282b7988",
   "metadata": {},
   "source": [
    "#### Adding History items\n",
    "\n",
    "When using `asdf.info` we see one of the properties is called **History**. By default it stores a list of extensions used when processing the file. It is possible to add custom entries to this list."
   ]
  },
  {
   "cell_type": "code",
   "execution_count": 13,
   "id": "eeefb4ce",
   "metadata": {},
   "outputs": [],
   "source": [
    "afs.add_history_entry('First appeared in \"The Chain Gang\", 1930' )\n"
   ]
  },
  {
   "cell_type": "code",
   "execution_count": 15,
   "id": "656f82f6",
   "metadata": {},
   "outputs": [
    {
     "name": "stdout",
     "output_type": "stream",
     "text": [
      "\u001b[1mroot\u001b[0m (AsdfObject)\n",
      "\u001b[2m├─\u001b[0m\u001b[1masdf_library\u001b[0m (Software)\n",
      "\u001b[2m│ ├─\u001b[0m\u001b[1mauthor\u001b[0m (str): The ASDF Developers\n",
      "\u001b[2m│ ├─\u001b[0m\u001b[1mhomepage\u001b[0m (str): http://github.com/asdf-format/asdf\n",
      "\u001b[2m│ ├─\u001b[0m\u001b[1mname\u001b[0m (str): asdf\n",
      "\u001b[2m│ └─\u001b[0m\u001b[1mversion\u001b[0m (str): 2.12.0\n",
      "\u001b[2m├─\u001b[0m\u001b[1mhistory\u001b[0m (dict)\n",
      "\u001b[2m│ ├─\u001b[0m\u001b[1mextensions\u001b[0m (list)\n",
      "\u001b[2m│ │ ├─\u001b[0m[\u001b[1m0\u001b[0m] (ExtensionMetadata)\n",
      "\u001b[2m│ │ │ ├─\u001b[0m\u001b[1mextension_class\u001b[0m (str): asdf.extension.BuiltinExtension\n",
      "\u001b[2m│ │ │ └─\u001b[0m\u001b[1msoftware\u001b[0m (Software)\n",
      "\u001b[2m│ │ │   ├─\u001b[0m\u001b[1mname\u001b[0m (str): asdf\n",
      "\u001b[2m│ │ │   └─\u001b[0m\u001b[1mversion\u001b[0m (str): 2.12.0\n",
      "\u001b[2m│ │ └─\u001b[0m[\u001b[1m1\u001b[0m] (ExtensionMetadata)\n",
      "\u001b[2m│ │   ├─\u001b[0m\u001b[1mextension_class\u001b[0m (str): asdf.extension._manifest.ManifestExtension\n",
      "\u001b[2m│ │   ├─\u001b[0m\u001b[1mextension_uri\u001b[0m (str): asdf://asdf-format.org/core/extensions/core-1.5.0\n",
      "\u001b[2m│ │   └─\u001b[0m\u001b[1msoftware\u001b[0m (Software)\n",
      "\u001b[2m│ │     ├─\u001b[0m\u001b[1mname\u001b[0m (str): asdf-astropy\n",
      "\u001b[2m│ │     └─\u001b[0m\u001b[1mversion\u001b[0m (str): 0.2.1\n",
      "\u001b[2m│ └─\u001b[0m\u001b[1mentries\u001b[0m (list)\n",
      "\u001b[2m│   └─\u001b[0m[\u001b[1m0\u001b[0m] (HistoryEntry)\n",
      "\u001b[2m│     ├─\u001b[0m\u001b[1mdescription\u001b[0m (str): First appeared in \"The Chain Gang\", 1930\n",
      "\u001b[2m│     └─\u001b[0m\u001b[1mtime\u001b[0m (datetime)\n",
      "\u001b[2m├─\u001b[0m\u001b[1mbirthday\u001b[0m (date)\n",
      "\u001b[2m├─\u001b[0m\u001b[1mmass\u001b[0m (Quantity): shape=(), dtype=float64\n",
      "\u001b[2m├─\u001b[0m\u001b[1mname\u001b[0m (str): Pluto\n",
      "\u001b[2m└─\u001b[0m\u001b[1mpicture\u001b[0m (NDArrayType): shape=(333, 151, 4), dtype=float32\n"
     ]
    }
   ],
   "source": [
    "afs.info(max_rows=30)"
   ]
  },
  {
   "cell_type": "markdown",
   "id": "5917d52f",
   "metadata": {},
   "source": [
    "#### Command Line interface\n",
    "\n",
    "The library, asdf, includes a command-line tool, **asdftool** that performs a number of useful operations:\n",
    "\n",
    "**explode:** Convert a self-contained ASDF file into exploded form (see Saving external arrays).\n",
    "\n",
    "**implode:** Convert an ASDF file in exploded form into a self-contained file.\n",
    "\n",
    "**defragment:** Remove unused blocks and extra space.\n",
    "\n",
    "**diff:** Report differences between two ASDF files.\n",
    "\n",
    "**edit:** Edit the YAML portion of an ASDF file.\n",
    "\n",
    "**info:** Print a rendering of an ASDF tree.\n",
    "\n",
    "**extensions:** Show information about installed extensions (see Extensions from other packages).\n",
    "\n",
    "**tags:** List currently available tags.\n",
    "\n",
    "**to_yaml:** Inline all of the data in an ASDF file so that it is pure YAML.\n",
    "\n",
    "Run **asdftool --help** for more information."
   ]
  },
  {
   "cell_type": "markdown",
   "id": "d7a5ce53",
   "metadata": {},
   "source": [
    "**Exercise 3:**\n",
    "\n",
    "- Use *asdftool* to find the differences in the two files - *pluto.asdf* and *pluto-friend.asdf*\n",
    "- Use some of the other options of *asdftool*"
   ]
  },
  {
   "cell_type": "code",
   "execution_count": null,
   "id": "17761aa0",
   "metadata": {},
   "outputs": [],
   "source": []
  }
 ],
 "metadata": {
  "kernelspec": {
   "display_name": "Python 3 (ipykernel)",
   "language": "python",
   "name": "python3"
  },
  "language_info": {
   "codemirror_mode": {
    "name": "ipython",
    "version": 3
   },
   "file_extension": ".py",
   "mimetype": "text/x-python",
   "name": "python",
   "nbconvert_exporter": "python",
   "pygments_lexer": "ipython3",
   "version": "3.9.12"
  }
 },
 "nbformat": 4,
 "nbformat_minor": 5
}
