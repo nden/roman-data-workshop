{
 "cells": [
  {
   "cell_type": "markdown",
   "id": "88521536",
   "metadata": {},
   "source": [
    "### Working With ASDF Files"
   ]
  },
  {
   "cell_type": "markdown",
   "id": "9869e4d7",
   "metadata": {},
   "source": [
    "#### Outline\n",
    "\n",
    "- Read a file\n",
    "- Show the contents of an ASDF file\n",
    "- Search for an attribute in an ASDF file\n",
    "- Accessing metadata and data\n",
    "- Modifying and saving files\n",
    "- Exercise\n",
    "- Adding History items"
   ]
  },
  {
   "cell_type": "markdown",
   "id": "c65373cf",
   "metadata": {},
   "source": [
    "#### Reading an ASDF file\n",
    "\n",
    "The Python ASDF library is a standalone package distributed through PyPi and conda-forge."
   ]
  },
  {
   "cell_type": "code",
   "execution_count": 3,
   "id": "e4ec0eec",
   "metadata": {},
   "outputs": [],
   "source": [
    "import asdf"
   ]
  },
  {
   "cell_type": "markdown",
   "id": "f57464e0",
   "metadata": {},
   "source": [
    "To open a file use the **open** function. It is useful to look up the keyword arguments it accepts, there are many options specifying how a file should be opened or validated during opening. For this example we will use the default behavior and look at the object."
   ]
  },
  {
   "cell_type": "code",
   "execution_count": 5,
   "id": "1f5996b1",
   "metadata": {},
   "outputs": [],
   "source": [
    "af = asdf.open('r002_assign_wcs.asdf')"
   ]
  },
  {
   "cell_type": "markdown",
   "id": "e056c22b",
   "metadata": {},
   "source": [
    "#### Getting information about a file\n",
    "\n",
    "There are two functions that allow introspecting a file, *info* and *search*. They are available as methods on the AsdFile object or on the command line. Both are configurable through multiple parameters."
   ]
  },
  {
   "cell_type": "markdown",
   "id": "23378973",
   "metadata": {},
   "source": [
    "**The *info* method shows the contents of a file**. "
   ]
  },
  {
   "cell_type": "code",
   "execution_count": 11,
   "id": "d4511116",
   "metadata": {},
   "outputs": [
    {
     "name": "stdout",
     "output_type": "stream",
     "text": [
      "\u001b[1mroot\u001b[0m (AsdfObject)\n",
      "\u001b[2m├─\u001b[0m\u001b[1masdf_library\u001b[0m (Software)\n",
      "\u001b[2m│ ├─\u001b[0m\u001b[1mauthor\u001b[0m (str): The ASDF Developers\n",
      "\u001b[2m│ ├─\u001b[0m\u001b[1mhomepage\u001b[0m (str): http://github.com/asdf-format/asdf\n",
      "\u001b[2m│ ├─\u001b[0m\u001b[1mname\u001b[0m (str): asdf\n",
      "\u001b[2m│ └─\u001b[0m\u001b[1mversion\u001b[0m (str): 2.11.2.dev13+gf9aeb247\n",
      "\u001b[2m├─\u001b[0m\u001b[1mhistory\u001b[0m (dict)\n",
      "\u001b[2m│ └─\u001b[0m\u001b[1mextensions\u001b[0m (list)\n",
      "\u001b[2m│   ├─\u001b[0m[\u001b[1m0\u001b[0m] (ExtensionMetadata)\n",
      "\u001b[2m│   │ ├─\u001b[0m\u001b[1mextension_class\u001b[0m (str): asdf.extension._manifest.ManifestExtension\n",
      "\u001b[2m│   │ ├─\u001b[0m\u001b[1mextension_uri\u001b[0m (str): asdf://asdf-format.org/transform/extensions/transform-1.5.0\n",
      "\u001b[2m│   │ └─\u001b[0m\u001b[1msoftware\u001b[0m (Software)\u001b[3m ...\u001b[0m\n",
      "\u001b[2m│   ├─\u001b[0m[\u001b[1m1\u001b[0m] (ExtensionMetadata)\n",
      "\u001b[2m│   │ ├─\u001b[0m\u001b[1mextension_class\u001b[0m (str): asdf.extension.BuiltinExtension\n",
      "\u001b[2m│   │ └─\u001b[0m\u001b[1msoftware\u001b[0m (Software)\u001b[3m ...\u001b[0m\n",
      "\u001b[2m│   ├─\u001b[0m[\u001b[1m2\u001b[0m] (ExtensionMetadata)\n",
      "\u001b[2m│   │ ├─\u001b[0m\u001b[1mextension_class\u001b[0m (str): asdf.extension._manifest.ManifestExtension\n",
      "\u001b[2m│   │ ├─\u001b[0m\u001b[1mextension_uri\u001b[0m (str): asdf://asdf-format.org/astronomy/gwcs/extensions/gwcs-1.0.0\n",
      "\u001b[2m│   │ └─\u001b[0m\u001b[1msoftware\u001b[0m (Software)\u001b[3m ...\u001b[0m\n",
      "\u001b[2m│   ├─\u001b[0m[\u001b[1m3\u001b[0m] (ExtensionMetadata)\n",
      "\u001b[2m│   │ ├─\u001b[0m\u001b[1mextension_class\u001b[0m (str): asdf.extension._manifest.ManifestExtension\n",
      "\u001b[2m│   │ ├─\u001b[0m\u001b[1mextension_uri\u001b[0m (str): asdf://stsci.edu/datamodels/roman/extensions/datamodels-1.0\n",
      "\u001b[2m│   │ └─\u001b[0m\u001b[1msoftware\u001b[0m (Software)\u001b[3m ...\u001b[0m\n",
      "\u001b[2m│   ├─\u001b[0m[\u001b[1m4\u001b[0m] (ExtensionMetadata)\n",
      "\u001b[2m│   │ ├─\u001b[0m\u001b[1mextension_class\u001b[0m (str): asdf.extension._manifest.ManifestExtension\n",
      "\u001b[2m│   │ ├─\u001b[0m\u001b[1mextension_uri\u001b[0m (str): asdf://asdf-format.org/core/extensions/core-1.5.0\n",
      "\u001b[2m│   │ └─\u001b[0m\u001b[1msoftware\u001b[0m (Software)\u001b[3m ...\u001b[0m\n",
      "\u001b[2m│   └─\u001b[0m[\u001b[1m5\u001b[0m] (ExtensionMetadata)\n",
      "\u001b[2m│     ├─\u001b[0m\u001b[1mextension_class\u001b[0m (str): asdf.extension._manifest.ManifestExtension\n",
      "\u001b[2m│     ├─\u001b[0m\u001b[1mextension_uri\u001b[0m (str): asdf://asdf-format.org/astronomy/coordinates/extensions/coordinates-1.0.0\n",
      "\u001b[2m│     └─\u001b[0m\u001b[1msoftware\u001b[0m (Software)\u001b[3m ...\u001b[0m\n",
      "\u001b[2m└─\u001b[0m\u001b[1mroman\u001b[0m (WfiImage)\u001b[2m\u001b[3m # The schema for WFI Level 2 images.\n",
      "\u001b[0m\u001b[0m\n",
      "\u001b[2m  ├─\u001b[0m\u001b[1mmeta\u001b[0m (dict)\n",
      "\u001b[2m  │ ├─\u001b[0m\u001b[1maperture\u001b[0m (Aperture)\u001b[2m\u001b[3m # Aperture information\u001b[0m\u001b[0m\n",
      "\u001b[2m  │ │ ├─\u001b[0m\u001b[1mname\u001b[0m (str): WFI_CEN\u001b[2m\u001b[3m # PRD science aperture used\u001b[0m\u001b[0m\n",
      "\u001b[2m  │ │ └─\u001b[0m\u001b[1mposition_angle\u001b[0m (int): 120\u001b[2m\u001b[3m # [deg] Position angle of aperture used\u001b[0m\u001b[0m\n",
      "\u001b[2m  │ ├─\u001b[0m\u001b[1mcal_step\u001b[0m (CalStep)\u001b[2m\u001b[3m # Calibration Status\u001b[0m\u001b[0m\n",
      "\u001b[2m  │ │ ├─\u001b[0m\u001b[1massign_wcs\u001b[0m (str): COMPLETE\u001b[2m\u001b[3m # Assign World Coordinate System\u001b[0m\u001b[0m\n",
      "\u001b[2m  │ │ ├─\u001b[0m\u001b[1mflat_field\u001b[0m (str): SKIPPED\u001b[2m\u001b[3m # Flat Field Step\u001b[0m\u001b[0m\n",
      "\u001b[2m  │ │ ├─\u001b[0m\u001b[1mdark\u001b[0m (str): COMPLETE\u001b[2m\u001b[3m # Dark Subtraction\u001b[0m\u001b[0m\n",
      "\u001b[2m  │ │ ├─\u001b[0m\u001b[1mdq_init\u001b[0m (str): COMPLETE\u001b[2m\u001b[3m # Data Quality Mask Step\u001b[0m\u001b[0m\n",
      "\u001b[2m  │ │ ├─\u001b[0m\u001b[1mjump\u001b[0m (str): COMPLETE\u001b[2m\u001b[3m # Jump Detection Step\u001b[0m\u001b[0m\n",
      "\u001b[2m  │ │ ├─\u001b[0m\u001b[1mlinearity\u001b[0m (str): COMPLETE\u001b[2m\u001b[3m # Linearity Correction\u001b[0m\u001b[0m\n",
      "\u001b[2m  │ │ ├─\u001b[0m\u001b[1mphotom\u001b[0m (str): SKIPPED\u001b[2m\u001b[3m # Photometry Step\u001b[0m\u001b[0m\n",
      "\u001b[2m  │ │ ├─\u001b[0m\u001b[1mramp_fit\u001b[0m (str): COMPLETE\u001b[2m\u001b[3m # Ramp Fitting\u001b[0m\u001b[0m\n",
      "\u001b[2m  │ │ └─\u001b[0m\u001b[1msaturation\u001b[0m (str): COMPLETE\u001b[2m\u001b[3m # Saturation Checking\u001b[0m\u001b[0m\n",
      "\u001b[2m  │ ├─\u001b[0m\u001b[1mcalibration_software_version\u001b[0m (str): 0.4.3.dev89+gca5771d\n",
      "\u001b[2m  │ ├─\u001b[0m\u001b[1mcoordinates\u001b[0m (Coordinates)\u001b[2m\u001b[3m # Information about the coordinates in the file\u001b[0m\u001b[0m\n",
      "\u001b[2m  │ │ └─\u001b[0m\u001b[1mreference_frame\u001b[0m (str): ICRS\u001b[2m\u001b[3m # Name of the coordinate reference frame\u001b[0m\u001b[0m\n",
      "\u001b[2m  │ ├─\u001b[0m\u001b[1mcrds_context_used\u001b[0m (str): roman_0031.pmap\n",
      "\u001b[2m  │ ├─\u001b[0m\u001b[1mcrds_software_version\u001b[0m (str): 11.5.0\n",
      "\u001b[2m  │ ├─\u001b[0m\u001b[1mephemeris\u001b[0m (Ephemeris)\u001b[2m\u001b[3m # Ephemeris data information\u001b[0m\u001b[0m\n",
      "\u001b[2m  │ │ ├─\u001b[0m\u001b[1mearth_angle\u001b[0m (float): 3.3161255787892263\u001b[2m\u001b[3m # [radians] Earth Angle\u001b[0m\u001b[0m\n",
      "\u001b[2m  │ │ ├─\u001b[0m\u001b[1mmoon_angle\u001b[0m (float): 3.3196162372932148\u001b[2m\u001b[3m # [radians] Moon Angle\u001b[0m\u001b[0m\n",
      "\u001b[2m  │ │ ├─\u001b[0m\u001b[1msun_angle\u001b[0m (float): 3.316474644639625\u001b[2m\u001b[3m # [radians] Sun Angle\u001b[0m\u001b[0m\n",
      "\u001b[2m  │ │ ├─\u001b[0m\u001b[1mtype\u001b[0m (str): PREDICTED\u001b[2m\u001b[3m # Type of ephemeris\u001b[0m\u001b[0m\n",
      "\u001b[2m  │ │ ├─\u001b[0m\u001b[1mtime\u001b[0m (float): 59458.00172407407\u001b[2m\u001b[3m # UTC time of position and velocity vectors \u001b[2m\u001b[3m (truncated)\u001b[0m\u001b[0m\n",
      "\u001b[2m  │ │ ├─\u001b[0m\u001b[1mephemeris_reference_frame\u001b[0m (str): EME2000\u001b[2m\u001b[3m # Ephemeris reference frame\u001b[0m\u001b[0m\n",
      "\u001b[2m  │ │ ├─\u001b[0m\u001b[1mspatial_x\u001b[0m (int): 100\u001b[2m\u001b[3m # [km] X spatial coordinate of Roman\u001b[0m\u001b[0m\n",
      "\u001b[2m  │ │ ├─\u001b[0m\u001b[1mspatial_y\u001b[0m (int): 20\u001b[2m\u001b[3m # [km] Y spatial coordinate of Roman\u001b[0m\u001b[0m\n",
      "\u001b[2m  │ │ ├─\u001b[0m\u001b[1mspatial_z\u001b[0m (int): 35\u001b[2m\u001b[3m # [km] Z spatial coordinate of Roman\u001b[0m\u001b[0m\n",
      "\u001b[2m  │ │ ├─\u001b[0m\u001b[1mvelocity_x\u001b[0m (int): 10\u001b[2m\u001b[3m # [km/s] X component of Roman velocity\u001b[0m\u001b[0m\n",
      "\u001b[2m  │ │ ├─\u001b[0m\u001b[1mvelocity_y\u001b[0m (int): 2\u001b[2m\u001b[3m # [km/s] Y component of Roman velocity\u001b[0m\u001b[0m\n",
      "\u001b[2m  │ │ └─\u001b[0m\u001b[1mvelocity_z\u001b[0m (float): 3.5\u001b[2m\u001b[3m # [km/s] Z component of Roman velocity\u001b[0m\u001b[0m\n",
      "\u001b[2m  │ ├─\u001b[0m\u001b[1mexposure\u001b[0m (Exposure)\u001b[2m\u001b[3m # Exposure information\n",
      "\u001b[0m\u001b[0m\n",
      "\u001b[2m  │ │ ├─\u001b[0m\u001b[1mid\u001b[0m (int): 1\u001b[2m\u001b[3m # Exposure id number within visit\u001b[0m\u001b[0m\n",
      "\u001b[2m  │ │ ├─\u001b[0m\u001b[1mtype\u001b[0m (str): WFI_GRISM\n",
      "\u001b[2m  │ │ ├─\u001b[0m\u001b[1mstart_time\u001b[0m (Time)\u001b[2m\u001b[3m # UTC exposure start time\u001b[0m\u001b[0m\n",
      "\u001b[2m  │ │ ├─\u001b[0m\u001b[1mmid_time\u001b[0m (Time)\u001b[2m\u001b[3m # UTC exposure mid time\u001b[0m\u001b[0m\n",
      "\u001b[2m  │ │ ├─\u001b[0m\u001b[1mend_time\u001b[0m (Time)\u001b[2m\u001b[3m # UTC exposure end time\u001b[0m\u001b[0m\n",
      "\u001b[2m  │ │ ├─\u001b[0m\u001b[1mstart_time_mjd\u001b[0m (float): 59458.00172407407\u001b[2m\u001b[3m # [d] exposure start time in MJD\u001b[0m\u001b[0m\n",
      "\u001b[2m  │ │ ├─\u001b[0m\u001b[1mmid_time_mjd\u001b[0m (float): 59458.00258611111\u001b[2m\u001b[3m # [d] exposure mid time in MJD\u001b[0m\u001b[0m\n",
      "\u001b[2m  │ │ ├─\u001b[0m\u001b[1mend_time_mjd\u001b[0m (float): 59458.00344814815\u001b[2m\u001b[3m # [d] exposure end time in MJD\u001b[0m\u001b[0m\n",
      "\u001b[2m  │ │ ├─\u001b[0m\u001b[1mstart_time_tdb\u001b[0m (float): 59458.00252479871\u001b[2m\u001b[3m # [d] TDB time of exposure start i\u001b[2m\u001b[3m (truncated)\u001b[0m\u001b[0m\n",
      "\u001b[2m  │ │ ├─\u001b[0m\u001b[1mmid_time_tdb\u001b[0m (float): 59458.00338683575\u001b[2m\u001b[3m # [d] TDB time of exposure mid in MJD\u001b[0m\u001b[0m\n",
      "\u001b[2m  │ │ ├─\u001b[0m\u001b[1mend_time_tdb\u001b[0m (float): 59458.004248872785\u001b[2m\u001b[3m # [d] TDB time of exposure end in MJD\u001b[0m\u001b[0m\n",
      "\u001b[2m  │ │ ├─\u001b[0m\u001b[1mngroups\u001b[0m (int): 6\u001b[2m\u001b[3m # Number of groups in integration\u001b[0m\u001b[0m\n",
      "\u001b[2m  │ │ ├─\u001b[0m\u001b[1mnframes\u001b[0m (int): 8\u001b[2m\u001b[3m # Number of frames per group\u001b[0m\u001b[0m\n",
      "\u001b[2m  │ │ ├─\u001b[0m\u001b[1mdata_problem\u001b[0m (bool): False\u001b[2m\u001b[3m # Science telemetry indicated a problem\u001b[0m\u001b[0m\n",
      "\u001b[2m  │ │ ├─\u001b[0m\u001b[1msca_number\u001b[0m (int): 1\u001b[2m\u001b[3m # Sensor Chip Assembly number\u001b[0m\u001b[0m\n",
      "\u001b[2m  │ │ ├─\u001b[0m\u001b[1mgain_factor\u001b[0m (int): 2\u001b[2m\u001b[3m # Gain scale factor\u001b[0m\u001b[0m\n",
      "\u001b[2m  │ │ ├─\u001b[0m\u001b[1mintegration_time\u001b[0m (float): 197.47\u001b[2m\u001b[3m # [s] Effective integration time\u001b[0m\u001b[0m\n",
      "\u001b[2m  │ │ ├─\u001b[0m\u001b[1melapsed_exposure_time\u001b[0m (float): 193.44\u001b[2m\u001b[3m # [s] Total elapsed exposure time\u001b[0m\u001b[0m\n",
      "\u001b[2m  │ │ ├─\u001b[0m\u001b[1mframe_divisor\u001b[0m (int): 6\u001b[2m\u001b[3m # Divisor applied to frame-averaged groups\u001b[0m\u001b[0m\n",
      "\u001b[2m  │ │ ├─\u001b[0m\u001b[1mgroupgap\u001b[0m (int): 0\u001b[2m\u001b[3m # Number of frames dropped between groups\u001b[0m\u001b[0m\n",
      "\u001b[2m  │ │ ├─\u001b[0m\u001b[1mframe_time\u001b[0m (float): 4.03\u001b[2m\u001b[3m # [s] Time between frames\u001b[0m\u001b[0m\n",
      "\u001b[2m  │ │ ├─\u001b[0m\u001b[1mgroup_time\u001b[0m (float): 24.18\u001b[2m\u001b[3m # [s] Time between groups\u001b[0m\u001b[0m\n",
      "\u001b[2m  │ │ ├─\u001b[0m\u001b[1mexposure_time\u001b[0m (float): 145.92\u001b[2m\u001b[3m # [s] exposure time\u001b[0m\u001b[0m\n",
      "\u001b[2m  │ │ ├─\u001b[0m\u001b[1meffective_exposure_time\u001b[0m (float): 169.26\u001b[2m\u001b[3m # [s] Effective exposure time\u001b[0m\u001b[0m\n",
      "\u001b[2m  │ │ ├─\u001b[0m\u001b[1mduration\u001b[0m (float): 148.96\u001b[2m\u001b[3m # [s] Total duration of exposure\u001b[0m\u001b[0m\n",
      "\u001b[2m  │ │ ├─\u001b[0m\u001b[1mma_table_name\u001b[0m (str): High Latitude Imaging Survey\u001b[2m\u001b[3m # Identifier for the multi\u001b[2m\u001b[3m (truncated)\u001b[0m\u001b[0m\n",
      "\u001b[2m  │ │ ├─\u001b[0m\u001b[1mma_table_number\u001b[0m (int): 1\u001b[2m\u001b[3m # Numerical identifier for the multi-accumulation t\u001b[2m\u001b[3m (truncated)\u001b[0m\u001b[0m\n",
      "\u001b[2m  │ │ └─\u001b[0m\u001b[1mlevel0_compressed\u001b[0m (bool): True\u001b[2m\u001b[3m # Level 0 data was compressed\u001b[0m\u001b[0m\n",
      "\u001b[2m  │ ├─\u001b[0m\u001b[1mfile_date\u001b[0m (Time)\n",
      "\u001b[2m  │ ├─\u001b[0m\u001b[1mfilename\u001b[0m (str): r0000201001001001002_01101_0001_WFI07.asdf\n",
      "\u001b[2m  │ ├─\u001b[0m\u001b[1mguidestar\u001b[0m (Guidestar)\u001b[2m\u001b[3m # Guide star window information\u001b[0m\u001b[0m\n",
      "\u001b[2m  │ │ ├─\u001b[0m\u001b[1mgw_start_time\u001b[0m (Time)\u001b[2m\u001b[3m # UTC time when guide star window activity started\u001b[0m\u001b[0m\n",
      "\u001b[2m  │ │ ├─\u001b[0m\u001b[1mgw_stop_time\u001b[0m (Time)\u001b[2m\u001b[3m # UTC time when guide star window activity completed\u001b[0m\u001b[0m\n",
      "\u001b[2m  │ │ ├─\u001b[0m\u001b[1mgw_id\u001b[0m (str): TEST\u001b[2m\u001b[3m # guide star window identifier\u001b[0m\u001b[0m\n",
      "\u001b[2m  │ │ ├─\u001b[0m\u001b[1mgs_ra\u001b[0m (float): 83.87999291003202\u001b[2m\u001b[3m # [deg] guide star right ascension\u001b[0m\u001b[0m\n",
      "\u001b[2m  │ │ ├─\u001b[0m\u001b[1mgs_dec\u001b[0m (float): -69.32761623392035\u001b[2m\u001b[3m # [deg] guide star declination\u001b[0m\u001b[0m\n",
      "\u001b[2m  │ │ ├─\u001b[0m\u001b[1mgs_ura\u001b[0m (float): 0.0\u001b[2m\u001b[3m # [deg] guide star right ascension uncertainty\u001b[0m\u001b[0m\n",
      "\u001b[2m  │ │ ├─\u001b[0m\u001b[1mgs_udec\u001b[0m (float): 0.0\u001b[2m\u001b[3m # [deg] guide star declination uncertainty\u001b[0m\u001b[0m\n",
      "\u001b[2m  │ │ ├─\u001b[0m\u001b[1mgs_mag\u001b[0m (float): 17.0\u001b[2m\u001b[3m # guide star magnitude in detector\u001b[0m\u001b[0m\n",
      "\u001b[2m  │ │ ├─\u001b[0m\u001b[1mgs_umag\u001b[0m (float): 0.0\u001b[2m\u001b[3m # guide star magnitude uncertainty\u001b[0m\u001b[0m\n",
      "\u001b[2m  │ │ ├─\u001b[0m\u001b[1mgw_fgs_mode\u001b[0m (str): WIM-TRACK\n",
      "\u001b[2m  │ │ ├─\u001b[0m\u001b[1mgw_function_start_time\u001b[0m (Time)\u001b[2m\u001b[3m # Observatory UTC time at guider function start\u001b[0m\u001b[0m\n",
      "\u001b[2m  │ │ ├─\u001b[0m\u001b[1mgw_function_end_time\u001b[0m (Time)\u001b[2m\u001b[3m # Observatory UTC time at guider function end\u001b[0m\u001b[0m\n",
      "\u001b[2m  │ │ ├─\u001b[0m\u001b[1mdata_start\u001b[0m (float): 59458.00170671297\u001b[2m\u001b[3m # MJD start time of guider data within\u001b[2m\u001b[3m (truncated)\u001b[0m\u001b[0m\n",
      "\u001b[2m  │ │ ├─\u001b[0m\u001b[1mdata_end\u001b[0m (float): 59458.00172986111\u001b[2m\u001b[3m # MJD end time of guider data within thi\u001b[2m\u001b[3m (truncated)\u001b[0m\u001b[0m\n",
      "\u001b[2m  │ │ ├─\u001b[0m\u001b[1mgw_acq_exec_stat\u001b[0m (str): SUCCESSFUL\u001b[2m\u001b[3m # Guide star window acquisition execution\u001b[2m\u001b[3m (truncated)\u001b[0m\u001b[0m\n",
      "\u001b[2m  │ │ ├─\u001b[0m\u001b[1mgs_ctd_x\u001b[0m (float): 0.0\u001b[2m\u001b[3m # [arcsec] guide star centroid x position in guider id\u001b[2m\u001b[3m (truncated)\u001b[0m\u001b[0m\n",
      "\u001b[2m  │ │ ├─\u001b[0m\u001b[1mgs_ctd_y\u001b[0m (float): 0.0\u001b[2m\u001b[3m # [arcsec] guide star centroid y position in guider id\u001b[2m\u001b[3m (truncated)\u001b[0m\u001b[0m\n",
      "\u001b[2m  │ │ ├─\u001b[0m\u001b[1mgs_ctd_ux\u001b[0m (float): 0.0\u001b[2m\u001b[3m # uncertainty in the x position of the centroid\u001b[0m\u001b[0m\n",
      "\u001b[2m  │ │ ├─\u001b[0m\u001b[1mgs_ctd_uy\u001b[0m (float): 0.0\u001b[2m\u001b[3m # uncertainty in the y position of the centroid\u001b[0m\u001b[0m\n",
      "\u001b[2m  │ │ ├─\u001b[0m\u001b[1mgs_epoch\u001b[0m (str): J2000\u001b[2m\u001b[3m # Epoch of guide star coordinates\u001b[0m\u001b[0m\n",
      "\u001b[2m  │ │ ├─\u001b[0m\u001b[1mgs_mura\u001b[0m (float): 0.0\u001b[2m\u001b[3m # [mas/yr] Guide star ICRS right ascension proper motion\u001b[0m\u001b[0m\n",
      "\u001b[2m  │ │ ├─\u001b[0m\u001b[1mgs_mudec\u001b[0m (float): 0.0\u001b[2m\u001b[3m # [mas/yr] Guide star ICRS declination proper motion\u001b[0m\u001b[0m\n",
      "\u001b[2m  │ │ ├─\u001b[0m\u001b[1mgs_para\u001b[0m (float): 0.02\u001b[2m\u001b[3m # Guide star annual parallax\u001b[0m\u001b[0m\n",
      "\u001b[2m  │ │ ├─\u001b[0m\u001b[1mgs_pattern_error\u001b[0m (float): 0.0\u001b[2m\u001b[3m # RMS of guide star position\u001b[0m\u001b[0m\n",
      "\u001b[2m  │ │ ├─\u001b[0m\u001b[1mgw_window_xsize\u001b[0m (int): 16\n",
      "\u001b[2m  │ │ ├─\u001b[0m\u001b[1mgw_window_xstart\u001b[0m (float): 2040.0\n",
      "\u001b[2m  │ │ ├─\u001b[0m\u001b[1mgw_window_ysize\u001b[0m (int): 32\n",
      "\u001b[2m  │ │ └─\u001b[0m\u001b[1mgw_window_ystart\u001b[0m (float): 2032.0\n",
      "\u001b[2m  │ ├─\u001b[0m\u001b[1minstrument\u001b[0m (WfiMode)\u001b[2m\u001b[3m # WFI observing configuration\n",
      "\u001b[0m\u001b[0m\n",
      "\u001b[2m  │ │ ├─\u001b[0m\u001b[1mdetector\u001b[0m (str): WFI07\n",
      "\u001b[2m  │ │ ├─\u001b[0m\u001b[1moptical_element\u001b[0m (str): GRISM\n",
      "\u001b[2m  │ │ └─\u001b[0m\u001b[1mname\u001b[0m (str): WFI\u001b[2m\u001b[3m # Instrument used to acquire the data\u001b[0m\u001b[0m\n",
      "\u001b[2m  │ ├─\u001b[0m\u001b[1mmodel_type\u001b[0m (str): WfiScienceRaw\n",
      "\u001b[2m  │ ├─\u001b[0m\u001b[1mobservation\u001b[0m (Observation)\u001b[2m\u001b[3m # Observation identifiers\u001b[0m\u001b[0m\n",
      "\u001b[2m  │ │ ├─\u001b[0m\u001b[1mobs_id\u001b[0m (str): 0000201001001001002011010001\u001b[2m\u001b[3m # Programmatic observation identi\u001b[2m\u001b[3m (truncated)\u001b[0m\u001b[0m\n",
      "\u001b[2m  │ │ ├─\u001b[0m\u001b[1mvisit_id\u001b[0m (str): 0000201001001001002\u001b[2m\u001b[3m # A unique identifier for a visit. The f\u001b[2m\u001b[3m (truncated)\u001b[0m\u001b[0m\n",
      "\u001b[2m  │ │ ├─\u001b[0m\u001b[1mprogram\u001b[0m (int): 2\u001b[2m\u001b[3m # Program number, defined range is 1..18445; included in ob\u001b[2m\u001b[3m (truncated)\u001b[0m\u001b[0m\n",
      "\u001b[2m  │ │ ├─\u001b[0m\u001b[1mexecution_plan\u001b[0m (int): 1\u001b[2m\u001b[3m # Execution plan within the program, defined range i\u001b[2m\u001b[3m (truncated)\u001b[0m\u001b[0m\n",
      "\u001b[2m  │ │ ├─\u001b[0m\u001b[1mpass\u001b[0m (int): 1\u001b[2m\u001b[3m # Pass number within execution plan, defined range is 1..999; \u001b[2m\u001b[3m (truncated)\u001b[0m\u001b[0m\n",
      "\u001b[2m  │ │ ├─\u001b[0m\u001b[1mobservation\u001b[0m (int): 1\u001b[2m\u001b[3m # Observation number within the segment, defined range \u001b[2m\u001b[3m (truncated)\u001b[0m\u001b[0m\n",
      "\u001b[2m  │ │ ├─\u001b[0m\u001b[1msegment\u001b[0m (int): 1\u001b[2m\u001b[3m # Segment Number within pass, defined range is 1..999; incl\u001b[2m\u001b[3m (truncated)\u001b[0m\u001b[0m\n",
      "\u001b[2m  │ │ ├─\u001b[0m\u001b[1mvisit\u001b[0m (int): 2\u001b[2m\u001b[3m # Visit number within the observation, defined range of value\u001b[2m\u001b[3m (truncated)\u001b[0m\u001b[0m\n",
      "\u001b[2m  │ │ ├─\u001b[0m\u001b[1mvisit_file_group\u001b[0m (int): 1\u001b[2m\u001b[3m # Sequence group within the visit file, defined ra\u001b[2m\u001b[3m (truncated)\u001b[0m\u001b[0m\n",
      "\u001b[2m  │ │ ├─\u001b[0m\u001b[1mvisit_file_sequence\u001b[0m (int): 1\u001b[2m\u001b[3m # Visit file sequence within the group, defined\u001b[2m\u001b[3m (truncated)\u001b[0m\u001b[0m\n",
      "\u001b[2m  │ │ ├─\u001b[0m\u001b[1mvisit_file_activity\u001b[0m (str): 01\u001b[2m\u001b[3m # Visit file activity within the sequence, def\u001b[2m\u001b[3m (truncated)\u001b[0m\u001b[0m\n",
      "\u001b[2m  │ │ ├─\u001b[0m\u001b[1mexposure\u001b[0m (int): 1\u001b[2m\u001b[3m # Exposure within the visit, defined range of values is 1.\u001b[2m\u001b[3m (truncated)\u001b[0m\u001b[0m\n",
      "\u001b[2m  │ │ ├─\u001b[0m\u001b[1mtemplate\u001b[0m (str): NONE\u001b[2m\u001b[3m # Observation template used\u001b[0m\u001b[0m\n",
      "\u001b[2m  │ │ ├─\u001b[0m\u001b[1mobservation_label\u001b[0m (str): TEST\u001b[2m\u001b[3m # Proposer label for the observation\u001b[0m\u001b[0m\n",
      "\u001b[2m  │ │ ├─\u001b[0m\u001b[1msurvey\u001b[0m (str): N/A\u001b[2m\u001b[3m # Observation Survey\u001b[0m\u001b[0m\n",
      "\u001b[2m  │ │ └─\u001b[0m\u001b[1mma_table_name\u001b[0m (str): High Latitude Spec. Survey\n",
      "\u001b[2m  │ ├─\u001b[0m\u001b[1morigin\u001b[0m (str): STSCI\n",
      "\u001b[2m  │ ├─\u001b[0m\u001b[1mphotometry\u001b[0m (Photometry)\u001b[2m\u001b[3m # Photometry information\u001b[0m\u001b[0m\n",
      "\u001b[2m  │ │ ├─\u001b[0m\u001b[1mconversion_microjanskys\u001b[0m (NoneType): None\u001b[2m\u001b[3m # Flux density (uJy/arcsec2) produc\u001b[2m\u001b[3m (truncated)\u001b[0m\u001b[0m\n",
      "\u001b[2m  │ │ ├─\u001b[0m\u001b[1mconversion_megajanskys\u001b[0m (NoneType): None\u001b[2m\u001b[3m # Flux density (MJy/steradian) produ\u001b[2m\u001b[3m (truncated)\u001b[0m\u001b[0m\n",
      "\u001b[2m  │ │ ├─\u001b[0m\u001b[1mpixelarea_steradians\u001b[0m (NoneType): None\u001b[2m\u001b[3m # Nominal pixel area in steradians\u001b[0m\u001b[0m\n",
      "\u001b[2m  │ │ ├─\u001b[0m\u001b[1mpixelarea_arcsecsq\u001b[0m (NoneType): None\u001b[2m\u001b[3m # Nominal pixel area in arcsec^2\u001b[0m\u001b[0m\n",
      "\u001b[2m  │ │ ├─\u001b[0m\u001b[1mconversion_megajanskys_uncertainty\u001b[0m (NoneType): None\u001b[2m\u001b[3m # Uncertainty in flux de\u001b[2m\u001b[3m (truncated)\u001b[0m\u001b[0m\n",
      "\u001b[2m  │ │ └─\u001b[0m\u001b[1mconversion_microjanskys_uncertainty\u001b[0m (NoneType): None\u001b[2m\u001b[3m # Uncertainty in flux d\u001b[2m\u001b[3m (truncated)\u001b[0m\u001b[0m\n",
      "\u001b[2m  │ ├─\u001b[0m\u001b[1mpointing\u001b[0m (Pointing)\u001b[2m\u001b[3m # Spacecraft pointing information\u001b[0m\u001b[0m\n",
      "\u001b[2m  │ │ ├─\u001b[0m\u001b[1mra_v1\u001b[0m (float): 83.48452487142407\u001b[2m\u001b[3m # [deg] RA of telescope V1 axis\u001b[0m\u001b[0m\n",
      "\u001b[2m  │ │ ├─\u001b[0m\u001b[1mdec_v1\u001b[0m (float): -68.84784021148778\u001b[2m\u001b[3m # [deg] Dec of telescope V1 axis\u001b[0m\u001b[0m\n",
      "\u001b[2m  │ │ └─\u001b[0m\u001b[1mpa_v3\u001b[0m (float): 0.0\u001b[2m\u001b[3m # [deg] Position angle of telescope V3 axis\u001b[0m\u001b[0m\n",
      "\u001b[2m  │ ├─\u001b[0m\u001b[1mprd_software_version\u001b[0m (str): 0.0.1\n",
      "\u001b[2m  │ ├─\u001b[0m\u001b[1mprogram\u001b[0m (Program)\u001b[2m\u001b[3m # Program information\u001b[0m\u001b[0m\n",
      "\u001b[2m  │ │ ├─\u001b[0m\u001b[1mtitle\u001b[0m (str): TEST DATA\u001b[2m\u001b[3m # Proposal title\u001b[0m\u001b[0m\n",
      "\u001b[2m  │ │ ├─\u001b[0m\u001b[1mpi_name\u001b[0m (str): DESJARDINS, TYLER\u001b[2m\u001b[3m # Principle Investigator name\u001b[0m\u001b[0m\n",
      "\u001b[2m  │ │ ├─\u001b[0m\u001b[1mcategory\u001b[0m (str): GO\u001b[2m\u001b[3m # Program category\u001b[0m\u001b[0m\n",
      "\u001b[2m  │ │ ├─\u001b[0m\u001b[1msubcategory\u001b[0m (str): NONE\u001b[2m\u001b[3m # Program subcategory\u001b[0m\u001b[0m\n",
      "\u001b[2m  │ │ ├─\u001b[0m\u001b[1mscience_category\u001b[0m (str): NONE\u001b[2m\u001b[3m # Science category assigned during TAC process\u001b[0m\u001b[0m\n",
      "\u001b[2m  │ │ └─\u001b[0m\u001b[1mcontinuation_id\u001b[0m (int): 0\u001b[2m\u001b[3m # Continuation of previous Program\u001b[0m\u001b[0m\n",
      "\u001b[2m  │ ├─\u001b[0m\u001b[1mref_file\u001b[0m (RefFile)\u001b[2m\u001b[3m # Reference file information\u001b[0m\u001b[0m\n",
      "\u001b[2m  │ │ └─\u001b[0m\u001b[1mcrds\u001b[0m (dict)\u001b[3m ...\u001b[0m\n",
      "\u001b[2m  │ ├─\u001b[0m\u001b[1msdf_software_version\u001b[0m (str): 0.0.1\n",
      "\u001b[2m  │ ├─\u001b[0m\u001b[1mtarget\u001b[0m (Target)\u001b[2m\u001b[3m # Target information\u001b[0m\u001b[0m\u001b[3m ...\u001b[0m\n",
      "\u001b[2m  │ ├─\u001b[0m\u001b[1mtelescope\u001b[0m (str): ROMAN\n",
      "\u001b[2m  │ ├─\u001b[0m\u001b[1mvelocity_aberration\u001b[0m (VelocityAberration)\u001b[2m\u001b[3m # Velocity aberration correction info\u001b[2m\u001b[3m (truncated)\u001b[0m\u001b[0m\n",
      "\u001b[2m  │ ├─\u001b[0m\u001b[1mvisit\u001b[0m (Visit)\u001b[2m\u001b[3m # Visit information\u001b[0m\u001b[0m\u001b[3m ...\u001b[0m\n",
      "\u001b[2m  │ ├─\u001b[0m\u001b[1mwcs\u001b[0m (WCS)\n",
      "\u001b[2m  │ └─\u001b[0m\u001b[1mwcsinfo\u001b[0m (Wcsinfo)\u001b[2m\u001b[3m # WCS parameters\u001b[0m\u001b[0m\u001b[3m ...\u001b[0m\n",
      "\u001b[2m  ├─\u001b[0m\u001b[1mdata\u001b[0m (NDArrayType): shape=(4088, 4088), dtype=float32\u001b[2m\u001b[3m # Science data, excluding \u001b[2m\u001b[3m (truncated)\u001b[0m\u001b[0m\n",
      "\u001b[2m  ├─\u001b[0m\u001b[1mdq\u001b[0m (NDArrayType): shape=(4088, 4088), dtype=uint32\n",
      "\u001b[2m  ├─\u001b[0m\u001b[1merr\u001b[0m (NDArrayType): shape=(4088, 4088), dtype=float32\n",
      "\u001b[2m  ├─\u001b[0m\u001b[1mvar_poisson\u001b[0m (NDArrayType): shape=(4088, 4088), dtype=float32\n",
      "\u001b[2m  ├─\u001b[0m\u001b[1mvar_rnoise\u001b[0m (NDArrayType): shape=(4088, 4088), dtype=float32\n",
      "\u001b[2m  ├─\u001b[0m\u001b[1mamp33\u001b[0m (NDArrayType): shape=(6, 4096, 128), dtype=uint16\u001b[2m\u001b[3m # Amp 33 reference pixel\u001b[2m\u001b[3m (truncated)\u001b[0m\u001b[0m\n",
      "\u001b[2m  ├─\u001b[0m\u001b[1mborder_ref_pix_left\u001b[0m (NDArrayType): shape=(6, 4096, 4), dtype=float32\u001b[2m\u001b[3m # Original \u001b[2m\u001b[3m (truncated)\u001b[0m\u001b[0m\n",
      "\u001b[2m  ├─\u001b[0m\u001b[1mborder_ref_pix_right\u001b[0m (NDArrayType): shape=(6, 4096, 4), dtype=float32\u001b[2m\u001b[3m # Original\u001b[2m\u001b[3m (truncated)\u001b[0m\u001b[0m\n",
      "\u001b[2m  ├─\u001b[0m\u001b[1mborder_ref_pix_top\u001b[0m (NDArrayType): shape=(6, 4, 4096), dtype=float32\u001b[2m\u001b[3m # Original b\u001b[2m\u001b[3m (truncated)\u001b[0m\u001b[0m\n",
      "\u001b[2m  ├─\u001b[0m\u001b[1mborder_ref_pix_bottom\u001b[0m (NDArrayType): shape=(6, 4, 4096), dtype=float32\u001b[2m\u001b[3m # Origina\u001b[2m\u001b[3m (truncated)\u001b[0m\u001b[0m\n",
      "\u001b[2m  ├─\u001b[0m\u001b[1mdq_border_ref_pix_left\u001b[0m (NDArrayType): shape=(4096, 4), dtype=uint32\u001b[2m\u001b[3m # DQ for bor\u001b[2m\u001b[3m (truncated)\u001b[0m\u001b[0m\n",
      "\u001b[2m  ├─\u001b[0m\u001b[1mdq_border_ref_pix_right\u001b[0m (NDArrayType): shape=(4096, 4), dtype=uint32\u001b[2m\u001b[3m # DQ for bo\u001b[2m\u001b[3m (truncated)\u001b[0m\u001b[0m\n",
      "\u001b[2m  ├─\u001b[0m\u001b[1mdq_border_ref_pix_top\u001b[0m (NDArrayType): shape=(4, 4096), dtype=uint32\u001b[2m\u001b[3m # DQ for bord\u001b[2m\u001b[3m (truncated)\u001b[0m\u001b[0m\n",
      "\u001b[2m  ├─\u001b[0m\u001b[1mdq_border_ref_pix_bottom\u001b[0m (NDArrayType): shape=(4, 4096), dtype=uint32\u001b[2m\u001b[3m # DQ for b\u001b[2m\u001b[3m (truncated)\u001b[0m\u001b[0m\n",
      "\u001b[2m  ├─\u001b[0m\u001b[1mcal_logs\u001b[0m (CalLogs)\u001b[2m\u001b[3m # Calibration log messages\u001b[0m\u001b[0m\n",
      "\u001b[2m  │ ├─\u001b[0m\u001b[1m0\u001b[0m (str): 2022-06-21T10:52:32.154Z :: stpipe.ExposurePipeline.rampfit :: INFO :: Step r\u001b[2m\u001b[3m (truncated)\u001b[0m\u001b[0m\n",
      "\u001b[2m  │ ├─\u001b[0m\u001b[1m1\u001b[0m (str): 2022-06-21T10:52:32.156Z :: stpipe.ExposurePipeline.rampfit :: INFO :: Step r\u001b[2m\u001b[3m (truncated)\u001b[0m\u001b[0m\n",
      "\u001b[2m  │ ├─\u001b[0m\u001b[1m2\u001b[0m (str): 2022-06-21T10:52:33.015Z :: stpipe.ExposurePipeline.rampfit :: INFO :: Using \u001b[2m\u001b[3m (truncated)\u001b[0m\u001b[0m\n",
      "\u001b[2m  │ ├─\u001b[0m\u001b[1m3\u001b[0m (str): 2022-06-21T10:52:33.043Z :: stpipe.ExposurePipeline.rampfit :: INFO :: Using \u001b[2m\u001b[3m (truncated)\u001b[0m\u001b[0m\n",
      "\u001b[2m  │ ├─\u001b[0m\u001b[1m4\u001b[0m (str): 2022-06-21T10:52:33.069Z :: stpipe.ExposurePipeline.rampfit :: INFO :: Using \u001b[2m\u001b[3m (truncated)\u001b[0m\u001b[0m\n",
      "\u001b[2m  │ ├─\u001b[0m\u001b[1m5\u001b[0m (str): 2022-06-21T10:52:33.070Z :: stpipe.ExposurePipeline.rampfit :: INFO :: Using \u001b[2m\u001b[3m (truncated)\u001b[0m\u001b[0m\n",
      "\u001b[2m  │ ├─\u001b[0m\u001b[1m6\u001b[0m (str): 2022-06-21T10:54:11.558Z :: stpipe.ExposurePipeline.rampfit :: DEBUG :: Missi\u001b[2m\u001b[3m (truncated)\u001b[0m\u001b[0m\n",
      "\u001b[2m  │ ├─\u001b[0m\u001b[1m7\u001b[0m (str): 2022-06-21T10:54:12.463Z :: stpipe.ExposurePipeline.rampfit :: DEBUG :: The n\u001b[2m\u001b[3m (truncated)\u001b[0m\u001b[0m\n",
      "\u001b[2m  │ ├─\u001b[0m\u001b[1m8\u001b[0m (str): 2022-06-21T10:54:12.463Z :: stpipe.ExposurePipeline.rampfit :: DEBUG :: due t\u001b[2m\u001b[3m (truncated)\u001b[0m\u001b[0m\n",
      "\u001b[2m  │ ├─\u001b[0m\u001b[1m9\u001b[0m (str): 2022-06-21T10:54:12.506Z :: stpipe.ExposurePipeline.rampfit :: DEBUG :: Count\u001b[2m\u001b[3m (truncated)\u001b[0m\u001b[0m\n",
      "\u001b[2m  │ ├─\u001b[0m\u001b[1m10\u001b[0m (str): 2022-06-21T10:54:12.506Z :: stpipe.ExposurePipeline.rampfit :: DEBUG :: Instrument: WFI\n",
      "\u001b[2m  │ ├─\u001b[0m\u001b[1m11\u001b[0m (str): 2022-06-21T10:54:12.506Z :: stpipe.ExposurePipeline.rampfit :: DEBUG :: Numb\u001b[2m\u001b[3m (truncated)\u001b[0m\u001b[0m\n",
      "\u001b[2m  │ ├─\u001b[0m\u001b[1m12\u001b[0m (str): 2022-06-21T10:54:12.506Z :: stpipe.ExposurePipeline.rampfit :: DEBUG :: Shap\u001b[2m\u001b[3m (truncated)\u001b[0m\u001b[0m\n",
      "\u001b[2m  │ ├─\u001b[0m\u001b[1m13\u001b[0m (str): 2022-06-21T10:54:12.506Z :: stpipe.ExposurePipeline.rampfit :: DEBUG :: Shap\u001b[2m\u001b[3m (truncated)\u001b[0m\u001b[0m\n",
      "\u001b[2m  │ ├─\u001b[0m\u001b[1m14\u001b[0m (str): 2022-06-21T10:54:12.506Z :: stpipe.ExposurePipeline.rampfit :: DEBUG :: Buff\u001b[2m\u001b[3m (truncated)\u001b[0m\u001b[0m\n",
      "\u001b[2m  │ ├─\u001b[0m\u001b[1m15\u001b[0m (str): 2022-06-21T10:54:12.506Z :: stpipe.ExposurePipeline.rampfit :: DEBUG :: Numb\u001b[2m\u001b[3m (truncated)\u001b[0m\u001b[0m\n",
      "\u001b[2m  │ ├─\u001b[0m\u001b[1m16\u001b[0m (str): 2022-06-21T10:54:12.506Z :: stpipe.ExposurePipeline.rampfit :: INFO :: Numbe\u001b[2m\u001b[3m (truncated)\u001b[0m\u001b[0m\n",
      "\u001b[2m  │ ├─\u001b[0m\u001b[1m17\u001b[0m (str): 2022-06-21T10:54:12.507Z :: stpipe.ExposurePipeline.rampfit :: INFO :: Numbe\u001b[2m\u001b[3m (truncated)\u001b[0m\u001b[0m\n",
      "\u001b[2m  │ ├─\u001b[0m\u001b[1m18\u001b[0m (str): 2022-06-21T10:54:12.507Z :: stpipe.ExposurePipeline.rampfit :: DEBUG :: The \u001b[2m\u001b[3m (truncated)\u001b[0m\u001b[0m\n",
      "\u001b[2m  │ ├─\u001b[0m\u001b[1m19\u001b[0m (str): 2022-06-21T10:54:13.588Z :: stpipe.ExposurePipeline.assign_wcs :: INFO :: St\u001b[2m\u001b[3m (truncated)\u001b[0m\u001b[0m\n",
      "\u001b[2m  │ ├─\u001b[0m\u001b[1m20\u001b[0m (str): 2022-06-21T10:54:13.590Z :: stpipe.ExposurePipeline.assign_wcs :: INFO :: St\u001b[2m\u001b[3m (truncated)\u001b[0m\u001b[0m\n",
      "\u001b[2m  │ ├─\u001b[0m\u001b[1m21\u001b[0m (str): 2022-06-21T10:54:13.784Z :: stpipe.ExposurePipeline.assign_wcs :: INFO :: re\u001b[2m\u001b[3m (truncated)\u001b[0m\u001b[0m\n",
      "\u001b[2m  │ ├─\u001b[0m\u001b[1m22\u001b[0m (str): 2022-06-21T10:54:14.044Z :: stpipe.ExposurePipeline.assign_wcs :: DEBUG :: r\u001b[2m\u001b[3m (truncated)\u001b[0m\u001b[0m\n",
      "\u001b[2m  │ ├─\u001b[0m\u001b[1m23\u001b[0m (str): 2022-06-21T10:54:14.333Z :: stpipe.ExposurePipeline.assign_wcs :: WARNING ::\u001b[2m\u001b[3m (truncated)\u001b[0m\u001b[0m\n",
      "\u001b[2m  │ ├─\u001b[0m\u001b[1m24\u001b[0m (str): 2022-06-21T10:54:14.507Z :: stpipe.ExposurePipeline.photom :: INFO :: Step p\u001b[2m\u001b[3m (truncated)\u001b[0m\u001b[0m\n",
      "\u001b[2m  │ ├─\u001b[0m\u001b[1m25\u001b[0m (str): 2022-06-21T10:54:14.509Z :: stpipe.ExposurePipeline.photom :: INFO :: Step p\u001b[2m\u001b[3m (truncated)\u001b[0m\u001b[0m\n",
      "\u001b[2m  │ ├─\u001b[0m\u001b[1m26\u001b[0m (str): 2022-06-21T10:54:14.923Z :: stpipe.ExposurePipeline.photom :: DEBUG :: Using\u001b[2m\u001b[3m (truncated)\u001b[0m\u001b[0m\n",
      "\u001b[2m  │ ├─\u001b[0m\u001b[1m27\u001b[0m (str): 2022-06-21T10:54:14.923Z :: stpipe.ExposurePipeline.photom :: WARNING :: No \u001b[2m\u001b[3m (truncated)\u001b[0m\u001b[0m\n",
      "\u001b[2m  │ ├─\u001b[0m\u001b[1m28\u001b[0m (str): 2022-06-21T10:54:14.923Z :: stpipe.ExposurePipeline.photom :: WARNING :: Pho\u001b[2m\u001b[3m (truncated)\u001b[0m\u001b[0m\n",
      "\u001b[2m  │ ├─\u001b[0m\u001b[1m29\u001b[0m (str): 2022-06-21T10:50:40.770Z :: stpipe.ExposurePipeline :: INFO :: Step Exposure\u001b[2m\u001b[3m (truncated)\u001b[0m\u001b[0m\n",
      "\u001b[2m  │ ├─\u001b[0m\u001b[1m30\u001b[0m (str): 2022-06-21T10:50:40.777Z :: stpipe.ExposurePipeline :: INFO :: Step Exposure\u001b[2m\u001b[3m (truncated)\u001b[0m\u001b[0m\n",
      "\u001b[2m  │ ├─\u001b[0m\u001b[1m31\u001b[0m (str): 2022-06-21T10:50:40.779Z :: stpipe.ExposurePipeline :: INFO :: First argumen\u001b[2m\u001b[3m (truncated)\u001b[0m\u001b[0m\n",
      "\u001b[2m  │ ├─\u001b[0m\u001b[1m32\u001b[0m (str): 2022-06-21T10:50:40.780Z :: stpipe.ExposurePipeline :: INFO :: Starting Roma\u001b[2m\u001b[3m (truncated)\u001b[0m\u001b[0m\n",
      "\u001b[2m  │ ├─\u001b[0m\u001b[1m33\u001b[0m (str): 2022-06-21T10:50:40.870Z :: stpipe.ExposurePipeline :: DEBUG :: Exposure Pro\u001b[2m\u001b[3m (truncated)\u001b[0m\u001b[0m\n",
      "\u001b[2m  │ ├─\u001b[0m\u001b[1m34\u001b[0m (str): 2022-06-21T10:50:40.946Z :: stpipe.ExposurePipeline.dq_init :: INFO :: Step \u001b[2m\u001b[3m (truncated)\u001b[0m\u001b[0m\n",
      "\u001b[2m  │ ├─\u001b[0m\u001b[1m35\u001b[0m (str): 2022-06-21T10:50:40.948Z :: stpipe.ExposurePipeline.dq_init :: INFO :: Step \u001b[2m\u001b[3m (truncated)\u001b[0m\u001b[0m\n",
      "\u001b[2m  │ ├─\u001b[0m\u001b[1m36\u001b[0m (str): 2022-06-21T10:50:42.071Z :: stpipe.ExposurePipeline.dq_init :: DEBUG :: Usin\u001b[2m\u001b[3m (truncated)\u001b[0m\u001b[0m\n",
      "\u001b[2m  │ ├─\u001b[0m\u001b[1m37\u001b[0m (str): 2022-06-21T10:50:42.779Z :: stpipe.ExposurePipeline.dq_init :: INFO :: Step dq_init done\n",
      "\u001b[2m  │ ├─\u001b[0m\u001b[1m38\u001b[0m (str): 2022-06-21T10:50:43.001Z :: stpipe.ExposurePipeline.saturation :: INFO :: St\u001b[2m\u001b[3m (truncated)\u001b[0m\u001b[0m\n",
      "\u001b[2m  │ ├─\u001b[0m\u001b[1m39\u001b[0m (str): 2022-06-21T10:50:43.002Z :: stpipe.ExposurePipeline.saturation :: INFO :: St\u001b[2m\u001b[3m (truncated)\u001b[0m\u001b[0m\n",
      "\u001b[2m  │ ├─\u001b[0m\u001b[1m40\u001b[0m (str): 2022-06-21T10:50:43.619Z :: stpipe.ExposurePipeline.saturation :: INFO :: Us\u001b[2m\u001b[3m (truncated)\u001b[0m\u001b[0m\n",
      "\u001b[2m  │ ├─\u001b[0m\u001b[1m41\u001b[0m (str): 2022-06-21T10:50:45.105Z :: stpipe.ExposurePipeline.saturation :: INFO :: De\u001b[2m\u001b[3m (truncated)\u001b[0m\u001b[0m\n",
      "\u001b[2m  │ ├─\u001b[0m\u001b[1m42\u001b[0m (str): 2022-06-21T10:50:45.194Z :: stpipe.ExposurePipeline.saturation :: INFO :: De\u001b[2m\u001b[3m (truncated)\u001b[0m\u001b[0m\n",
      "\u001b[2m  │ ├─\u001b[0m\u001b[1m43\u001b[0m (str): 2022-06-21T10:50:45.222Z :: stpipe.ExposurePipeline.saturation :: INFO :: St\u001b[2m\u001b[3m (truncated)\u001b[0m\u001b[0m\n",
      "\u001b[2m  │ ├─\u001b[0m\u001b[1m44\u001b[0m (str): 2022-06-21T10:50:45.398Z :: stpipe.ExposurePipeline.linearity :: INFO :: Ste\u001b[2m\u001b[3m (truncated)\u001b[0m\u001b[0m\n",
      "\u001b[2m  │ ├─\u001b[0m\u001b[1m45\u001b[0m (str): 2022-06-21T10:50:45.399Z :: stpipe.ExposurePipeline.linearity :: INFO :: Ste\u001b[2m\u001b[3m (truncated)\u001b[0m\u001b[0m\n",
      "\u001b[2m  │ ├─\u001b[0m\u001b[1m46\u001b[0m (str): 2022-06-21T10:50:46.120Z :: stpipe.ExposurePipeline.linearity :: INFO :: Usi\u001b[2m\u001b[3m (truncated)\u001b[0m\u001b[0m\n",
      "\u001b[2m  │ ├─\u001b[0m\u001b[1m47\u001b[0m (str): 2022-06-21T10:50:49.799Z :: stpipe.ExposurePipeline.linearity :: INFO :: Ste\u001b[2m\u001b[3m (truncated)\u001b[0m\u001b[0m\n",
      "\u001b[2m  │ ├─\u001b[0m\u001b[1m48\u001b[0m (str): 2022-06-21T10:50:50.021Z :: stpipe.ExposurePipeline.dark_current :: INFO :: \u001b[2m\u001b[3m (truncated)\u001b[0m\u001b[0m\n",
      "\u001b[2m  │ ├─\u001b[0m\u001b[1m49\u001b[0m (str): 2022-06-21T10:50:50.022Z :: stpipe.ExposurePipeline.dark_current :: INFO :: \u001b[2m\u001b[3m (truncated)\u001b[0m\u001b[0m\n",
      "\u001b[2m  │ ├─\u001b[0m\u001b[1m50\u001b[0m (str): 2022-06-21T10:50:50.607Z :: stpipe.ExposurePipeline.dark_current :: INFO :: \u001b[2m\u001b[3m (truncated)\u001b[0m\u001b[0m\n",
      "\u001b[2m  │ ├─\u001b[0m\u001b[1m51\u001b[0m (str): 2022-06-21T10:50:50.723Z :: stpipe.ExposurePipeline.dark_current :: INFO :: \u001b[2m\u001b[3m (truncated)\u001b[0m\u001b[0m\n",
      "\u001b[2m  │ ├─\u001b[0m\u001b[1m52\u001b[0m (str): 2022-06-21T10:50:50.723Z :: stpipe.ExposurePipeline.dark_current :: INFO :: \u001b[2m\u001b[3m (truncated)\u001b[0m\u001b[0m\n",
      "\u001b[2m  │ ├─\u001b[0m\u001b[1m53\u001b[0m (str): 2022-06-21T10:50:50.880Z :: stpipe.ExposurePipeline.dark_current :: DEBUG ::\u001b[2m\u001b[3m (truncated)\u001b[0m\u001b[0m\n",
      "\u001b[2m  │ ├─\u001b[0m\u001b[1m54\u001b[0m (str): 2022-06-21T10:50:51.401Z :: stpipe.ExposurePipeline.dark_current :: INFO :: \u001b[2m\u001b[3m (truncated)\u001b[0m\u001b[0m\n",
      "\u001b[2m  │ ├─\u001b[0m\u001b[1m55\u001b[0m (str): 2022-06-21T10:50:51.659Z :: stpipe.ExposurePipeline.jump :: INFO :: Step jum\u001b[2m\u001b[3m (truncated)\u001b[0m\u001b[0m\n",
      "\u001b[2m  │ ├─\u001b[0m\u001b[1m56\u001b[0m (str): 2022-06-21T10:50:51.660Z :: stpipe.ExposurePipeline.jump :: INFO :: Step jum\u001b[2m\u001b[3m (truncated)\u001b[0m\u001b[0m\n",
      "\u001b[2m  │ ├─\u001b[0m\u001b[1m57\u001b[0m (str): 2022-06-21T10:50:52.013Z :: stpipe.ExposurePipeline.jump :: INFO :: CR rejec\u001b[2m\u001b[3m (truncated)\u001b[0m\u001b[0m\n",
      "\u001b[2m  │ ├─\u001b[0m\u001b[1m58\u001b[0m (str): 2022-06-21T10:50:52.292Z :: stpipe.ExposurePipeline.jump :: INFO :: Using GA\u001b[2m\u001b[3m (truncated)\u001b[0m\u001b[0m\n",
      "\u001b[2m  │ ├─\u001b[0m\u001b[1m59\u001b[0m (str): 2022-06-21T10:50:52.597Z :: stpipe.ExposurePipeline.jump :: INFO :: Using RE\u001b[2m\u001b[3m (truncated)\u001b[0m\u001b[0m\n",
      "\u001b[2m  │ ├─\u001b[0m\u001b[1m60\u001b[0m (str): 2022-06-21T10:50:53.190Z :: stpipe.ExposurePipeline.jump :: INFO :: Executin\u001b[2m\u001b[3m (truncated)\u001b[0m\u001b[0m\n",
      "\u001b[2m  │ ├─\u001b[0m\u001b[1m61\u001b[0m (str): 2022-06-21T10:50:53.286Z :: stpipe.ExposurePipeline.jump :: INFO :: Working \u001b[2m\u001b[3m (truncated)\u001b[0m\u001b[0m\n",
      "\u001b[2m  │ ├─\u001b[0m\u001b[1m62\u001b[0m (str): 2022-06-21T10:51:01.545Z :: stpipe.ExposurePipeline.jump :: WARNING :: /User\u001b[2m\u001b[3m (truncated)\u001b[0m\u001b[0m\n",
      "\u001b[2m  │ ├─\u001b[0m\u001b[1m63\u001b[0m (str): 2022-06-21T10:51:01.984Z :: stpipe.ExposurePipeline.jump :: INFO :: From hig\u001b[2m\u001b[3m (truncated)\u001b[0m\u001b[0m\n",
      "\u001b[2m  │ ├─\u001b[0m\u001b[1m64\u001b[0m (str): 2022-06-21T10:51:01.985Z :: stpipe.ExposurePipeline.jump :: INFO :: From hig\u001b[2m\u001b[3m (truncated)\u001b[0m\u001b[0m\n",
      "\u001b[2m  │ ├─\u001b[0m\u001b[1m65\u001b[0m (str): 2022-06-21T10:51:01.985Z :: stpipe.ExposurePipeline.jump :: INFO :: From hig\u001b[2m\u001b[3m (truncated)\u001b[0m\u001b[0m\n",
      "\u001b[2m  │ ├─\u001b[0m\u001b[1m66\u001b[0m (str): 2022-06-21T10:52:31.856Z :: stpipe.ExposurePipeline.jump :: INFO :: Total el\u001b[2m\u001b[3m (truncated)\u001b[0m\u001b[0m\n",
      "\u001b[2m  │ ├─\u001b[0m\u001b[1m67\u001b[0m (str): 2022-06-21T10:52:31.859Z :: stpipe.ExposurePipeline.jump :: INFO :: The exec\u001b[2m\u001b[3m (truncated)\u001b[0m\u001b[0m\n",
      "\u001b[2m  │ ├─\u001b[0m\u001b[1m68\u001b[0m (str): 2022-06-21T10:52:31.885Z :: stpipe.ExposurePipeline.jump :: INFO :: Step jump done\n",
      "\u001b[2m  │ ├─\u001b[0m\u001b[1m69\u001b[0m (str): 2022-06-21T10:52:32.154Z :: stpipe.ExposurePipeline.rampfit :: INFO :: Step \u001b[2m\u001b[3m (truncated)\u001b[0m\u001b[0m\n",
      "\u001b[2m  │ ├─\u001b[0m\u001b[1m70\u001b[0m (str): 2022-06-21T10:52:32.156Z :: stpipe.ExposurePipeline.rampfit :: INFO :: Step \u001b[2m\u001b[3m (truncated)\u001b[0m\u001b[0m\n",
      "\u001b[2m  │ ├─\u001b[0m\u001b[1m71\u001b[0m (str): 2022-06-21T10:52:33.015Z :: stpipe.ExposurePipeline.rampfit :: INFO :: Using\u001b[2m\u001b[3m (truncated)\u001b[0m\u001b[0m\n",
      "\u001b[2m  │ ├─\u001b[0m\u001b[1m72\u001b[0m (str): 2022-06-21T10:52:33.043Z :: stpipe.ExposurePipeline.rampfit :: INFO :: Using\u001b[2m\u001b[3m (truncated)\u001b[0m\u001b[0m\n",
      "\u001b[2m  │ ├─\u001b[0m\u001b[1m73\u001b[0m (str): 2022-06-21T10:52:33.069Z :: stpipe.ExposurePipeline.rampfit :: INFO :: Using\u001b[2m\u001b[3m (truncated)\u001b[0m\u001b[0m\n",
      "\u001b[2m  │ ├─\u001b[0m\u001b[1m74\u001b[0m (str): 2022-06-21T10:52:33.070Z :: stpipe.ExposurePipeline.rampfit :: INFO :: Using\u001b[2m\u001b[3m (truncated)\u001b[0m\u001b[0m\n",
      "\u001b[2m  │ ├─\u001b[0m\u001b[1m75\u001b[0m (str): 2022-06-21T10:54:11.558Z :: stpipe.ExposurePipeline.rampfit :: DEBUG :: Miss\u001b[2m\u001b[3m (truncated)\u001b[0m\u001b[0m\n",
      "\u001b[2m  │ ├─\u001b[0m\u001b[1m76\u001b[0m (str): 2022-06-21T10:54:12.463Z :: stpipe.ExposurePipeline.rampfit :: DEBUG :: The \u001b[2m\u001b[3m (truncated)\u001b[0m\u001b[0m\n",
      "\u001b[2m  │ ├─\u001b[0m\u001b[1m77\u001b[0m (str): 2022-06-21T10:54:12.463Z :: stpipe.ExposurePipeline.rampfit :: DEBUG :: due \u001b[2m\u001b[3m (truncated)\u001b[0m\u001b[0m\n",
      "\u001b[2m  │ ├─\u001b[0m\u001b[1m78\u001b[0m (str): 2022-06-21T10:54:12.506Z :: stpipe.ExposurePipeline.rampfit :: DEBUG :: Coun\u001b[2m\u001b[3m (truncated)\u001b[0m\u001b[0m\n",
      "\u001b[2m  │ ├─\u001b[0m\u001b[1m79\u001b[0m (str): 2022-06-21T10:54:12.506Z :: stpipe.ExposurePipeline.rampfit :: DEBUG :: Instrument: WFI\n",
      "\u001b[2m  │ ├─\u001b[0m\u001b[1m80\u001b[0m (str): 2022-06-21T10:54:12.506Z :: stpipe.ExposurePipeline.rampfit :: DEBUG :: Numb\u001b[2m\u001b[3m (truncated)\u001b[0m\u001b[0m\n",
      "\u001b[2m  │ ├─\u001b[0m\u001b[1m81\u001b[0m (str): 2022-06-21T10:54:12.506Z :: stpipe.ExposurePipeline.rampfit :: DEBUG :: Shap\u001b[2m\u001b[3m (truncated)\u001b[0m\u001b[0m\n",
      "\u001b[2m  │ ├─\u001b[0m\u001b[1m82\u001b[0m (str): 2022-06-21T10:54:12.506Z :: stpipe.ExposurePipeline.rampfit :: DEBUG :: Shap\u001b[2m\u001b[3m (truncated)\u001b[0m\u001b[0m\n",
      "\u001b[2m  │ ├─\u001b[0m\u001b[1m83\u001b[0m (str): 2022-06-21T10:54:12.506Z :: stpipe.ExposurePipeline.rampfit :: DEBUG :: Buff\u001b[2m\u001b[3m (truncated)\u001b[0m\u001b[0m\n",
      "\u001b[2m  │ ├─\u001b[0m\u001b[1m84\u001b[0m (str): 2022-06-21T10:54:12.506Z :: stpipe.ExposurePipeline.rampfit :: DEBUG :: Numb\u001b[2m\u001b[3m (truncated)\u001b[0m\u001b[0m\n",
      "\u001b[2m  │ ├─\u001b[0m\u001b[1m85\u001b[0m (str): 2022-06-21T10:54:12.506Z :: stpipe.ExposurePipeline.rampfit :: INFO :: Numbe\u001b[2m\u001b[3m (truncated)\u001b[0m\u001b[0m\n",
      "\u001b[2m  │ ├─\u001b[0m\u001b[1m86\u001b[0m (str): 2022-06-21T10:54:12.507Z :: stpipe.ExposurePipeline.rampfit :: INFO :: Numbe\u001b[2m\u001b[3m (truncated)\u001b[0m\u001b[0m\n",
      "\u001b[2m  │ ├─\u001b[0m\u001b[1m87\u001b[0m (str): 2022-06-21T10:54:12.507Z :: stpipe.ExposurePipeline.rampfit :: DEBUG :: The \u001b[2m\u001b[3m (truncated)\u001b[0m\u001b[0m\n",
      "\u001b[2m  │ ├─\u001b[0m\u001b[1m88\u001b[0m (str): 2022-06-21T10:54:13.033Z :: stpipe.ExposurePipeline.rampfit :: INFO :: Step rampfit done\n",
      "\u001b[2m  │ ├─\u001b[0m\u001b[1m89\u001b[0m (str): 2022-06-21T10:54:13.588Z :: stpipe.ExposurePipeline.assign_wcs :: INFO :: St\u001b[2m\u001b[3m (truncated)\u001b[0m\u001b[0m\n",
      "\u001b[2m  │ ├─\u001b[0m\u001b[1m90\u001b[0m (str): 2022-06-21T10:54:13.590Z :: stpipe.ExposurePipeline.assign_wcs :: INFO :: St\u001b[2m\u001b[3m (truncated)\u001b[0m\u001b[0m\n",
      "\u001b[2m  │ ├─\u001b[0m\u001b[1m91\u001b[0m (str): 2022-06-21T10:54:13.784Z :: stpipe.ExposurePipeline.assign_wcs :: INFO :: re\u001b[2m\u001b[3m (truncated)\u001b[0m\u001b[0m\n",
      "\u001b[2m  │ ├─\u001b[0m\u001b[1m92\u001b[0m (str): 2022-06-21T10:54:14.044Z :: stpipe.ExposurePipeline.assign_wcs :: DEBUG :: r\u001b[2m\u001b[3m (truncated)\u001b[0m\u001b[0m\n",
      "\u001b[2m  │ ├─\u001b[0m\u001b[1m93\u001b[0m (str): 2022-06-21T10:54:14.333Z :: stpipe.ExposurePipeline.assign_wcs :: WARNING ::\u001b[2m\u001b[3m (truncated)\u001b[0m\u001b[0m\n",
      "\u001b[2m  │ ├─\u001b[0m\u001b[1m94\u001b[0m (str): 2022-06-21T10:54:14.337Z :: stpipe.ExposurePipeline.assign_wcs :: INFO :: St\u001b[2m\u001b[3m (truncated)\u001b[0m\u001b[0m\n",
      "\u001b[2m  │ ├─\u001b[0m\u001b[1m95\u001b[0m (str): 2022-06-21T10:54:14.356Z :: stpipe.ExposurePipeline :: INFO :: Flat Field st\u001b[2m\u001b[3m (truncated)\u001b[0m\u001b[0m\n",
      "\u001b[2m  │ ├─\u001b[0m\u001b[1m96\u001b[0m (str): 2022-06-21T10:54:14.507Z :: stpipe.ExposurePipeline.photom :: INFO :: Step p\u001b[2m\u001b[3m (truncated)\u001b[0m\u001b[0m\n",
      "\u001b[2m  │ ├─\u001b[0m\u001b[1m97\u001b[0m (str): 2022-06-21T10:54:14.509Z :: stpipe.ExposurePipeline.photom :: INFO :: Step p\u001b[2m\u001b[3m (truncated)\u001b[0m\u001b[0m\n",
      "\u001b[2m  │ ├─\u001b[0m\u001b[1m98\u001b[0m (str): 2022-06-21T10:54:14.923Z :: stpipe.ExposurePipeline.photom :: DEBUG :: Using\u001b[2m\u001b[3m (truncated)\u001b[0m\u001b[0m\n",
      "\u001b[2m  │ ├─\u001b[0m\u001b[1m99\u001b[0m (str): 2022-06-21T10:54:14.923Z :: stpipe.ExposurePipeline.photom :: WARNING :: No \u001b[2m\u001b[3m (truncated)\u001b[0m\u001b[0m\n",
      "\u001b[2m  │ ├─\u001b[0m\u001b[1m100\u001b[0m (str): 2022-06-21T10:54:14.923Z :: stpipe.ExposurePipeline.photom :: WARNING :: Ph\u001b[2m\u001b[3m (truncated)\u001b[0m\u001b[0m\n",
      "\u001b[2m  │ ├─\u001b[0m\u001b[1m101\u001b[0m (str): 2022-06-21T10:54:14.924Z :: stpipe.ExposurePipeline.photom :: INFO :: Step photom done\n",
      "\u001b[2m  │ ├─\u001b[0m\u001b[1m102\u001b[0m (str): 2022-06-21T10:54:14.926Z :: stpipe.ExposurePipeline :: INFO :: Roman exposu\u001b[2m\u001b[3m (truncated)\u001b[0m\u001b[0m\n",
      "\u001b[2m  │ ├─\u001b[0m\u001b[1m103\u001b[0m (str): 2022-06-21T11:05:34.561Z :: stpipe.AssignWcsStep :: INFO :: Step AssignWcsS\u001b[2m\u001b[3m (truncated)\u001b[0m\u001b[0m\n",
      "\u001b[2m  │ ├─\u001b[0m\u001b[1m104\u001b[0m (str): 2022-06-21T11:05:34.563Z :: stpipe.AssignWcsStep :: INFO :: Step AssignWcsS\u001b[2m\u001b[3m (truncated)\u001b[0m\u001b[0m\n",
      "\u001b[2m  │ ├─\u001b[0m\u001b[1m105\u001b[0m (str): 2022-06-21T11:05:34.725Z :: stpipe.AssignWcsStep :: INFO :: reftype, distortion\n",
      "\u001b[2m  │ └─\u001b[0m\u001b[1m106\u001b[0m (str): 2022-06-21T11:05:35.034Z :: stpipe.AssignWcsStep :: DEBUG :: reference file\u001b[2m\u001b[3m (truncated)\u001b[0m\u001b[0m\n",
      "\u001b[2m  └─\u001b[0m\u001b[1moutput_file\u001b[0m (str): r0000201001001001002_01101_0001_WFI07.asdf\n",
      "\u001b[2m\u001b[3mSome nodes not shown.\u001b[0m\u001b[0m\n"
     ]
    }
   ],
   "source": [
    "af.info()"
   ]
  },
  {
   "cell_type": "markdown",
   "id": "711b03a4",
   "metadata": {},
   "source": [
    "The asdf library has search capabilities. A file can be search for an attribute by name, type or value."
   ]
  },
  {
   "cell_type": "code",
   "execution_count": 12,
   "id": "24443fdc",
   "metadata": {},
   "outputs": [
    {
     "data": {
      "text/plain": [
       "\u001b[1mroot\u001b[0m (AsdfObject)\n",
       "\u001b[2m└─\u001b[0m\u001b[1mroman\u001b[0m (WfiImage)\u001b[2m\u001b[3m # The schema for WFI Level 2 images.\n",
       "\u001b[0m\u001b[0m\n",
       "\u001b[2m  └─\u001b[0m\u001b[1mmeta\u001b[0m (dict)\n",
       "\u001b[2m    ├─\u001b[0m\u001b[1mcal_step\u001b[0m (CalStep)\u001b[2m\u001b[3m # Calibration Status\u001b[0m\u001b[0m\n",
       "\u001b[2m    │ └─\u001b[0m\u001b[1massign_wcs\u001b[0m (str): COMPLETE\u001b[2m\u001b[3m # Assign World Coordinate System\u001b[0m\u001b[0m\n",
       "\u001b[2m    ├─\u001b[0m\u001b[1mwcs\u001b[0m (WCS)\n",
       "\u001b[2m    └─\u001b[0m\u001b[1mwcsinfo\u001b[0m (Wcsinfo)\u001b[2m\u001b[3m # WCS parameters\u001b[0m\u001b[0m"
      ]
     },
     "execution_count": 12,
     "metadata": {},
     "output_type": "execute_result"
    }
   ],
   "source": [
    "af.search('wcs')"
   ]
  },
  {
   "cell_type": "code",
   "execution_count": 14,
   "id": "4ab8f4af",
   "metadata": {},
   "outputs": [
    {
     "data": {
      "text/plain": [
       "\u001b[1mroot\u001b[0m (AsdfObject)\n",
       "\u001b[2m└─\u001b[0m\u001b[1mroman\u001b[0m (WfiImage)\u001b[2m\u001b[3m # The schema for WFI Level 2 images.\n",
       "\u001b[0m\u001b[0m\n",
       "\u001b[2m  ├─\u001b[0m\u001b[1mmeta\u001b[0m (dict)\n",
       "\u001b[2m  │ ├─\u001b[0m\u001b[1maperture\u001b[0m (Aperture)\u001b[2m\u001b[3m # Aperture information\u001b[0m\u001b[0m\n",
       "\u001b[2m  │ │ └─\u001b[0m\u001b[1mname\u001b[0m (str): WFI_CEN\u001b[2m\u001b[3m # PRD science aperture used\u001b[0m\u001b[0m\n",
       "\u001b[2m  │ ├─\u001b[0m\u001b[1mexposure\u001b[0m (Exposure)\u001b[2m\u001b[3m # Exposure information\n",
       "\u001b[0m\u001b[0m\n",
       "\u001b[2m  │ │ └─\u001b[0m\u001b[1mtype\u001b[0m (str): WFI_GRISM\n",
       "\u001b[2m  │ ├─\u001b[0m\u001b[1mfilename\u001b[0m (str): r0000201001001001002_01101_0001_WFI07.asdf\n",
       "\u001b[2m  │ └─\u001b[0m\u001b[1minstrument\u001b[0m (WfiMode)\u001b[2m\u001b[3m # WFI observing configuration\n",
       "\u001b[0m\u001b[0m\n",
       "\u001b[2m  │   ├─\u001b[0m\u001b[1mdetector\u001b[0m (str): WFI07\n",
       "\u001b[2m  │   └─\u001b[0m\u001b[1mname\u001b[0m (str): WFI\u001b[2m\u001b[3m # Instrument used to acquire the data\u001b[0m\u001b[0m\n",
       "\u001b[2m  ├─\u001b[0m\u001b[1mcal_logs\u001b[0m (CalLogs)\u001b[2m\u001b[3m # Calibration log messages\u001b[0m\u001b[0m\n",
       "\u001b[2m  │ ├─\u001b[0m\u001b[1m10\u001b[0m (str): 2022-06-21T10:54:12.506Z :: stpipe.ExposurePipeline.rampfit :: DEBUG :: Instrument: WFI\n",
       "\u001b[2m  │ ├─\u001b[0m\u001b[1m29\u001b[0m (str): 2022-06-21T10:50:40.770Z :: stpipe.ExposurePipeline :: INFO :: Step Exposure\u001b[2m\u001b[3m (truncated)\u001b[0m\u001b[0m\n",
       "\u001b[2m  │ ├─\u001b[0m\u001b[1m31\u001b[0m (str): 2022-06-21T10:50:40.779Z :: stpipe.ExposurePipeline :: INFO :: First argumen\u001b[2m\u001b[3m (truncated)\u001b[0m\u001b[0m\n",
       "\u001b[2m  │ ├─\u001b[0m\u001b[1m33\u001b[0m (str): 2022-06-21T10:50:40.870Z :: stpipe.ExposurePipeline :: DEBUG :: Exposure Pro\u001b[2m\u001b[3m (truncated)\u001b[0m\u001b[0m\n",
       "\u001b[2m  │ ├─\u001b[0m\u001b[1m79\u001b[0m (str): 2022-06-21T10:54:12.506Z :: stpipe.ExposurePipeline.rampfit :: DEBUG :: Instrument: WFI\n",
       "\u001b[2m  │ └─\u001b[0m\u001b[1m103\u001b[0m (str): 2022-06-21T11:05:34.561Z :: stpipe.AssignWcsStep :: INFO :: Step AssignWcsS\u001b[2m\u001b[3m (truncated)\u001b[0m\u001b[0m\n",
       "\u001b[2m  └─\u001b[0m\u001b[1moutput_file\u001b[0m (str): r0000201001001001002_01101_0001_WFI07.asdf"
      ]
     },
     "execution_count": 14,
     "metadata": {},
     "output_type": "execute_result"
    }
   ],
   "source": [
    "af.search(value='WFI')"
   ]
  },
  {
   "cell_type": "code",
   "execution_count": 13,
   "id": "7a7712ef",
   "metadata": {},
   "outputs": [
    {
     "data": {
      "text/plain": [
       "\u001b[1mroot\u001b[0m (AsdfObject)\n",
       "\u001b[2m└─\u001b[0m\u001b[1mroman\u001b[0m (WfiImage)\u001b[2m\u001b[3m # The schema for WFI Level 2 images.\n",
       "\u001b[0m\u001b[0m\n",
       "\u001b[2m  └─\u001b[0m\u001b[1mmeta\u001b[0m (dict)\n",
       "\u001b[2m    └─\u001b[0m\u001b[1mwcs\u001b[0m (WCS)"
      ]
     },
     "execution_count": 13,
     "metadata": {},
     "output_type": "execute_result"
    }
   ],
   "source": [
    "from gwcs import WCS\n",
    "\n",
    "af.search(type=WCS)"
   ]
  },
  {
   "cell_type": "markdown",
   "id": "b6fa687b",
   "metadata": {},
   "source": [
    "#### Accessing and Modifying a file"
   ]
  },
  {
   "cell_type": "code",
   "execution_count": 16,
   "id": "b811ffe9",
   "metadata": {},
   "outputs": [
    {
     "name": "stdout",
     "output_type": "stream",
     "text": [
      "  From     Transform  \n",
      "-------- -------------\n",
      "detector CompoundModel\n",
      "    v2v3      v23tosky\n",
      "   world          None\n"
     ]
    }
   ],
   "source": [
    "w = af['roman']['meta']['wcs']\n",
    "print(w)"
   ]
  },
  {
   "cell_type": "code",
   "execution_count": 18,
   "id": "a8c26762",
   "metadata": {},
   "outputs": [
    {
     "data": {
      "text/plain": [
       "array([[13.169418 , 11.421084 , 31.831703 , ..., 28.526772 , 15.065651 ,\n",
       "        16.435959 ],\n",
       "       [ 2.0519984, 22.071646 , 28.865814 , ..., 10.424057 , 10.968319 ,\n",
       "        50.12     ],\n",
       "       [17.03684  , 14.658701 , 27.407093 , ..., 11.328522 , 16.260082 ,\n",
       "        12.559191 ],\n",
       "       ...,\n",
       "       [26.335503 , 16.206621 , 12.851121 , ..., 21.996883 , 22.182444 ,\n",
       "         8.487001 ],\n",
       "       [18.034378 , 16.855669 ,  8.183829 , ..., 29.054497 , 16.021288 ,\n",
       "         0.3593996],\n",
       "       [42.71249  , -4.2684755, 40.994675 , ..., 45.805332 , 14.370688 ,\n",
       "        10.289682 ]], dtype=float32)"
      ]
     },
     "execution_count": 18,
     "metadata": {},
     "output_type": "execute_result"
    }
   ],
   "source": [
    "af['roman']['data']"
   ]
  },
  {
   "cell_type": "markdown",
   "id": "406d0745",
   "metadata": {},
   "source": [
    "Let's modify the first element of the array. By default ASDF files are opened in *read only* mode."
   ]
  },
  {
   "cell_type": "code",
   "execution_count": 19,
   "id": "a09a8563",
   "metadata": {},
   "outputs": [
    {
     "ename": "ValueError",
     "evalue": "assignment destination is read-only",
     "output_type": "error",
     "traceback": [
      "\u001b[0;31m---------------------------------------------------------------------------\u001b[0m",
      "\u001b[0;31mValueError\u001b[0m                                Traceback (most recent call last)",
      "Input \u001b[0;32mIn [19]\u001b[0m, in \u001b[0;36m<cell line: 1>\u001b[0;34m()\u001b[0m\n\u001b[0;32m----> 1\u001b[0m af[\u001b[38;5;124m'\u001b[39m\u001b[38;5;124mroman\u001b[39m\u001b[38;5;124m'\u001b[39m][\u001b[38;5;124m'\u001b[39m\u001b[38;5;124mdata\u001b[39m\u001b[38;5;124m'\u001b[39m][\u001b[38;5;241m0\u001b[39m,\u001b[38;5;241m0\u001b[39m]\u001b[38;5;241m=\u001b[39m\u001b[38;5;241m0\u001b[39m\n",
      "File \u001b[0;32m~/opt/anaconda3/envs/rb6/lib/python3.9/site-packages/asdf/tags/core/ndarray.py:365\u001b[0m, in \u001b[0;36mNDArrayType.__setitem__\u001b[0;34m(self, *args)\u001b[0m\n\u001b[1;32m    363\u001b[0m \u001b[38;5;28;01mexcept\u001b[39;00m \u001b[38;5;167;01mException\u001b[39;00m \u001b[38;5;28;01mas\u001b[39;00m e:\n\u001b[1;32m    364\u001b[0m     \u001b[38;5;28mself\u001b[39m\u001b[38;5;241m.\u001b[39m_array \u001b[38;5;241m=\u001b[39m \u001b[38;5;28;01mNone\u001b[39;00m\n\u001b[0;32m--> 365\u001b[0m     \u001b[38;5;28;01mraise\u001b[39;00m e \u001b[38;5;28;01mfrom\u001b[39;00m \u001b[38;5;28mNone\u001b[39m\n",
      "File \u001b[0;32m~/opt/anaconda3/envs/rb6/lib/python3.9/site-packages/asdf/tags/core/ndarray.py:362\u001b[0m, in \u001b[0;36mNDArrayType.__setitem__\u001b[0;34m(self, *args)\u001b[0m\n\u001b[1;32m    357\u001b[0m \u001b[38;5;28;01mdef\u001b[39;00m \u001b[38;5;21m__setitem__\u001b[39m(\u001b[38;5;28mself\u001b[39m, \u001b[38;5;241m*\u001b[39margs):\n\u001b[1;32m    358\u001b[0m     \u001b[38;5;66;03m# This workaround appears to be necessary in order to avoid a segfault\u001b[39;00m\n\u001b[1;32m    359\u001b[0m     \u001b[38;5;66;03m# in the case that array assignment causes an exception. The segfault\u001b[39;00m\n\u001b[1;32m    360\u001b[0m     \u001b[38;5;66;03m# originates from the call to __repr__ inside the traceback report.\u001b[39;00m\n\u001b[1;32m    361\u001b[0m     \u001b[38;5;28;01mtry\u001b[39;00m:\n\u001b[0;32m--> 362\u001b[0m         \u001b[38;5;28;43mself\u001b[39;49m\u001b[38;5;241;43m.\u001b[39;49m\u001b[43m_make_array\u001b[49m\u001b[43m(\u001b[49m\u001b[43m)\u001b[49m\u001b[38;5;241;43m.\u001b[39;49m\u001b[38;5;21;43m__setitem__\u001b[39;49m\u001b[43m(\u001b[49m\u001b[38;5;241;43m*\u001b[39;49m\u001b[43margs\u001b[49m\u001b[43m)\u001b[49m\n\u001b[1;32m    363\u001b[0m     \u001b[38;5;28;01mexcept\u001b[39;00m \u001b[38;5;167;01mException\u001b[39;00m \u001b[38;5;28;01mas\u001b[39;00m e:\n\u001b[1;32m    364\u001b[0m         \u001b[38;5;28mself\u001b[39m\u001b[38;5;241m.\u001b[39m_array \u001b[38;5;241m=\u001b[39m \u001b[38;5;28;01mNone\u001b[39;00m\n",
      "\u001b[0;31mValueError\u001b[0m: assignment destination is read-only"
     ]
    }
   ],
   "source": [
    "af['roman']['data'][0,0]=0"
   ]
  },
  {
   "cell_type": "code",
   "execution_count": 34,
   "id": "d86020f5",
   "metadata": {},
   "outputs": [
    {
     "ename": "ValueError",
     "evalue": "Block '8' not found.",
     "output_type": "error",
     "traceback": [
      "\u001b[0;31m---------------------------------------------------------------------------\u001b[0m",
      "\u001b[0;31mValueError\u001b[0m                                Traceback (most recent call last)",
      "Input \u001b[0;32mIn [34]\u001b[0m, in \u001b[0;36m<cell line: 7>\u001b[0;34m()\u001b[0m\n\u001b[1;32m      5\u001b[0m af \u001b[38;5;241m=\u001b[39m asdf\u001b[38;5;241m.\u001b[39mopen(\u001b[38;5;124m'\u001b[39m\u001b[38;5;124mr002_assign_wcs.asdf\u001b[39m\u001b[38;5;124m'\u001b[39m)\n\u001b[1;32m      6\u001b[0m af[\u001b[38;5;124m'\u001b[39m\u001b[38;5;124mroman\u001b[39m\u001b[38;5;124m'\u001b[39m][\u001b[38;5;124m'\u001b[39m\u001b[38;5;124mdata\u001b[39m\u001b[38;5;124m'\u001b[39m]\n\u001b[0;32m----> 7\u001b[0m \u001b[43maf\u001b[49m\u001b[38;5;241;43m.\u001b[39;49m\u001b[43mwrite_to\u001b[49m\u001b[43m(\u001b[49m\u001b[38;5;124;43m'\u001b[39;49m\u001b[38;5;124;43mtodel.asdf\u001b[39;49m\u001b[38;5;124;43m'\u001b[39;49m\u001b[43m)\u001b[49m\n",
      "File \u001b[0;32m~/opt/anaconda3/envs/rb6/lib/python3.9/site-packages/asdf/asdf.py:1314\u001b[0m, in \u001b[0;36mAsdfFile.write_to\u001b[0;34m(self, fd, all_array_storage, all_array_compression, pad_blocks, include_block_index, version, compression_kwargs, **kwargs)\u001b[0m\n\u001b[1;32m   1311\u001b[0m \u001b[38;5;28mself\u001b[39m\u001b[38;5;241m.\u001b[39m_pre_write(fd, all_array_storage, all_array_compression, compression_kwargs\u001b[38;5;241m=\u001b[39mcompression_kwargs)\n\u001b[1;32m   1313\u001b[0m \u001b[38;5;28;01mtry\u001b[39;00m:\n\u001b[0;32m-> 1314\u001b[0m     \u001b[38;5;28;43mself\u001b[39;49m\u001b[38;5;241;43m.\u001b[39;49m\u001b[43m_serial_write\u001b[49m\u001b[43m(\u001b[49m\u001b[43mfd\u001b[49m\u001b[43m,\u001b[49m\u001b[43m \u001b[49m\u001b[43mpad_blocks\u001b[49m\u001b[43m,\u001b[49m\u001b[43m \u001b[49m\u001b[43minclude_block_index\u001b[49m\u001b[43m)\u001b[49m\n\u001b[1;32m   1315\u001b[0m     fd\u001b[38;5;241m.\u001b[39mflush()\n\u001b[1;32m   1316\u001b[0m \u001b[38;5;28;01mfinally\u001b[39;00m:\n",
      "File \u001b[0;32m~/opt/anaconda3/envs/rb6/lib/python3.9/site-packages/asdf/asdf.py:1066\u001b[0m, in \u001b[0;36mAsdfFile._serial_write\u001b[0;34m(self, fd, pad_blocks, include_block_index)\u001b[0m\n\u001b[1;32m   1065\u001b[0m \u001b[38;5;28;01mdef\u001b[39;00m \u001b[38;5;21m_serial_write\u001b[39m(\u001b[38;5;28mself\u001b[39m, fd, pad_blocks, include_block_index):\n\u001b[0;32m-> 1066\u001b[0m     \u001b[38;5;28;43mself\u001b[39;49m\u001b[38;5;241;43m.\u001b[39;49m\u001b[43m_write_tree\u001b[49m\u001b[43m(\u001b[49m\u001b[38;5;28;43mself\u001b[39;49m\u001b[38;5;241;43m.\u001b[39;49m\u001b[43m_tree\u001b[49m\u001b[43m,\u001b[49m\u001b[43m \u001b[49m\u001b[43mfd\u001b[49m\u001b[43m,\u001b[49m\u001b[43m \u001b[49m\u001b[43mpad_blocks\u001b[49m\u001b[43m)\u001b[49m\n\u001b[1;32m   1067\u001b[0m     \u001b[38;5;28mself\u001b[39m\u001b[38;5;241m.\u001b[39mblocks\u001b[38;5;241m.\u001b[39mwrite_internal_blocks_serial(fd, pad_blocks)\n\u001b[1;32m   1068\u001b[0m     \u001b[38;5;28mself\u001b[39m\u001b[38;5;241m.\u001b[39mblocks\u001b[38;5;241m.\u001b[39mwrite_external_blocks(fd\u001b[38;5;241m.\u001b[39muri, pad_blocks)\n",
      "File \u001b[0;32m~/opt/anaconda3/envs/rb6/lib/python3.9/site-packages/asdf/asdf.py:1039\u001b[0m, in \u001b[0;36mAsdfFile._write_tree\u001b[0;34m(self, tree, fd, pad_blocks)\u001b[0m\n\u001b[1;32m   1036\u001b[0m         \u001b[38;5;28;01melse\u001b[39;00m:\n\u001b[1;32m   1037\u001b[0m             tagged_tree\u001b[38;5;241m.\u001b[39mpop(\u001b[38;5;124m\"\u001b[39m\u001b[38;5;124mhistory\u001b[39m\u001b[38;5;124m\"\u001b[39m, \u001b[38;5;28;01mNone\u001b[39;00m)\n\u001b[0;32m-> 1039\u001b[0m     \u001b[43myamlutil\u001b[49m\u001b[38;5;241;43m.\u001b[39;49m\u001b[43mdump_tree\u001b[49m\u001b[43m(\u001b[49m\n\u001b[1;32m   1040\u001b[0m \u001b[43m        \u001b[49m\u001b[43mtree\u001b[49m\u001b[43m,\u001b[49m\u001b[43m \u001b[49m\u001b[43mfd\u001b[49m\u001b[43m,\u001b[49m\u001b[43m \u001b[49m\u001b[38;5;28;43mself\u001b[39;49m\u001b[43m,\u001b[49m\u001b[43m \u001b[49m\u001b[43mtree_finalizer\u001b[49m\u001b[38;5;241;43m=\u001b[39;49m\u001b[43m_tree_finalizer\u001b[49m\u001b[43m,\u001b[49m\u001b[43m \u001b[49m\u001b[43m_serialization_context\u001b[49m\u001b[38;5;241;43m=\u001b[39;49m\u001b[43mserialization_context\u001b[49m\n\u001b[1;32m   1041\u001b[0m \u001b[43m    \u001b[49m\u001b[43m)\u001b[49m\n\u001b[1;32m   1043\u001b[0m \u001b[38;5;28;01mif\u001b[39;00m pad_blocks:\n\u001b[1;32m   1044\u001b[0m     padding \u001b[38;5;241m=\u001b[39m util\u001b[38;5;241m.\u001b[39mcalculate_padding(fd\u001b[38;5;241m.\u001b[39mtell(), pad_blocks, fd\u001b[38;5;241m.\u001b[39mblock_size)\n",
      "File \u001b[0;32m~/opt/anaconda3/envs/rb6/lib/python3.9/site-packages/asdf/yamlutil.py:388\u001b[0m, in \u001b[0;36mdump_tree\u001b[0;34m(tree, fd, ctx, tree_finalizer, _serialization_context)\u001b[0m\n\u001b[1;32m    385\u001b[0m     \u001b[38;5;28;01mraise\u001b[39;00m \u001b[38;5;167;01mTypeError\u001b[39;00m(\u001b[38;5;124m\"\u001b[39m\u001b[38;5;124mRoot node of ASDF tree must be of type AsdfObject\u001b[39m\u001b[38;5;124m\"\u001b[39m)\n\u001b[1;32m    387\u001b[0m tags \u001b[38;5;241m=\u001b[39m {\u001b[38;5;124m\"\u001b[39m\u001b[38;5;124m!\u001b[39m\u001b[38;5;124m\"\u001b[39m: STSCI_SCHEMA_TAG_BASE \u001b[38;5;241m+\u001b[39m \u001b[38;5;124m\"\u001b[39m\u001b[38;5;124m/\u001b[39m\u001b[38;5;124m\"\u001b[39m}\n\u001b[0;32m--> 388\u001b[0m tree \u001b[38;5;241m=\u001b[39m \u001b[43mcustom_tree_to_tagged_tree\u001b[49m\u001b[43m(\u001b[49m\u001b[43mtree\u001b[49m\u001b[43m,\u001b[49m\u001b[43m \u001b[49m\u001b[43mctx\u001b[49m\u001b[43m,\u001b[49m\u001b[43m \u001b[49m\u001b[43m_serialization_context\u001b[49m\u001b[38;5;241;43m=\u001b[39;49m\u001b[43m_serialization_context\u001b[49m\u001b[43m)\u001b[49m\n\u001b[1;32m    389\u001b[0m \u001b[38;5;28;01mif\u001b[39;00m tree_finalizer \u001b[38;5;129;01mis\u001b[39;00m \u001b[38;5;129;01mnot\u001b[39;00m \u001b[38;5;28;01mNone\u001b[39;00m:\n\u001b[1;32m    390\u001b[0m     tree_finalizer(tree)\n",
      "File \u001b[0;32m~/opt/anaconda3/envs/rb6/lib/python3.9/site-packages/asdf/yamlutil.py:261\u001b[0m, in \u001b[0;36mcustom_tree_to_tagged_tree\u001b[0;34m(tree, ctx, _serialization_context)\u001b[0m\n\u001b[1;32m    258\u001b[0m             \u001b[38;5;28;01mreturn\u001b[39;00m tag\u001b[38;5;241m.\u001b[39mto_tree_tagged(obj, ctx)\n\u001b[1;32m    259\u001b[0m         \u001b[38;5;28;01mreturn\u001b[39;00m obj\n\u001b[0;32m--> 261\u001b[0m \u001b[38;5;28;01mreturn\u001b[39;00m \u001b[43mtreeutil\u001b[49m\u001b[38;5;241;43m.\u001b[39;49m\u001b[43mwalk_and_modify\u001b[49m\u001b[43m(\u001b[49m\n\u001b[1;32m    262\u001b[0m \u001b[43m    \u001b[49m\u001b[43mtree\u001b[49m\u001b[43m,\u001b[49m\n\u001b[1;32m    263\u001b[0m \u001b[43m    \u001b[49m\u001b[43m_walker\u001b[49m\u001b[43m,\u001b[49m\n\u001b[1;32m    264\u001b[0m \u001b[43m    \u001b[49m\u001b[43mignore_implicit_conversion\u001b[49m\u001b[38;5;241;43m=\u001b[39;49m\u001b[43mctx\u001b[49m\u001b[38;5;241;43m.\u001b[39;49m\u001b[43m_ignore_implicit_conversion\u001b[49m\u001b[43m,\u001b[49m\n\u001b[1;32m    265\u001b[0m \u001b[43m    \u001b[49m\u001b[38;5;66;43;03m# Walk the tree in preorder, so that extensions can return\u001b[39;49;00m\n\u001b[1;32m    266\u001b[0m \u001b[43m    \u001b[49m\u001b[38;5;66;43;03m# container nodes with unserialized children.\u001b[39;49;00m\n\u001b[1;32m    267\u001b[0m \u001b[43m    \u001b[49m\u001b[43mpostorder\u001b[49m\u001b[38;5;241;43m=\u001b[39;49m\u001b[38;5;28;43;01mFalse\u001b[39;49;00m\u001b[43m,\u001b[49m\n\u001b[1;32m    268\u001b[0m \u001b[43m    \u001b[49m\u001b[43m_context\u001b[49m\u001b[38;5;241;43m=\u001b[39;49m\u001b[43mctx\u001b[49m\u001b[38;5;241;43m.\u001b[39;49m\u001b[43m_tree_modification_context\u001b[49m\u001b[43m,\u001b[49m\n\u001b[1;32m    269\u001b[0m \u001b[43m\u001b[49m\u001b[43m)\u001b[49m\n",
      "File \u001b[0;32m~/opt/anaconda3/envs/rb6/lib/python3.9/site-packages/asdf/treeutil.py:423\u001b[0m, in \u001b[0;36mwalk_and_modify\u001b[0;34m(top, callback, ignore_implicit_conversion, postorder, _context)\u001b[0m\n\u001b[1;32m    420\u001b[0m     _context \u001b[38;5;241m=\u001b[39m _TreeModificationContext()\n\u001b[1;32m    422\u001b[0m \u001b[38;5;28;01mwith\u001b[39;00m _context:\n\u001b[0;32m--> 423\u001b[0m     \u001b[38;5;28;01mreturn\u001b[39;00m \u001b[43m_recurse\u001b[49m\u001b[43m(\u001b[49m\u001b[43mtop\u001b[49m\u001b[43m)\u001b[49m\n",
      "File \u001b[0;32m~/opt/anaconda3/envs/rb6/lib/python3.9/site-packages/asdf/treeutil.py:410\u001b[0m, in \u001b[0;36mwalk_and_modify.<locals>._recurse\u001b[0;34m(node, json_id)\u001b[0m\n\u001b[1;32m    406\u001b[0m     \u001b[38;5;28;01melse\u001b[39;00m:\n\u001b[1;32m    407\u001b[0m         \u001b[38;5;66;03m# Otherwise, invoke the callback on the node first,\u001b[39;00m\n\u001b[1;32m    408\u001b[0m         \u001b[38;5;66;03m# then its children.\u001b[39;00m\n\u001b[1;32m    409\u001b[0m         result \u001b[38;5;241m=\u001b[39m _handle_callback(node, json_id)\n\u001b[0;32m--> 410\u001b[0m         result \u001b[38;5;241m=\u001b[39m \u001b[43m_handle_children\u001b[49m\u001b[43m(\u001b[49m\u001b[43mresult\u001b[49m\u001b[43m,\u001b[49m\u001b[43m \u001b[49m\u001b[43mjson_id\u001b[49m\u001b[43m)\u001b[49m\n\u001b[1;32m    412\u001b[0m \u001b[38;5;66;03m# Store the result in the context, in case there are\u001b[39;00m\n\u001b[1;32m    413\u001b[0m \u001b[38;5;66;03m# additional references to the same node elsewhere in\u001b[39;00m\n\u001b[1;32m    414\u001b[0m \u001b[38;5;66;03m# the tree.\u001b[39;00m\n\u001b[1;32m    415\u001b[0m _context[node] \u001b[38;5;241m=\u001b[39m result\n",
      "File \u001b[0;32m~/opt/anaconda3/envs/rb6/lib/python3.9/site-packages/asdf/treeutil.py:380\u001b[0m, in \u001b[0;36mwalk_and_modify.<locals>._handle_children\u001b[0;34m(node, json_id)\u001b[0m\n\u001b[1;32m    377\u001b[0m \u001b[38;5;28;01melse\u001b[39;00m:\n\u001b[1;32m    378\u001b[0m     result \u001b[38;5;241m=\u001b[39m node\n\u001b[0;32m--> 380\u001b[0m \u001b[38;5;28;01mreturn\u001b[39;00m \u001b[43m_handle_generator\u001b[49m\u001b[43m(\u001b[49m\u001b[43mresult\u001b[49m\u001b[43m)\u001b[49m\n",
      "File \u001b[0;32m~/opt/anaconda3/envs/rb6/lib/python3.9/site-packages/asdf/treeutil.py:278\u001b[0m, in \u001b[0;36mwalk_and_modify.<locals>._handle_generator\u001b[0;34m(result)\u001b[0m\n\u001b[1;32m    276\u001b[0m \u001b[38;5;28;01mif\u001b[39;00m \u001b[38;5;28misinstance\u001b[39m(result, types\u001b[38;5;241m.\u001b[39mGeneratorType):\n\u001b[1;32m    277\u001b[0m     generator \u001b[38;5;241m=\u001b[39m result\n\u001b[0;32m--> 278\u001b[0m     result \u001b[38;5;241m=\u001b[39m \u001b[38;5;28;43mnext\u001b[39;49m\u001b[43m(\u001b[49m\u001b[43mgenerator\u001b[49m\u001b[43m)\u001b[49m\n\u001b[1;32m    279\u001b[0m     _context\u001b[38;5;241m.\u001b[39madd_generator(generator)\n\u001b[1;32m    281\u001b[0m \u001b[38;5;28;01mreturn\u001b[39;00m result\n",
      "File \u001b[0;32m~/opt/anaconda3/envs/rb6/lib/python3.9/site-packages/asdf/treeutil.py:306\u001b[0m, in \u001b[0;36mwalk_and_modify.<locals>._handle_mapping\u001b[0;34m(node, json_id)\u001b[0m\n\u001b[1;32m    304\u001b[0m     result[key] \u001b[38;5;241m=\u001b[39m PendingValue\n\u001b[1;32m    305\u001b[0m \u001b[38;5;28;01melse\u001b[39;00m:\n\u001b[0;32m--> 306\u001b[0m     value \u001b[38;5;241m=\u001b[39m \u001b[43m_recurse\u001b[49m\u001b[43m(\u001b[49m\u001b[43mvalue\u001b[49m\u001b[43m,\u001b[49m\u001b[43m \u001b[49m\u001b[43mjson_id\u001b[49m\u001b[43m)\u001b[49m\n\u001b[1;32m    307\u001b[0m     \u001b[38;5;28;01mif\u001b[39;00m value \u001b[38;5;129;01mis\u001b[39;00m \u001b[38;5;129;01mnot\u001b[39;00m RemoveNode:\n\u001b[1;32m    308\u001b[0m         result[key] \u001b[38;5;241m=\u001b[39m value\n",
      "File \u001b[0;32m~/opt/anaconda3/envs/rb6/lib/python3.9/site-packages/asdf/treeutil.py:410\u001b[0m, in \u001b[0;36mwalk_and_modify.<locals>._recurse\u001b[0;34m(node, json_id)\u001b[0m\n\u001b[1;32m    406\u001b[0m     \u001b[38;5;28;01melse\u001b[39;00m:\n\u001b[1;32m    407\u001b[0m         \u001b[38;5;66;03m# Otherwise, invoke the callback on the node first,\u001b[39;00m\n\u001b[1;32m    408\u001b[0m         \u001b[38;5;66;03m# then its children.\u001b[39;00m\n\u001b[1;32m    409\u001b[0m         result \u001b[38;5;241m=\u001b[39m _handle_callback(node, json_id)\n\u001b[0;32m--> 410\u001b[0m         result \u001b[38;5;241m=\u001b[39m \u001b[43m_handle_children\u001b[49m\u001b[43m(\u001b[49m\u001b[43mresult\u001b[49m\u001b[43m,\u001b[49m\u001b[43m \u001b[49m\u001b[43mjson_id\u001b[49m\u001b[43m)\u001b[49m\n\u001b[1;32m    412\u001b[0m \u001b[38;5;66;03m# Store the result in the context, in case there are\u001b[39;00m\n\u001b[1;32m    413\u001b[0m \u001b[38;5;66;03m# additional references to the same node elsewhere in\u001b[39;00m\n\u001b[1;32m    414\u001b[0m \u001b[38;5;66;03m# the tree.\u001b[39;00m\n\u001b[1;32m    415\u001b[0m _context[node] \u001b[38;5;241m=\u001b[39m result\n",
      "File \u001b[0;32m~/opt/anaconda3/envs/rb6/lib/python3.9/site-packages/asdf/treeutil.py:380\u001b[0m, in \u001b[0;36mwalk_and_modify.<locals>._handle_children\u001b[0;34m(node, json_id)\u001b[0m\n\u001b[1;32m    377\u001b[0m \u001b[38;5;28;01melse\u001b[39;00m:\n\u001b[1;32m    378\u001b[0m     result \u001b[38;5;241m=\u001b[39m node\n\u001b[0;32m--> 380\u001b[0m \u001b[38;5;28;01mreturn\u001b[39;00m \u001b[43m_handle_generator\u001b[49m\u001b[43m(\u001b[49m\u001b[43mresult\u001b[49m\u001b[43m)\u001b[49m\n",
      "File \u001b[0;32m~/opt/anaconda3/envs/rb6/lib/python3.9/site-packages/asdf/treeutil.py:278\u001b[0m, in \u001b[0;36mwalk_and_modify.<locals>._handle_generator\u001b[0;34m(result)\u001b[0m\n\u001b[1;32m    276\u001b[0m \u001b[38;5;28;01mif\u001b[39;00m \u001b[38;5;28misinstance\u001b[39m(result, types\u001b[38;5;241m.\u001b[39mGeneratorType):\n\u001b[1;32m    277\u001b[0m     generator \u001b[38;5;241m=\u001b[39m result\n\u001b[0;32m--> 278\u001b[0m     result \u001b[38;5;241m=\u001b[39m \u001b[38;5;28;43mnext\u001b[39;49m\u001b[43m(\u001b[49m\u001b[43mgenerator\u001b[49m\u001b[43m)\u001b[49m\n\u001b[1;32m    279\u001b[0m     _context\u001b[38;5;241m.\u001b[39madd_generator(generator)\n\u001b[1;32m    281\u001b[0m \u001b[38;5;28;01mreturn\u001b[39;00m result\n",
      "File \u001b[0;32m~/opt/anaconda3/envs/rb6/lib/python3.9/site-packages/asdf/treeutil.py:306\u001b[0m, in \u001b[0;36mwalk_and_modify.<locals>._handle_mapping\u001b[0;34m(node, json_id)\u001b[0m\n\u001b[1;32m    304\u001b[0m     result[key] \u001b[38;5;241m=\u001b[39m PendingValue\n\u001b[1;32m    305\u001b[0m \u001b[38;5;28;01melse\u001b[39;00m:\n\u001b[0;32m--> 306\u001b[0m     value \u001b[38;5;241m=\u001b[39m \u001b[43m_recurse\u001b[49m\u001b[43m(\u001b[49m\u001b[43mvalue\u001b[49m\u001b[43m,\u001b[49m\u001b[43m \u001b[49m\u001b[43mjson_id\u001b[49m\u001b[43m)\u001b[49m\n\u001b[1;32m    307\u001b[0m     \u001b[38;5;28;01mif\u001b[39;00m value \u001b[38;5;129;01mis\u001b[39;00m \u001b[38;5;129;01mnot\u001b[39;00m RemoveNode:\n\u001b[1;32m    308\u001b[0m         result[key] \u001b[38;5;241m=\u001b[39m value\n",
      "File \u001b[0;32m~/opt/anaconda3/envs/rb6/lib/python3.9/site-packages/asdf/treeutil.py:409\u001b[0m, in \u001b[0;36mwalk_and_modify.<locals>._recurse\u001b[0;34m(node, json_id)\u001b[0m\n\u001b[1;32m    405\u001b[0m         result \u001b[38;5;241m=\u001b[39m _handle_callback(result, json_id)\n\u001b[1;32m    406\u001b[0m     \u001b[38;5;28;01melse\u001b[39;00m:\n\u001b[1;32m    407\u001b[0m         \u001b[38;5;66;03m# Otherwise, invoke the callback on the node first,\u001b[39;00m\n\u001b[1;32m    408\u001b[0m         \u001b[38;5;66;03m# then its children.\u001b[39;00m\n\u001b[0;32m--> 409\u001b[0m         result \u001b[38;5;241m=\u001b[39m \u001b[43m_handle_callback\u001b[49m\u001b[43m(\u001b[49m\u001b[43mnode\u001b[49m\u001b[43m,\u001b[49m\u001b[43m \u001b[49m\u001b[43mjson_id\u001b[49m\u001b[43m)\u001b[49m\n\u001b[1;32m    410\u001b[0m         result \u001b[38;5;241m=\u001b[39m _handle_children(result, json_id)\n\u001b[1;32m    412\u001b[0m \u001b[38;5;66;03m# Store the result in the context, in case there are\u001b[39;00m\n\u001b[1;32m    413\u001b[0m \u001b[38;5;66;03m# additional references to the same node elsewhere in\u001b[39;00m\n\u001b[1;32m    414\u001b[0m \u001b[38;5;66;03m# the tree.\u001b[39;00m\n",
      "File \u001b[0;32m~/opt/anaconda3/envs/rb6/lib/python3.9/site-packages/asdf/treeutil.py:285\u001b[0m, in \u001b[0;36mwalk_and_modify.<locals>._handle_callback\u001b[0;34m(node, json_id)\u001b[0m\n\u001b[1;32m    283\u001b[0m \u001b[38;5;28;01mdef\u001b[39;00m \u001b[38;5;21m_handle_callback\u001b[39m(node, json_id):\n\u001b[1;32m    284\u001b[0m     \u001b[38;5;28;01mif\u001b[39;00m callback_arity \u001b[38;5;241m==\u001b[39m \u001b[38;5;241m1\u001b[39m:\n\u001b[0;32m--> 285\u001b[0m         result \u001b[38;5;241m=\u001b[39m \u001b[43mcallback\u001b[49m\u001b[43m(\u001b[49m\u001b[43mnode\u001b[49m\u001b[43m)\u001b[49m\n\u001b[1;32m    286\u001b[0m     \u001b[38;5;28;01melse\u001b[39;00m:\n\u001b[1;32m    287\u001b[0m         result \u001b[38;5;241m=\u001b[39m callback(node, json_id)\n",
      "File \u001b[0;32m~/opt/anaconda3/envs/rb6/lib/python3.9/site-packages/asdf/yamlutil.py:258\u001b[0m, in \u001b[0;36mcustom_tree_to_tagged_tree.<locals>._walker\u001b[0;34m(obj)\u001b[0m\n\u001b[1;32m    253\u001b[0m tag \u001b[38;5;241m=\u001b[39m ctx\u001b[38;5;241m.\u001b[39mtype_index\u001b[38;5;241m.\u001b[39mfrom_custom_type(\n\u001b[1;32m    254\u001b[0m     \u001b[38;5;28mtype\u001b[39m(obj), ctx\u001b[38;5;241m.\u001b[39mversion_string, _serialization_context\u001b[38;5;241m=\u001b[39m_serialization_context\n\u001b[1;32m    255\u001b[0m )\n\u001b[1;32m    257\u001b[0m \u001b[38;5;28;01mif\u001b[39;00m tag \u001b[38;5;129;01mis\u001b[39;00m \u001b[38;5;129;01mnot\u001b[39;00m \u001b[38;5;28;01mNone\u001b[39;00m:\n\u001b[0;32m--> 258\u001b[0m     \u001b[38;5;28;01mreturn\u001b[39;00m \u001b[43mtag\u001b[49m\u001b[38;5;241;43m.\u001b[39;49m\u001b[43mto_tree_tagged\u001b[49m\u001b[43m(\u001b[49m\u001b[43mobj\u001b[49m\u001b[43m,\u001b[49m\u001b[43m \u001b[49m\u001b[43mctx\u001b[49m\u001b[43m)\u001b[49m\n\u001b[1;32m    259\u001b[0m \u001b[38;5;28;01mreturn\u001b[39;00m obj\n",
      "File \u001b[0;32m~/opt/anaconda3/envs/rb6/lib/python3.9/site-packages/asdf/types.py:296\u001b[0m, in \u001b[0;36mExtensionType.to_tree_tagged\u001b[0;34m(cls, node, ctx)\u001b[0m\n\u001b[1;32m    273\u001b[0m \u001b[38;5;129m@classmethod\u001b[39m\n\u001b[1;32m    274\u001b[0m \u001b[38;5;28;01mdef\u001b[39;00m \u001b[38;5;21mto_tree_tagged\u001b[39m(\u001b[38;5;28mcls\u001b[39m, node, ctx):\n\u001b[1;32m    275\u001b[0m     \u001b[38;5;124;03m\"\"\"\u001b[39;00m\n\u001b[1;32m    276\u001b[0m \u001b[38;5;124;03m    Converts instances of custom types into tagged objects.\u001b[39;00m\n\u001b[1;32m    277\u001b[0m \n\u001b[0;32m   (...)\u001b[0m\n\u001b[1;32m    294\u001b[0m \u001b[38;5;124;03m        An instance of `asdf.tagged.Tagged`.\u001b[39;00m\n\u001b[1;32m    295\u001b[0m \u001b[38;5;124;03m    \"\"\"\u001b[39;00m\n\u001b[0;32m--> 296\u001b[0m     obj \u001b[38;5;241m=\u001b[39m \u001b[38;5;28;43mcls\u001b[39;49m\u001b[38;5;241;43m.\u001b[39;49m\u001b[43mto_tree\u001b[49m\u001b[43m(\u001b[49m\u001b[43mnode\u001b[49m\u001b[43m,\u001b[49m\u001b[43m \u001b[49m\u001b[43mctx\u001b[49m\u001b[43m)\u001b[49m\n\u001b[1;32m    297\u001b[0m     \u001b[38;5;28;01mreturn\u001b[39;00m tagged\u001b[38;5;241m.\u001b[39mtag_object(\u001b[38;5;28mcls\u001b[39m\u001b[38;5;241m.\u001b[39myaml_tag, obj, ctx\u001b[38;5;241m=\u001b[39mctx)\n",
      "File \u001b[0;32m~/opt/anaconda3/envs/rb6/lib/python3.9/site-packages/asdf/tags/core/ndarray.py:420\u001b[0m, in \u001b[0;36mNDArrayType.to_tree\u001b[0;34m(cls, data, ctx)\u001b[0m\n\u001b[1;32m    415\u001b[0m \u001b[38;5;129m@classmethod\u001b[39m\n\u001b[1;32m    416\u001b[0m \u001b[38;5;28;01mdef\u001b[39;00m \u001b[38;5;21mto_tree\u001b[39m(\u001b[38;5;28mcls\u001b[39m, data, ctx):\n\u001b[1;32m    417\u001b[0m     \u001b[38;5;66;03m# The ndarray-1.0.0 schema does not permit 0 valued strides.\u001b[39;00m\n\u001b[1;32m    418\u001b[0m     \u001b[38;5;66;03m# Perhaps we'll want to allow this someday, to efficiently\u001b[39;00m\n\u001b[1;32m    419\u001b[0m     \u001b[38;5;66;03m# represent an array of all the same value.\u001b[39;00m\n\u001b[0;32m--> 420\u001b[0m     \u001b[38;5;28;01mif\u001b[39;00m \u001b[38;5;28many\u001b[39m(stride \u001b[38;5;241m==\u001b[39m \u001b[38;5;241m0\u001b[39m \u001b[38;5;28;01mfor\u001b[39;00m stride \u001b[38;5;129;01min\u001b[39;00m \u001b[43mdata\u001b[49m\u001b[38;5;241;43m.\u001b[39;49m\u001b[43mstrides\u001b[49m):\n\u001b[1;32m    421\u001b[0m         data \u001b[38;5;241m=\u001b[39m np\u001b[38;5;241m.\u001b[39mascontiguousarray(data)\n\u001b[1;32m    423\u001b[0m     \u001b[38;5;66;03m# The view computations that follow assume that the base array\u001b[39;00m\n\u001b[1;32m    424\u001b[0m     \u001b[38;5;66;03m# is contiguous.  If not, we need to make a copy to avoid\u001b[39;00m\n\u001b[1;32m    425\u001b[0m     \u001b[38;5;66;03m# writing a nonsense view.\u001b[39;00m\n",
      "File \u001b[0;32m~/opt/anaconda3/envs/rb6/lib/python3.9/site-packages/asdf/tags/core/ndarray.py:355\u001b[0m, in \u001b[0;36mNDArrayType.__getattr__\u001b[0;34m(self, attr)\u001b[0m\n\u001b[1;32m    353\u001b[0m \u001b[38;5;28;01mif\u001b[39;00m attr \u001b[38;5;241m==\u001b[39m \u001b[38;5;124m\"\u001b[39m\u001b[38;5;124m__array_struct__\u001b[39m\u001b[38;5;124m\"\u001b[39m:\n\u001b[1;32m    354\u001b[0m     \u001b[38;5;28;01mraise\u001b[39;00m \u001b[38;5;167;01mAttributeError\u001b[39;00m()\n\u001b[0;32m--> 355\u001b[0m \u001b[38;5;28;01mreturn\u001b[39;00m \u001b[38;5;28mgetattr\u001b[39m(\u001b[38;5;28;43mself\u001b[39;49m\u001b[38;5;241;43m.\u001b[39;49m\u001b[43m_make_array\u001b[49m\u001b[43m(\u001b[49m\u001b[43m)\u001b[49m, attr)\n",
      "File \u001b[0;32m~/opt/anaconda3/envs/rb6/lib/python3.9/site-packages/asdf/tags/core/ndarray.py:255\u001b[0m, in \u001b[0;36mNDArrayType._make_array\u001b[0;34m(self)\u001b[0m\n\u001b[1;32m    252\u001b[0m         \u001b[38;5;28mself\u001b[39m\u001b[38;5;241m.\u001b[39m_array \u001b[38;5;241m=\u001b[39m \u001b[38;5;28;01mNone\u001b[39;00m\n\u001b[1;32m    254\u001b[0m \u001b[38;5;28;01mif\u001b[39;00m \u001b[38;5;28mself\u001b[39m\u001b[38;5;241m.\u001b[39m_array \u001b[38;5;129;01mis\u001b[39;00m \u001b[38;5;28;01mNone\u001b[39;00m:\n\u001b[0;32m--> 255\u001b[0m     block \u001b[38;5;241m=\u001b[39m \u001b[38;5;28;43mself\u001b[39;49m\u001b[38;5;241;43m.\u001b[39;49m\u001b[43mblock\u001b[49m\n\u001b[1;32m    256\u001b[0m     shape \u001b[38;5;241m=\u001b[39m \u001b[38;5;28mself\u001b[39m\u001b[38;5;241m.\u001b[39mget_actual_shape(\u001b[38;5;28mself\u001b[39m\u001b[38;5;241m.\u001b[39m_shape, \u001b[38;5;28mself\u001b[39m\u001b[38;5;241m.\u001b[39m_strides, \u001b[38;5;28mself\u001b[39m\u001b[38;5;241m.\u001b[39m_dtype, \u001b[38;5;28mlen\u001b[39m(block))\n\u001b[1;32m    258\u001b[0m     \u001b[38;5;28;01mif\u001b[39;00m block\u001b[38;5;241m.\u001b[39mtrust_data_dtype:\n",
      "File \u001b[0;32m~/opt/anaconda3/envs/rb6/lib/python3.9/site-packages/asdf/tags/core/ndarray.py:375\u001b[0m, in \u001b[0;36mNDArrayType.__getattribute__\u001b[0;34m(self, name)\u001b[0m\n\u001b[1;32m    373\u001b[0m     \u001b[38;5;28;01mraise\u001b[39;00m \u001b[38;5;167;01mAttributeError\u001b[39;00m(\u001b[38;5;124mf\u001b[39m\u001b[38;5;124m\"\u001b[39m\u001b[38;5;124m'\u001b[39m\u001b[38;5;132;01m{\u001b[39;00m\u001b[38;5;28mself\u001b[39m\u001b[38;5;241m.\u001b[39m\u001b[38;5;18m__class__\u001b[39m\u001b[38;5;241m.\u001b[39mname\u001b[38;5;132;01m}\u001b[39;00m\u001b[38;5;124m'\u001b[39m\u001b[38;5;124m object has no attribute \u001b[39m\u001b[38;5;124m'\u001b[39m\u001b[38;5;132;01m{\u001b[39;00mname\u001b[38;5;132;01m}\u001b[39;00m\u001b[38;5;124m'\u001b[39m\u001b[38;5;124m\"\u001b[39m)\n\u001b[1;32m    374\u001b[0m \u001b[38;5;28;01melse\u001b[39;00m:\n\u001b[0;32m--> 375\u001b[0m     \u001b[38;5;28;01mreturn\u001b[39;00m \u001b[38;5;28;43msuper\u001b[39;49m\u001b[43m(\u001b[49m\u001b[43m)\u001b[49m\u001b[38;5;241;43m.\u001b[39;49m\u001b[38;5;21;43m__getattribute__\u001b[39;49m\u001b[43m(\u001b[49m\u001b[43mname\u001b[49m\u001b[43m)\u001b[49m\n",
      "File \u001b[0;32m~/opt/anaconda3/envs/rb6/lib/python3.9/site-packages/asdf/tags/core/ndarray.py:325\u001b[0m, in \u001b[0;36mNDArrayType.block\u001b[0;34m(self)\u001b[0m\n\u001b[1;32m    322\u001b[0m \u001b[38;5;129m@property\u001b[39m\n\u001b[1;32m    323\u001b[0m \u001b[38;5;28;01mdef\u001b[39;00m \u001b[38;5;21mblock\u001b[39m(\u001b[38;5;28mself\u001b[39m):\n\u001b[1;32m    324\u001b[0m     \u001b[38;5;28;01mif\u001b[39;00m \u001b[38;5;28mself\u001b[39m\u001b[38;5;241m.\u001b[39m_block \u001b[38;5;129;01mis\u001b[39;00m \u001b[38;5;28;01mNone\u001b[39;00m:\n\u001b[0;32m--> 325\u001b[0m         \u001b[38;5;28mself\u001b[39m\u001b[38;5;241m.\u001b[39m_block \u001b[38;5;241m=\u001b[39m \u001b[38;5;28;43mself\u001b[39;49m\u001b[38;5;241;43m.\u001b[39;49m\u001b[43m_asdffile\u001b[49m\u001b[38;5;241;43m.\u001b[39;49m\u001b[43mblocks\u001b[49m\u001b[38;5;241;43m.\u001b[39;49m\u001b[43mget_block\u001b[49m\u001b[43m(\u001b[49m\u001b[38;5;28;43mself\u001b[39;49m\u001b[38;5;241;43m.\u001b[39;49m\u001b[43m_source\u001b[49m\u001b[43m)\u001b[49m\n\u001b[1;32m    326\u001b[0m     \u001b[38;5;28;01mreturn\u001b[39;00m \u001b[38;5;28mself\u001b[39m\u001b[38;5;241m.\u001b[39m_block\n",
      "File \u001b[0;32m~/opt/anaconda3/envs/rb6/lib/python3.9/site-packages/asdf/block.py:664\u001b[0m, in \u001b[0;36mBlockManager.get_block\u001b[0;34m(self, source)\u001b[0m\n\u001b[1;32m    661\u001b[0m     \u001b[38;5;28;01mif\u001b[39;00m source \u001b[38;5;241m==\u001b[39m \u001b[38;5;241m-\u001b[39m\u001b[38;5;241m1\u001b[39m \u001b[38;5;129;01mand\u001b[39;00m last_block\u001b[38;5;241m.\u001b[39marray_storage \u001b[38;5;241m==\u001b[39m \u001b[38;5;124m\"\u001b[39m\u001b[38;5;124mstreamed\u001b[39m\u001b[38;5;124m\"\u001b[39m:\n\u001b[1;32m    662\u001b[0m         \u001b[38;5;28;01mreturn\u001b[39;00m last_block\n\u001b[0;32m--> 664\u001b[0m     \u001b[38;5;28;01mraise\u001b[39;00m \u001b[38;5;167;01mValueError\u001b[39;00m(\u001b[38;5;124m\"\u001b[39m\u001b[38;5;124mBlock \u001b[39m\u001b[38;5;124m'\u001b[39m\u001b[38;5;132;01m{0}\u001b[39;00m\u001b[38;5;124m'\u001b[39m\u001b[38;5;124m not found.\u001b[39m\u001b[38;5;124m\"\u001b[39m\u001b[38;5;241m.\u001b[39mformat(source))\n\u001b[1;32m    666\u001b[0m \u001b[38;5;28;01melif\u001b[39;00m \u001b[38;5;28misinstance\u001b[39m(source, \u001b[38;5;28mstr\u001b[39m):\n\u001b[1;32m    667\u001b[0m     asdffile \u001b[38;5;241m=\u001b[39m \u001b[38;5;28mself\u001b[39m\u001b[38;5;241m.\u001b[39m_asdffile()\u001b[38;5;241m.\u001b[39mopen_external(source)\n",
      "\u001b[0;31mValueError\u001b[0m: Block '8' not found."
     ]
    }
   ],
   "source": [
    "af = asdf.open('r002_assign_wcs.asdf', mode='rw')\n",
    "af['roman']['data'][0, 0]=0\n",
    "#af.write_to('r002_modified.asdf')\n",
    "af.close()\n",
    "af = asdf.open('r002_assign_wcs.asdf')\n",
    "af['roman']['data']\n",
    "af.write_to('todel.asdf')"
   ]
  },
  {
   "cell_type": "markdown",
   "id": "29eb3e05",
   "metadata": {},
   "source": [
    "#### Adding History items\n",
    "\n",
    "ASDF files have a *History* field which stores information abou tthe software used to reate the file, including all custom extensions."
   ]
  },
  {
   "cell_type": "code",
   "execution_count": 23,
   "id": "b5b0e783",
   "metadata": {},
   "outputs": [
    {
     "data": {
      "text/plain": [
       "{'extensions': [{'extension_class': 'asdf.extension._manifest.ManifestExtension',\n",
       "   'extension_uri': 'asdf://asdf-format.org/transform/extensions/transform-1.5.0',\n",
       "   'software': {'name': 'asdf-astropy', 'version': '0.2.1'}},\n",
       "  {'extension_class': 'asdf.extension.BuiltinExtension',\n",
       "   'software': {'name': 'asdf', 'version': '2.11.2.dev13+gf9aeb247'}},\n",
       "  {'extension_class': 'asdf.extension._manifest.ManifestExtension',\n",
       "   'extension_uri': 'asdf://asdf-format.org/astronomy/gwcs/extensions/gwcs-1.0.0',\n",
       "   'software': {'name': 'gwcs', 'version': '0.18.1'}},\n",
       "  {'extension_class': 'asdf.extension._manifest.ManifestExtension',\n",
       "   'extension_uri': 'asdf://stsci.edu/datamodels/roman/extensions/datamodels-1.0',\n",
       "   'software': {'name': 'roman-datamodels', 'version': '0.12.2'}},\n",
       "  {'extension_class': 'asdf.extension._manifest.ManifestExtension',\n",
       "   'extension_uri': 'asdf://asdf-format.org/core/extensions/core-1.5.0',\n",
       "   'software': {'name': 'asdf-astropy', 'version': '0.2.1'}},\n",
       "  {'extension_class': 'asdf.extension._manifest.ManifestExtension',\n",
       "   'extension_uri': 'asdf://asdf-format.org/astronomy/coordinates/extensions/coordinates-1.0.0',\n",
       "   'software': {'name': 'asdf-astropy', 'version': '0.2.1'}}]}"
      ]
     },
     "execution_count": 23,
     "metadata": {},
     "output_type": "execute_result"
    }
   ],
   "source": [
    "af['history']"
   ]
  },
  {
   "cell_type": "code",
   "execution_count": 25,
   "id": "6c77ed21",
   "metadata": {},
   "outputs": [],
   "source": [
    "af.add_history_entry(\"This file was reflects the state of the ROman pipeline on Jun 20, 2022\")"
   ]
  },
  {
   "cell_type": "code",
   "execution_count": 27,
   "id": "6c4b7555",
   "metadata": {},
   "outputs": [
    {
     "data": {
      "text/plain": [
       "{'extensions': [{'extension_class': 'asdf.extension._manifest.ManifestExtension',\n",
       "   'extension_uri': 'asdf://asdf-format.org/transform/extensions/transform-1.5.0',\n",
       "   'software': {'name': 'asdf-astropy', 'version': '0.2.1'}},\n",
       "  {'extension_class': 'asdf.extension.BuiltinExtension',\n",
       "   'software': {'name': 'asdf', 'version': '2.11.2.dev13+gf9aeb247'}},\n",
       "  {'extension_class': 'asdf.extension._manifest.ManifestExtension',\n",
       "   'extension_uri': 'asdf://asdf-format.org/astronomy/gwcs/extensions/gwcs-1.0.0',\n",
       "   'software': {'name': 'gwcs', 'version': '0.18.1'}},\n",
       "  {'extension_class': 'asdf.extension._manifest.ManifestExtension',\n",
       "   'extension_uri': 'asdf://stsci.edu/datamodels/roman/extensions/datamodels-1.0',\n",
       "   'software': {'name': 'roman-datamodels', 'version': '0.12.2'}},\n",
       "  {'extension_class': 'asdf.extension._manifest.ManifestExtension',\n",
       "   'extension_uri': 'asdf://asdf-format.org/core/extensions/core-1.5.0',\n",
       "   'software': {'name': 'asdf-astropy', 'version': '0.2.1'}},\n",
       "  {'extension_class': 'asdf.extension._manifest.ManifestExtension',\n",
       "   'extension_uri': 'asdf://asdf-format.org/astronomy/coordinates/extensions/coordinates-1.0.0',\n",
       "   'software': {'name': 'asdf-astropy', 'version': '0.2.1'}}],\n",
       " 'entries': [{'description': 'This file was reflects the state of the ROman pipeline on Jun 20, 2022',\n",
       "   'time': datetime.datetime(2022, 6, 21, 12, 14, 33)}]}"
      ]
     },
     "execution_count": 27,
     "metadata": {},
     "output_type": "execute_result"
    }
   ],
   "source": [
    "af['history']"
   ]
  },
  {
   "cell_type": "code",
   "execution_count": null,
   "id": "311feaed",
   "metadata": {},
   "outputs": [],
   "source": []
  }
 ],
 "metadata": {
  "kernelspec": {
   "display_name": "Python 3 (ipykernel)",
   "language": "python",
   "name": "python3"
  },
  "language_info": {
   "codemirror_mode": {
    "name": "ipython",
    "version": 3
   },
   "file_extension": ".py",
   "mimetype": "text/x-python",
   "name": "python",
   "nbconvert_exporter": "python",
   "pygments_lexer": "ipython3",
   "version": "3.9.12"
  }
 },
 "nbformat": 4,
 "nbformat_minor": 5
}
